{
  "cells": [
    {
      "cell_type": "markdown",
      "metadata": {
        "id": "view-in-github",
        "colab_type": "text"
      },
      "source": [
        "<a href=\"https://colab.research.google.com/github/sccn/sound2meg/blob/main/Spatial_Attention.ipynb\" target=\"_parent\"><img src=\"https://colab.research.google.com/assets/colab-badge.svg\" alt=\"Open In Colab\"/></a>"
      ]
    },
    {
      "cell_type": "code",
      "execution_count": 1,
      "metadata": {
        "id": "DvwsUf4jh2bC"
      },
      "outputs": [],
      "source": [
        "import torch\n",
        "import os\n",
        "from torch.autograd import Variable\n",
        "import math\n",
        "import torch.nn as nn\n",
        "from torch.nn.parameter import Parameter\n",
        "import torch.optim as optim\n",
        "from scipy.io import loadmat\n",
        "from dataset_loading import Sound2MEGDataset\n",
        "from torch.utils.data import Dataset, DataLoader, random_split"
      ]
    },
    {
      "cell_type": "code",
      "execution_count": null,
      "metadata": {
        "id": "_u9lIf3RHd-2"
      },
      "outputs": [],
      "source": [
        "#import scipy.io\n",
        "#data = scipy.io.loadmat('/content/drive/MyDrive/data.mat')"
      ]
    },
    {
      "cell_type": "code",
      "execution_count": null,
      "metadata": {
        "colab": {
          "base_uri": "https://localhost:8080/"
        },
        "id": "1HN9qUTAH5Op",
        "outputId": "cd14bbbb-11a3-4807-84e4-6093c9036df3"
      },
      "outputs": [
        {
          "name": "stdout",
          "output_type": "stream",
          "text": [
            "(273, 360, 7)\n"
          ]
        }
      ],
      "source": [
        "#x = data['data']\n",
        "#x = x[:, 1:3600:10, :]\n",
        "#print(x.shape)   "
      ]
    },
    {
      "cell_type": "code",
      "execution_count": 2,
      "metadata": {
        "id": "COwyIOab8t9Q"
      },
      "outputs": [],
      "source": [
        "def cos_vector(k, K, x, y):\n",
        "  cos_v = torch.zeros(273, K)\n",
        "  for l in range(K):\n",
        "    cos_v[:,l] = torch.cos(2*math.pi*(k*x+l*y))\n",
        "  return cos_v\n",
        "def sin_vector(k, K, x, y):\n",
        "  sin_v = torch.zeros(273, K)\n",
        "  for l in range(K):\n",
        "    sin_v[:,l] = torch.sin(2*math.pi*(k*x+l*y))\n",
        "  return sin_v"
      ]
    },
    {
      "cell_type": "code",
      "execution_count": 3,
      "metadata": {
        "id": "EmBpvLtx8YwQ"
      },
      "outputs": [],
      "source": [
        "def SpatialAttentionFunc(in_channels, out_channels, X, z, K, cos, sin):\n",
        "  a = torch.randn(out_channels, in_channels)\n",
        "  #positions = loadmat('/content/drive/MyDrive/electrode_positions.mat')\n",
        "  #positions = positions['positions']\n",
        "  #x = torch.tensor(positions[:, 0])\n",
        "  #y = torch.tensor(positions[:, 1])\n",
        "  for j in range(out_channels):\n",
        "    cos_sum = torch.zeros(in_channels)\n",
        "    sin_sum = torch.zeros(in_channels)\n",
        "    for k in range(K):\n",
        "      z_r = z[j, k, :].real\n",
        "      z_r = z_r.unsqueeze(0)\n",
        "      z_i = z[j, k, :].imag\n",
        "      z_i = z_i.unsqueeze(0)      \n",
        "      #cos_k = torch.transpose(cos_vector(k, 32, x, y), 0, 1)\n",
        "      #sin_k = torch.transpose(sin_vector(k, 32, x, y), 0, 1)\n",
        "      cos_sum = cos_sum + torch.mm(z_r, cos[k])\n",
        "      sin_sum = sin_sum + torch.mm(z_i, sin[k])\n",
        "    a[j, :] = cos_sum + sin_sum \n",
        "  SA = torch.randn(out_channels, 360)\n",
        "  for j in range(out_channels):\n",
        "    exp1 = torch.mm(torch.exp(a[j, :]).unsqueeze(0), X)\n",
        "    exp2 = torch.sum(torch.exp(a[j, 0:out_channels]))\n",
        "    SA[j] = exp1/exp2\n",
        "  return SA"
      ]
    },
    {
      "cell_type": "code",
      "source": [
        "class SubjectLayer(nn.Module):\n",
        "  def __init__(self):\n",
        "    super(SubjectLayer, self).__init__()\n",
        "    self.layers = []\n",
        "\n",
        "    for i in range(124): #124 subjects\n",
        "      layer = nn.Conv2d(270, 270, 1)\n",
        "      self.layers.append(layer)\n",
        "      \n",
        "  def forward(self, x, s_idx):\n",
        "    for i in range(len(x)):\n",
        "      x[i] = self.layers[s_idx[i]](x[i].clone())\n",
        "    return x"
      ],
      "metadata": {
        "id": "FDzJZiF43zYh"
      },
      "execution_count": 4,
      "outputs": []
    },
    {
      "cell_type": "code",
      "source": [
        "subject = SubjectLayer()\n",
        "\n",
        "x = torch.randn(3, 270, 360, 1)\n",
        "\n",
        "print(x.shape)\n",
        "output = subject(x, [0, 1, 2, 3])\n",
        "print(output.shape)"
      ],
      "metadata": {
        "colab": {
          "base_uri": "https://localhost:8080/"
        },
        "id": "c0_iNhxsSaGu",
        "outputId": "052e31c6-5b97-4da0-f1c3-2ba6ed555850"
      },
      "execution_count": null,
      "outputs": [
        {
          "output_type": "stream",
          "name": "stdout",
          "text": [
            "torch.Size([3, 270, 360, 1])\n",
            "torch.Size([3, 270, 360, 1])\n"
          ]
        }
      ]
    },
    {
      "cell_type": "code",
      "execution_count": 5,
      "metadata": {
        "id": "OLOFnXXq92XT"
      },
      "outputs": [],
      "source": [
        "class SpatialAttention(nn.Module):\n",
        "  def __init__(self,in_channels, out_channels, K, path):\n",
        "    super(SpatialAttention, self).__init__()\n",
        "    self.positions = loadmat(path + 'electrode_positions.mat')\n",
        "    self.positions = self.positions['positions']\n",
        "    self.x = torch.tensor(self.positions[:, 0])\n",
        "    self.y = torch.tensor(self.positions[:, 1])\n",
        "    self.cos = []\n",
        "    self.sin = []\n",
        "    for k in range(32):\n",
        "      self.cos.append(torch.transpose(cos_vector(k, 32, self.x, self.y), 0, 1))\n",
        "      self.sin.append(torch.transpose(sin_vector(k, 32, self.x, self.y), 0, 1))\n",
        "    self.out = out_channels\n",
        "    self.input = in_channels\n",
        "    self.K = K\n",
        "    self.z = Parameter(torch.randn(out_channels, K, K, dtype = torch.cfloat)/(32*32))\n",
        "    self.z.requiresGrad = True\n",
        "  def forward(self, X):\n",
        "    N = X.size()[0]\n",
        "    SA = torch.zeros(N, 270, 360)\n",
        "    for i in range(N):\n",
        "      SA[i] = SpatialAttentionFunc(self.input, self.out, X[i], self.z, self.K, self.cos, self.sin)\n",
        "    return SA"
      ]
    },
    {
      "cell_type": "code",
      "execution_count": 11,
      "metadata": {
        "id": "-eimM0SRDeMI"
      },
      "outputs": [],
      "source": [
        "class Net(nn.Module):\n",
        "  def __init__(self, path):\n",
        "    super(Net, self).__init__()\n",
        "    self.SA = SpatialAttention(273, 270, 32, path)\n",
        "    self.Subject = SubjectLayer()\n",
        "  def forward(self, y, s_idx):\n",
        "    x1 = self.SA(y).unsqueeze(0)\n",
        "    x2 = torch.permute(x1, (1, 2, 3, 0)) # subject attention?\n",
        "    x3 = nn.Conv2d(270, 270, (1, 1))(x2)\n",
        "    x = self.Subject(x3, s_idx)\n",
        "    for k in range(1,6):\n",
        "      p = pow(2,(2*k)%5)\n",
        "      q = pow(2,(2*k+1)%5)\n",
        "      if k == 1:\n",
        "        x = nn.Conv2d(270, 320, (3, 1), dilation = 1, padding = (1, 0))(x)\n",
        "        x = nn.BatchNorm2d(320)(x)\n",
        "        x = nn.GELU()(x)\n",
        "        x = nn.Conv2d(320, 320, (3, 1), dilation = 1, padding = (1, 0))(x)\n",
        "        x = nn.BatchNorm2d(320)(x)\n",
        "        x = nn.GELU()(x)\n",
        "        x = nn.Conv2d(320, 640, (3, 1), dilation = 2, padding = (2, 0))(x)\n",
        "        x = torch.transpose(x, 3, 1)\n",
        "        x = nn.GLU()(x)\n",
        "        x = torch.transpose(x, 3, 1)\n",
        "      else:\n",
        "        x1 = nn.Conv2d(320, 320, (3, 1), dilation = p, padding = (p, 0))(x)\n",
        "        x1 = nn.BatchNorm2d(320)(x1)\n",
        "        x1 = nn.GELU()(x1)\n",
        "        x2 = x + x1\n",
        "        x3 = nn.Conv2d(320, 320, (3, 1), dilation = q, padding = (q, 0))(x2)\n",
        "        x3 = nn.BatchNorm2d(320)(x3)\n",
        "        x3 = nn.GELU()(x3)\n",
        "        x4 = x2 + x2\n",
        "        x_out = nn.Conv2d(320, 640, (3, 1), dilation = 2, padding = (2, 0))(x4)\n",
        "        x_out = torch.transpose(x_out, 3, 1)\n",
        "        x_out = nn.GLU()(x_out)\n",
        "        x_out = torch.transpose(x_out, 3, 1)\n",
        "    x_out = nn.Conv2d(320, 640, (1, 1))(x_out)\n",
        "    x_out = nn.GELU()(x_out)\n",
        "    x_out = nn.Conv2d(640, 120, (1, 1))(x_out)\n",
        "    return x_out"
      ]
    },
    {
      "cell_type": "code",
      "execution_count": 12,
      "metadata": {
        "id": "4sRFl6_gWtYG"
      },
      "outputs": [],
      "source": [
        "def CLIP_loss(Z, Y):\n",
        "  N = Y.size(dim = 0)\n",
        "  inner_product = torch.zeros(N, N)\n",
        "  log_softmax = torch.zeros(N)\n",
        "  for i in range(N):\n",
        "    for j in range(N):\n",
        "      Z_row = torch.reshape(Z[i], (-1,))\n",
        "      Y_row = torch.reshape(Y[j], (-1,))\n",
        "      inner_product[i, j] = torch.dot(Z_row, Y_row)\n",
        "  for i in range(N):\n",
        "    inn = inner_product[i, :]\n",
        "    log_softmax[i] = torch.log(nn.functional.softmax(inn, -1))[i]\n",
        "  return sum(-1*log_softmax)"
      ]
    },
    {
      "cell_type": "code",
      "source": [
        "Dataset = Sound2MEGDataset('/content/drive/MyDrive/sound2meg/')\n",
        "training_data, validation_data, test_data = random_split(Dataset, [0.7, 0.2, 0.1], generator=torch.Generator().manual_seed(42))\n",
        "Training_Data_Batches = DataLoader(training_data, batch_size = 2, shuffle = True)\n",
        "BrainModule = Net('/content/drive/MyDrive/sound2meg/')\n",
        "optimizer = optim.Adam(BrainModule.parameters(), lr = 0.0003)\n",
        "loss_train = []\n",
        "loss_val = []\n",
        "for i in range(2):\n",
        "  loss_t = 0\n",
        "  for MEG, WAV, Sub in Training_Data_Batches:\n",
        "    Sub = Sub.tolist()\n",
        "    Z = BrainModule(MEG, Sub)\n",
        "    Z = Z[:, :, :, 0]\n",
        "    loss = CLIP_loss(Z, WAV.abs())\n",
        "    torch.autograd.set_detect_anomaly(True)\n",
        "    optimizer.zero_grad()\n",
        "    loss.backward()\n",
        "    loss_t = loss_t + loss.item()\n",
        "    optimizer.step()\n",
        "  loss_train.append(loss_t/len(training_data))"
      ],
      "metadata": {
        "id": "KJ5iCaaqHjAK",
        "outputId": "ae2358b8-afe1-4987-f3ac-943215af5831",
        "colab": {
          "base_uri": "https://localhost:8080/",
          "height": 397
        }
      },
      "execution_count": 13,
      "outputs": [
        {
          "output_type": "error",
          "ename": "KeyboardInterrupt",
          "evalue": "ignored",
          "traceback": [
            "\u001b[0;31m---------------------------------------------------------------------------\u001b[0m",
            "\u001b[0;31mKeyboardInterrupt\u001b[0m                         Traceback (most recent call last)",
            "\u001b[0;32m<ipython-input-13-0120e41df496>\u001b[0m in \u001b[0;36m<module>\u001b[0;34m\u001b[0m\n\u001b[1;32m     14\u001b[0m     \u001b[0mtorch\u001b[0m\u001b[0;34m.\u001b[0m\u001b[0mautograd\u001b[0m\u001b[0;34m.\u001b[0m\u001b[0mset_detect_anomaly\u001b[0m\u001b[0;34m(\u001b[0m\u001b[0;32mTrue\u001b[0m\u001b[0;34m)\u001b[0m\u001b[0;34m\u001b[0m\u001b[0;34m\u001b[0m\u001b[0m\n\u001b[1;32m     15\u001b[0m     \u001b[0moptimizer\u001b[0m\u001b[0;34m.\u001b[0m\u001b[0mzero_grad\u001b[0m\u001b[0;34m(\u001b[0m\u001b[0;34m)\u001b[0m\u001b[0;34m\u001b[0m\u001b[0;34m\u001b[0m\u001b[0m\n\u001b[0;32m---> 16\u001b[0;31m     \u001b[0mloss\u001b[0m\u001b[0;34m.\u001b[0m\u001b[0mbackward\u001b[0m\u001b[0;34m(\u001b[0m\u001b[0;34m)\u001b[0m\u001b[0;34m\u001b[0m\u001b[0;34m\u001b[0m\u001b[0m\n\u001b[0m\u001b[1;32m     17\u001b[0m     \u001b[0mprint\u001b[0m\u001b[0;34m(\u001b[0m\u001b[0mloss\u001b[0m\u001b[0;34m.\u001b[0m\u001b[0mitem\u001b[0m\u001b[0;34m(\u001b[0m\u001b[0;34m)\u001b[0m\u001b[0;34m)\u001b[0m\u001b[0;34m\u001b[0m\u001b[0;34m\u001b[0m\u001b[0m\n\u001b[1;32m     18\u001b[0m     \u001b[0moptimizer\u001b[0m\u001b[0;34m.\u001b[0m\u001b[0mstep\u001b[0m\u001b[0;34m(\u001b[0m\u001b[0;34m)\u001b[0m\u001b[0;34m\u001b[0m\u001b[0;34m\u001b[0m\u001b[0m\n",
            "\u001b[0;32m/usr/local/lib/python3.8/dist-packages/torch/_tensor.py\u001b[0m in \u001b[0;36mbackward\u001b[0;34m(self, gradient, retain_graph, create_graph, inputs)\u001b[0m\n\u001b[1;32m    486\u001b[0m                 \u001b[0minputs\u001b[0m\u001b[0;34m=\u001b[0m\u001b[0minputs\u001b[0m\u001b[0;34m,\u001b[0m\u001b[0;34m\u001b[0m\u001b[0;34m\u001b[0m\u001b[0m\n\u001b[1;32m    487\u001b[0m             )\n\u001b[0;32m--> 488\u001b[0;31m         torch.autograd.backward(\n\u001b[0m\u001b[1;32m    489\u001b[0m             \u001b[0mself\u001b[0m\u001b[0;34m,\u001b[0m \u001b[0mgradient\u001b[0m\u001b[0;34m,\u001b[0m \u001b[0mretain_graph\u001b[0m\u001b[0;34m,\u001b[0m \u001b[0mcreate_graph\u001b[0m\u001b[0;34m,\u001b[0m \u001b[0minputs\u001b[0m\u001b[0;34m=\u001b[0m\u001b[0minputs\u001b[0m\u001b[0;34m\u001b[0m\u001b[0;34m\u001b[0m\u001b[0m\n\u001b[1;32m    490\u001b[0m         )\n",
            "\u001b[0;32m/usr/local/lib/python3.8/dist-packages/torch/autograd/__init__.py\u001b[0m in \u001b[0;36mbackward\u001b[0;34m(tensors, grad_tensors, retain_graph, create_graph, grad_variables, inputs)\u001b[0m\n\u001b[1;32m    195\u001b[0m     \u001b[0;31m# some Python versions print out the first line of a multi-line function\u001b[0m\u001b[0;34m\u001b[0m\u001b[0;34m\u001b[0m\u001b[0;34m\u001b[0m\u001b[0m\n\u001b[1;32m    196\u001b[0m     \u001b[0;31m# calls in the traceback and some print out the last line\u001b[0m\u001b[0;34m\u001b[0m\u001b[0;34m\u001b[0m\u001b[0;34m\u001b[0m\u001b[0m\n\u001b[0;32m--> 197\u001b[0;31m     Variable._execution_engine.run_backward(  # Calls into the C++ engine to run the backward pass\n\u001b[0m\u001b[1;32m    198\u001b[0m         \u001b[0mtensors\u001b[0m\u001b[0;34m,\u001b[0m \u001b[0mgrad_tensors_\u001b[0m\u001b[0;34m,\u001b[0m \u001b[0mretain_graph\u001b[0m\u001b[0;34m,\u001b[0m \u001b[0mcreate_graph\u001b[0m\u001b[0;34m,\u001b[0m \u001b[0minputs\u001b[0m\u001b[0;34m,\u001b[0m\u001b[0;34m\u001b[0m\u001b[0;34m\u001b[0m\u001b[0m\n\u001b[1;32m    199\u001b[0m         allow_unreachable=True, accumulate_grad=True)  # Calls into the C++ engine to run the backward pass\n",
            "\u001b[0;31mKeyboardInterrupt\u001b[0m: "
          ]
        }
      ]
    },
    {
      "cell_type": "code",
      "source": [
        "print(len(validation_data))"
      ],
      "metadata": {
        "colab": {
          "base_uri": "https://localhost:8080/"
        },
        "id": "h-1bxwnlQLQS",
        "outputId": "b6f859c7-0635-4fa5-e753-02752a7181cd"
      },
      "execution_count": 34,
      "outputs": [
        {
          "output_type": "stream",
          "name": "stdout",
          "text": [
            "3285\n"
          ]
        }
      ]
    },
    {
      "cell_type": "code",
      "source": [
        "loss_v = 0\n",
        "for data in validation_data:\n",
        "  MEG = data[0]\n",
        "  WAV = data[1].abs()\n",
        "  Sub = data[2].tolist()\n",
        "  Z = BrainModule(MEG, Sub)\n",
        "  Z = Z[:, :, :, 0]\n",
        "  loss = CLIP_loss(Z, WAV)\n",
        "  loss_v = loss_v + loss.item()"
      ],
      "metadata": {
        "colab": {
          "base_uri": "https://localhost:8080/",
          "height": 415
        },
        "id": "FXhu04PTQZcz",
        "outputId": "ca606c16-fcae-4242-8f3c-4cae834dbe4c"
      },
      "execution_count": 36,
      "outputs": [
        {
          "output_type": "stream",
          "name": "stdout",
          "text": [
            "3\n",
            "3\n",
            "3\n",
            "3\n",
            "3\n"
          ]
        },
        {
          "output_type": "error",
          "ename": "KeyboardInterrupt",
          "evalue": "ignored",
          "traceback": [
            "\u001b[0;31m---------------------------------------------------------------------------\u001b[0m",
            "\u001b[0;31mKeyboardInterrupt\u001b[0m                         Traceback (most recent call last)",
            "\u001b[0;32m<ipython-input-36-279b257fc8a6>\u001b[0m in \u001b[0;36m<module>\u001b[0;34m\u001b[0m\n\u001b[0;32m----> 1\u001b[0;31m \u001b[0;32mfor\u001b[0m \u001b[0mdata\u001b[0m \u001b[0;32min\u001b[0m \u001b[0mvalidation_data\u001b[0m\u001b[0;34m:\u001b[0m\u001b[0;34m\u001b[0m\u001b[0;34m\u001b[0m\u001b[0m\n\u001b[0m\u001b[1;32m      2\u001b[0m   \u001b[0mprint\u001b[0m\u001b[0;34m(\u001b[0m\u001b[0mlen\u001b[0m\u001b[0;34m(\u001b[0m\u001b[0mdata\u001b[0m\u001b[0;34m)\u001b[0m\u001b[0;34m)\u001b[0m\u001b[0;34m\u001b[0m\u001b[0;34m\u001b[0m\u001b[0m\n",
            "\u001b[0;32m/usr/local/lib/python3.8/dist-packages/torch/utils/data/dataset.py\u001b[0m in \u001b[0;36m__getitem__\u001b[0;34m(self, idx)\u001b[0m\n\u001b[1;32m    293\u001b[0m         \u001b[0;32mif\u001b[0m \u001b[0misinstance\u001b[0m\u001b[0;34m(\u001b[0m\u001b[0midx\u001b[0m\u001b[0;34m,\u001b[0m \u001b[0mlist\u001b[0m\u001b[0;34m)\u001b[0m\u001b[0;34m:\u001b[0m\u001b[0;34m\u001b[0m\u001b[0;34m\u001b[0m\u001b[0m\n\u001b[1;32m    294\u001b[0m             \u001b[0;32mreturn\u001b[0m \u001b[0mself\u001b[0m\u001b[0;34m.\u001b[0m\u001b[0mdataset\u001b[0m\u001b[0;34m[\u001b[0m\u001b[0;34m[\u001b[0m\u001b[0mself\u001b[0m\u001b[0;34m.\u001b[0m\u001b[0mindices\u001b[0m\u001b[0;34m[\u001b[0m\u001b[0mi\u001b[0m\u001b[0;34m]\u001b[0m \u001b[0;32mfor\u001b[0m \u001b[0mi\u001b[0m \u001b[0;32min\u001b[0m \u001b[0midx\u001b[0m\u001b[0;34m]\u001b[0m\u001b[0;34m]\u001b[0m\u001b[0;34m\u001b[0m\u001b[0;34m\u001b[0m\u001b[0m\n\u001b[0;32m--> 295\u001b[0;31m         \u001b[0;32mreturn\u001b[0m \u001b[0mself\u001b[0m\u001b[0;34m.\u001b[0m\u001b[0mdataset\u001b[0m\u001b[0;34m[\u001b[0m\u001b[0mself\u001b[0m\u001b[0;34m.\u001b[0m\u001b[0mindices\u001b[0m\u001b[0;34m[\u001b[0m\u001b[0midx\u001b[0m\u001b[0;34m]\u001b[0m\u001b[0;34m]\u001b[0m\u001b[0;34m\u001b[0m\u001b[0;34m\u001b[0m\u001b[0m\n\u001b[0m\u001b[1;32m    296\u001b[0m \u001b[0;34m\u001b[0m\u001b[0m\n\u001b[1;32m    297\u001b[0m     \u001b[0;32mdef\u001b[0m \u001b[0m__len__\u001b[0m\u001b[0;34m(\u001b[0m\u001b[0mself\u001b[0m\u001b[0;34m)\u001b[0m\u001b[0;34m:\u001b[0m\u001b[0;34m\u001b[0m\u001b[0;34m\u001b[0m\u001b[0m\n",
            "\u001b[0;32m/content/dataset_loading.py\u001b[0m in \u001b[0;36m__getitem__\u001b[0;34m(self, idx)\u001b[0m\n\u001b[1;32m     24\u001b[0m         \u001b[0midx_file\u001b[0m \u001b[0;34m=\u001b[0m \u001b[0mi\u001b[0m                              \u001b[0;31m#For example, say the sizes of the mat files are [3, 5, 2]\u001b[0m\u001b[0;34m\u001b[0m\u001b[0;34m\u001b[0m\u001b[0m\n\u001b[1;32m     25\u001b[0m         \u001b[0;32mbreak\u001b[0m                                     \u001b[0;31m#Using the cummulative function, we get [3, 8, 10]\u001b[0m\u001b[0;34m\u001b[0m\u001b[0;34m\u001b[0m\u001b[0m\n\u001b[0;32m---> 26\u001b[0;31m     \u001b[0mmat_file\u001b[0m \u001b[0;34m=\u001b[0m \u001b[0mloadmat\u001b[0m\u001b[0;34m(\u001b[0m\u001b[0mself\u001b[0m\u001b[0;34m.\u001b[0m\u001b[0mpath\u001b[0m \u001b[0;34m+\u001b[0m \u001b[0;34m'mat_files/'\u001b[0m \u001b[0;34m+\u001b[0m \u001b[0mself\u001b[0m\u001b[0;34m.\u001b[0m\u001b[0mfilename\u001b[0m\u001b[0;34m[\u001b[0m\u001b[0midx_file\u001b[0m\u001b[0;34m]\u001b[0m\u001b[0;34m)\u001b[0m \u001b[0;31m#This tells that samples 0 to 2 are in the first file, 3 to 7 in the second and so on...\u001b[0m\u001b[0;34m\u001b[0m\u001b[0;34m\u001b[0m\u001b[0m\n\u001b[0m\u001b[1;32m     27\u001b[0m     \u001b[0;32mif\u001b[0m \u001b[0midx_file\u001b[0m \u001b[0;34m==\u001b[0m \u001b[0;36m0\u001b[0m\u001b[0;34m:\u001b[0m                             \u001b[0;31m#Accordingly, we see which sample is in which range by finding the smallest value in the cumsum larger than idx\u001b[0m\u001b[0;34m\u001b[0m\u001b[0;34m\u001b[0m\u001b[0m\n\u001b[1;32m     28\u001b[0m       \u001b[0midx_sound\u001b[0m \u001b[0;34m=\u001b[0m \u001b[0midx\u001b[0m\u001b[0;34m\u001b[0m\u001b[0;34m\u001b[0m\u001b[0m\n",
            "\u001b[0;32m/usr/local/lib/python3.8/dist-packages/scipy/io/matlab/mio.py\u001b[0m in \u001b[0;36mloadmat\u001b[0;34m(file_name, mdict, appendmat, **kwargs)\u001b[0m\n\u001b[1;32m    224\u001b[0m     \u001b[0;32mwith\u001b[0m \u001b[0m_open_file_context\u001b[0m\u001b[0;34m(\u001b[0m\u001b[0mfile_name\u001b[0m\u001b[0;34m,\u001b[0m \u001b[0mappendmat\u001b[0m\u001b[0;34m)\u001b[0m \u001b[0;32mas\u001b[0m \u001b[0mf\u001b[0m\u001b[0;34m:\u001b[0m\u001b[0;34m\u001b[0m\u001b[0;34m\u001b[0m\u001b[0m\n\u001b[1;32m    225\u001b[0m         \u001b[0mMR\u001b[0m\u001b[0;34m,\u001b[0m \u001b[0m_\u001b[0m \u001b[0;34m=\u001b[0m \u001b[0mmat_reader_factory\u001b[0m\u001b[0;34m(\u001b[0m\u001b[0mf\u001b[0m\u001b[0;34m,\u001b[0m \u001b[0;34m**\u001b[0m\u001b[0mkwargs\u001b[0m\u001b[0;34m)\u001b[0m\u001b[0;34m\u001b[0m\u001b[0;34m\u001b[0m\u001b[0m\n\u001b[0;32m--> 226\u001b[0;31m         \u001b[0mmatfile_dict\u001b[0m \u001b[0;34m=\u001b[0m \u001b[0mMR\u001b[0m\u001b[0;34m.\u001b[0m\u001b[0mget_variables\u001b[0m\u001b[0;34m(\u001b[0m\u001b[0mvariable_names\u001b[0m\u001b[0;34m)\u001b[0m\u001b[0;34m\u001b[0m\u001b[0;34m\u001b[0m\u001b[0m\n\u001b[0m\u001b[1;32m    227\u001b[0m \u001b[0;34m\u001b[0m\u001b[0m\n\u001b[1;32m    228\u001b[0m     \u001b[0;32mif\u001b[0m \u001b[0mmdict\u001b[0m \u001b[0;32mis\u001b[0m \u001b[0;32mnot\u001b[0m \u001b[0;32mNone\u001b[0m\u001b[0;34m:\u001b[0m\u001b[0;34m\u001b[0m\u001b[0;34m\u001b[0m\u001b[0m\n",
            "\u001b[0;32m/usr/local/lib/python3.8/dist-packages/scipy/io/matlab/mio5.py\u001b[0m in \u001b[0;36mget_variables\u001b[0;34m(self, variable_names)\u001b[0m\n\u001b[1;32m    330\u001b[0m                 \u001b[0;32mcontinue\u001b[0m\u001b[0;34m\u001b[0m\u001b[0;34m\u001b[0m\u001b[0m\n\u001b[1;32m    331\u001b[0m             \u001b[0;32mtry\u001b[0m\u001b[0;34m:\u001b[0m\u001b[0;34m\u001b[0m\u001b[0;34m\u001b[0m\u001b[0m\n\u001b[0;32m--> 332\u001b[0;31m                 \u001b[0mres\u001b[0m \u001b[0;34m=\u001b[0m \u001b[0mself\u001b[0m\u001b[0;34m.\u001b[0m\u001b[0mread_var_array\u001b[0m\u001b[0;34m(\u001b[0m\u001b[0mhdr\u001b[0m\u001b[0;34m,\u001b[0m \u001b[0mprocess\u001b[0m\u001b[0;34m)\u001b[0m\u001b[0;34m\u001b[0m\u001b[0;34m\u001b[0m\u001b[0m\n\u001b[0m\u001b[1;32m    333\u001b[0m             \u001b[0;32mexcept\u001b[0m \u001b[0mMatReadError\u001b[0m \u001b[0;32mas\u001b[0m \u001b[0merr\u001b[0m\u001b[0;34m:\u001b[0m\u001b[0;34m\u001b[0m\u001b[0;34m\u001b[0m\u001b[0m\n\u001b[1;32m    334\u001b[0m                 warnings.warn(\n",
            "\u001b[0;32m/usr/local/lib/python3.8/dist-packages/scipy/io/matlab/mio5.py\u001b[0m in \u001b[0;36mread_var_array\u001b[0;34m(self, header, process)\u001b[0m\n\u001b[1;32m    290\u001b[0m            \u001b[0;31m`\u001b[0m\u001b[0mprocess\u001b[0m\u001b[0;31m`\u001b[0m\u001b[0;34m.\u001b[0m\u001b[0;34m\u001b[0m\u001b[0;34m\u001b[0m\u001b[0m\n\u001b[1;32m    291\u001b[0m         '''\n\u001b[0;32m--> 292\u001b[0;31m         \u001b[0;32mreturn\u001b[0m \u001b[0mself\u001b[0m\u001b[0;34m.\u001b[0m\u001b[0m_matrix_reader\u001b[0m\u001b[0;34m.\u001b[0m\u001b[0marray_from_header\u001b[0m\u001b[0;34m(\u001b[0m\u001b[0mheader\u001b[0m\u001b[0;34m,\u001b[0m \u001b[0mprocess\u001b[0m\u001b[0;34m)\u001b[0m\u001b[0;34m\u001b[0m\u001b[0;34m\u001b[0m\u001b[0m\n\u001b[0m\u001b[1;32m    293\u001b[0m \u001b[0;34m\u001b[0m\u001b[0m\n\u001b[1;32m    294\u001b[0m     \u001b[0;32mdef\u001b[0m \u001b[0mget_variables\u001b[0m\u001b[0;34m(\u001b[0m\u001b[0mself\u001b[0m\u001b[0;34m,\u001b[0m \u001b[0mvariable_names\u001b[0m\u001b[0;34m=\u001b[0m\u001b[0;32mNone\u001b[0m\u001b[0;34m)\u001b[0m\u001b[0;34m:\u001b[0m\u001b[0;34m\u001b[0m\u001b[0;34m\u001b[0m\u001b[0m\n",
            "\u001b[0;31mKeyboardInterrupt\u001b[0m: "
          ]
        }
      ]
    }
  ],
  "metadata": {
    "colab": {
      "provenance": [],
      "include_colab_link": true
    },
    "kernelspec": {
      "display_name": "Python 3",
      "name": "python3"
    },
    "language_info": {
      "name": "python"
    }
  },
  "nbformat": 4,
  "nbformat_minor": 0
}