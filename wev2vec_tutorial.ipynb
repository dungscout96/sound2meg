{
  "nbformat": 4,
  "nbformat_minor": 0,
  "metadata": {
    "colab": {
      "provenance": [],
      "authorship_tag": "ABX9TyOM9EtBIwAe/qTaRLXzgwHN",
      "include_colab_link": true
    },
    "kernelspec": {
      "name": "python3",
      "display_name": "Python 3"
    },
    "language_info": {
      "name": "python"
    },
    "widgets": {
      "application/vnd.jupyter.widget-state+json": {
        "3c7e873954884d4e80f96a497c24c3bb": {
          "model_module": "@jupyter-widgets/controls",
          "model_name": "HBoxModel",
          "model_module_version": "1.5.0",
          "state": {
            "_dom_classes": [],
            "_model_module": "@jupyter-widgets/controls",
            "_model_module_version": "1.5.0",
            "_model_name": "HBoxModel",
            "_view_count": null,
            "_view_module": "@jupyter-widgets/controls",
            "_view_module_version": "1.5.0",
            "_view_name": "HBoxView",
            "box_style": "",
            "children": [
              "IPY_MODEL_f08e96e8316b4f00b348838e123fef06",
              "IPY_MODEL_154031f39f844643960ff551e74a70a1",
              "IPY_MODEL_884c8072b0314872aad7486b4414a4dc"
            ],
            "layout": "IPY_MODEL_080fe05a8c5642e2876c985c26c4c7ee"
          }
        },
        "f08e96e8316b4f00b348838e123fef06": {
          "model_module": "@jupyter-widgets/controls",
          "model_name": "HTMLModel",
          "model_module_version": "1.5.0",
          "state": {
            "_dom_classes": [],
            "_model_module": "@jupyter-widgets/controls",
            "_model_module_version": "1.5.0",
            "_model_name": "HTMLModel",
            "_view_count": null,
            "_view_module": "@jupyter-widgets/controls",
            "_view_module_version": "1.5.0",
            "_view_name": "HTMLView",
            "description": "",
            "description_tooltip": null,
            "layout": "IPY_MODEL_cf073749a5a64871a2d71cc521e8413d",
            "placeholder": "​",
            "style": "IPY_MODEL_ab8a35aa06054561a08e4abc4ffef4af",
            "value": "100%"
          }
        },
        "154031f39f844643960ff551e74a70a1": {
          "model_module": "@jupyter-widgets/controls",
          "model_name": "FloatProgressModel",
          "model_module_version": "1.5.0",
          "state": {
            "_dom_classes": [],
            "_model_module": "@jupyter-widgets/controls",
            "_model_module_version": "1.5.0",
            "_model_name": "FloatProgressModel",
            "_view_count": null,
            "_view_module": "@jupyter-widgets/controls",
            "_view_module_version": "1.5.0",
            "_view_name": "ProgressView",
            "bar_style": "success",
            "description": "",
            "description_tooltip": null,
            "layout": "IPY_MODEL_bb87f12f92b54246bfe18cf04b1676ad",
            "max": 2,
            "min": 0,
            "orientation": "horizontal",
            "style": "IPY_MODEL_8c5f7e64d8b240eda7e3ab56122d7e76",
            "value": 2
          }
        },
        "884c8072b0314872aad7486b4414a4dc": {
          "model_module": "@jupyter-widgets/controls",
          "model_name": "HTMLModel",
          "model_module_version": "1.5.0",
          "state": {
            "_dom_classes": [],
            "_model_module": "@jupyter-widgets/controls",
            "_model_module_version": "1.5.0",
            "_model_name": "HTMLModel",
            "_view_count": null,
            "_view_module": "@jupyter-widgets/controls",
            "_view_module_version": "1.5.0",
            "_view_name": "HTMLView",
            "description": "",
            "description_tooltip": null,
            "layout": "IPY_MODEL_64dbee149a6b406ba2e736e0ef671ded",
            "placeholder": "​",
            "style": "IPY_MODEL_d0ea6ce802f14b2a8a0425bef4525ea6",
            "value": " 2/2 [00:00&lt;00:00, 37.33it/s]"
          }
        },
        "080fe05a8c5642e2876c985c26c4c7ee": {
          "model_module": "@jupyter-widgets/base",
          "model_name": "LayoutModel",
          "model_module_version": "1.2.0",
          "state": {
            "_model_module": "@jupyter-widgets/base",
            "_model_module_version": "1.2.0",
            "_model_name": "LayoutModel",
            "_view_count": null,
            "_view_module": "@jupyter-widgets/base",
            "_view_module_version": "1.2.0",
            "_view_name": "LayoutView",
            "align_content": null,
            "align_items": null,
            "align_self": null,
            "border": null,
            "bottom": null,
            "display": null,
            "flex": null,
            "flex_flow": null,
            "grid_area": null,
            "grid_auto_columns": null,
            "grid_auto_flow": null,
            "grid_auto_rows": null,
            "grid_column": null,
            "grid_gap": null,
            "grid_row": null,
            "grid_template_areas": null,
            "grid_template_columns": null,
            "grid_template_rows": null,
            "height": null,
            "justify_content": null,
            "justify_items": null,
            "left": null,
            "margin": null,
            "max_height": null,
            "max_width": null,
            "min_height": null,
            "min_width": null,
            "object_fit": null,
            "object_position": null,
            "order": null,
            "overflow": null,
            "overflow_x": null,
            "overflow_y": null,
            "padding": null,
            "right": null,
            "top": null,
            "visibility": null,
            "width": null
          }
        },
        "cf073749a5a64871a2d71cc521e8413d": {
          "model_module": "@jupyter-widgets/base",
          "model_name": "LayoutModel",
          "model_module_version": "1.2.0",
          "state": {
            "_model_module": "@jupyter-widgets/base",
            "_model_module_version": "1.2.0",
            "_model_name": "LayoutModel",
            "_view_count": null,
            "_view_module": "@jupyter-widgets/base",
            "_view_module_version": "1.2.0",
            "_view_name": "LayoutView",
            "align_content": null,
            "align_items": null,
            "align_self": null,
            "border": null,
            "bottom": null,
            "display": null,
            "flex": null,
            "flex_flow": null,
            "grid_area": null,
            "grid_auto_columns": null,
            "grid_auto_flow": null,
            "grid_auto_rows": null,
            "grid_column": null,
            "grid_gap": null,
            "grid_row": null,
            "grid_template_areas": null,
            "grid_template_columns": null,
            "grid_template_rows": null,
            "height": null,
            "justify_content": null,
            "justify_items": null,
            "left": null,
            "margin": null,
            "max_height": null,
            "max_width": null,
            "min_height": null,
            "min_width": null,
            "object_fit": null,
            "object_position": null,
            "order": null,
            "overflow": null,
            "overflow_x": null,
            "overflow_y": null,
            "padding": null,
            "right": null,
            "top": null,
            "visibility": null,
            "width": null
          }
        },
        "ab8a35aa06054561a08e4abc4ffef4af": {
          "model_module": "@jupyter-widgets/controls",
          "model_name": "DescriptionStyleModel",
          "model_module_version": "1.5.0",
          "state": {
            "_model_module": "@jupyter-widgets/controls",
            "_model_module_version": "1.5.0",
            "_model_name": "DescriptionStyleModel",
            "_view_count": null,
            "_view_module": "@jupyter-widgets/base",
            "_view_module_version": "1.2.0",
            "_view_name": "StyleView",
            "description_width": ""
          }
        },
        "bb87f12f92b54246bfe18cf04b1676ad": {
          "model_module": "@jupyter-widgets/base",
          "model_name": "LayoutModel",
          "model_module_version": "1.2.0",
          "state": {
            "_model_module": "@jupyter-widgets/base",
            "_model_module_version": "1.2.0",
            "_model_name": "LayoutModel",
            "_view_count": null,
            "_view_module": "@jupyter-widgets/base",
            "_view_module_version": "1.2.0",
            "_view_name": "LayoutView",
            "align_content": null,
            "align_items": null,
            "align_self": null,
            "border": null,
            "bottom": null,
            "display": null,
            "flex": null,
            "flex_flow": null,
            "grid_area": null,
            "grid_auto_columns": null,
            "grid_auto_flow": null,
            "grid_auto_rows": null,
            "grid_column": null,
            "grid_gap": null,
            "grid_row": null,
            "grid_template_areas": null,
            "grid_template_columns": null,
            "grid_template_rows": null,
            "height": null,
            "justify_content": null,
            "justify_items": null,
            "left": null,
            "margin": null,
            "max_height": null,
            "max_width": null,
            "min_height": null,
            "min_width": null,
            "object_fit": null,
            "object_position": null,
            "order": null,
            "overflow": null,
            "overflow_x": null,
            "overflow_y": null,
            "padding": null,
            "right": null,
            "top": null,
            "visibility": null,
            "width": null
          }
        },
        "8c5f7e64d8b240eda7e3ab56122d7e76": {
          "model_module": "@jupyter-widgets/controls",
          "model_name": "ProgressStyleModel",
          "model_module_version": "1.5.0",
          "state": {
            "_model_module": "@jupyter-widgets/controls",
            "_model_module_version": "1.5.0",
            "_model_name": "ProgressStyleModel",
            "_view_count": null,
            "_view_module": "@jupyter-widgets/base",
            "_view_module_version": "1.2.0",
            "_view_name": "StyleView",
            "bar_color": null,
            "description_width": ""
          }
        },
        "64dbee149a6b406ba2e736e0ef671ded": {
          "model_module": "@jupyter-widgets/base",
          "model_name": "LayoutModel",
          "model_module_version": "1.2.0",
          "state": {
            "_model_module": "@jupyter-widgets/base",
            "_model_module_version": "1.2.0",
            "_model_name": "LayoutModel",
            "_view_count": null,
            "_view_module": "@jupyter-widgets/base",
            "_view_module_version": "1.2.0",
            "_view_name": "LayoutView",
            "align_content": null,
            "align_items": null,
            "align_self": null,
            "border": null,
            "bottom": null,
            "display": null,
            "flex": null,
            "flex_flow": null,
            "grid_area": null,
            "grid_auto_columns": null,
            "grid_auto_flow": null,
            "grid_auto_rows": null,
            "grid_column": null,
            "grid_gap": null,
            "grid_row": null,
            "grid_template_areas": null,
            "grid_template_columns": null,
            "grid_template_rows": null,
            "height": null,
            "justify_content": null,
            "justify_items": null,
            "left": null,
            "margin": null,
            "max_height": null,
            "max_width": null,
            "min_height": null,
            "min_width": null,
            "object_fit": null,
            "object_position": null,
            "order": null,
            "overflow": null,
            "overflow_x": null,
            "overflow_y": null,
            "padding": null,
            "right": null,
            "top": null,
            "visibility": null,
            "width": null
          }
        },
        "d0ea6ce802f14b2a8a0425bef4525ea6": {
          "model_module": "@jupyter-widgets/controls",
          "model_name": "DescriptionStyleModel",
          "model_module_version": "1.5.0",
          "state": {
            "_model_module": "@jupyter-widgets/controls",
            "_model_module_version": "1.5.0",
            "_model_name": "DescriptionStyleModel",
            "_view_count": null,
            "_view_module": "@jupyter-widgets/base",
            "_view_module_version": "1.2.0",
            "_view_name": "StyleView",
            "description_width": ""
          }
        },
        "79637b9946f3419f8cd3840a24306b28": {
          "model_module": "@jupyter-widgets/controls",
          "model_name": "HBoxModel",
          "model_module_version": "1.5.0",
          "state": {
            "_dom_classes": [],
            "_model_module": "@jupyter-widgets/controls",
            "_model_module_version": "1.5.0",
            "_model_name": "HBoxModel",
            "_view_count": null,
            "_view_module": "@jupyter-widgets/controls",
            "_view_module_version": "1.5.0",
            "_view_name": "HBoxView",
            "box_style": "",
            "children": [
              "IPY_MODEL_45226fe6598245faa7b64c12658aa6cf",
              "IPY_MODEL_97c2bba03e6c4ecfa4a9d99877ef009e",
              "IPY_MODEL_13a05c3b0d214da4943cf303ba9250be"
            ],
            "layout": "IPY_MODEL_0a16225a33a5435ea2db5dc561c8a3c0"
          }
        },
        "45226fe6598245faa7b64c12658aa6cf": {
          "model_module": "@jupyter-widgets/controls",
          "model_name": "HTMLModel",
          "model_module_version": "1.5.0",
          "state": {
            "_dom_classes": [],
            "_model_module": "@jupyter-widgets/controls",
            "_model_module_version": "1.5.0",
            "_model_name": "HTMLModel",
            "_view_count": null,
            "_view_module": "@jupyter-widgets/controls",
            "_view_module_version": "1.5.0",
            "_view_name": "HTMLView",
            "description": "",
            "description_tooltip": null,
            "layout": "IPY_MODEL_51dc881e6a53495b9c2d92f4c48847ce",
            "placeholder": "​",
            "style": "IPY_MODEL_84f2d7643d4445a483c30668bb4e61ab",
            "value": ""
          }
        },
        "97c2bba03e6c4ecfa4a9d99877ef009e": {
          "model_module": "@jupyter-widgets/controls",
          "model_name": "FloatProgressModel",
          "model_module_version": "1.5.0",
          "state": {
            "_dom_classes": [],
            "_model_module": "@jupyter-widgets/controls",
            "_model_module_version": "1.5.0",
            "_model_name": "FloatProgressModel",
            "_view_count": null,
            "_view_module": "@jupyter-widgets/controls",
            "_view_module_version": "1.5.0",
            "_view_name": "ProgressView",
            "bar_style": "success",
            "description": "",
            "description_tooltip": null,
            "layout": "IPY_MODEL_e61ebc02017b4fe38efb552ebda3c55e",
            "max": 1,
            "min": 0,
            "orientation": "horizontal",
            "style": "IPY_MODEL_ad86a55dbb834d6a84abed67e3c718d1",
            "value": 1
          }
        },
        "13a05c3b0d214da4943cf303ba9250be": {
          "model_module": "@jupyter-widgets/controls",
          "model_name": "HTMLModel",
          "model_module_version": "1.5.0",
          "state": {
            "_dom_classes": [],
            "_model_module": "@jupyter-widgets/controls",
            "_model_module_version": "1.5.0",
            "_model_name": "HTMLModel",
            "_view_count": null,
            "_view_module": "@jupyter-widgets/controls",
            "_view_module_version": "1.5.0",
            "_view_name": "HTMLView",
            "description": "",
            "description_tooltip": null,
            "layout": "IPY_MODEL_8e7931d31f6645398e2ff06d51277b0c",
            "placeholder": "​",
            "style": "IPY_MODEL_d5776d09bc474a21b43c38394eceec1c",
            "value": " 4620/? [00:01&lt;00:00, 4099.80ex/s]"
          }
        },
        "0a16225a33a5435ea2db5dc561c8a3c0": {
          "model_module": "@jupyter-widgets/base",
          "model_name": "LayoutModel",
          "model_module_version": "1.2.0",
          "state": {
            "_model_module": "@jupyter-widgets/base",
            "_model_module_version": "1.2.0",
            "_model_name": "LayoutModel",
            "_view_count": null,
            "_view_module": "@jupyter-widgets/base",
            "_view_module_version": "1.2.0",
            "_view_name": "LayoutView",
            "align_content": null,
            "align_items": null,
            "align_self": null,
            "border": null,
            "bottom": null,
            "display": null,
            "flex": null,
            "flex_flow": null,
            "grid_area": null,
            "grid_auto_columns": null,
            "grid_auto_flow": null,
            "grid_auto_rows": null,
            "grid_column": null,
            "grid_gap": null,
            "grid_row": null,
            "grid_template_areas": null,
            "grid_template_columns": null,
            "grid_template_rows": null,
            "height": null,
            "justify_content": null,
            "justify_items": null,
            "left": null,
            "margin": null,
            "max_height": null,
            "max_width": null,
            "min_height": null,
            "min_width": null,
            "object_fit": null,
            "object_position": null,
            "order": null,
            "overflow": null,
            "overflow_x": null,
            "overflow_y": null,
            "padding": null,
            "right": null,
            "top": null,
            "visibility": null,
            "width": null
          }
        },
        "51dc881e6a53495b9c2d92f4c48847ce": {
          "model_module": "@jupyter-widgets/base",
          "model_name": "LayoutModel",
          "model_module_version": "1.2.0",
          "state": {
            "_model_module": "@jupyter-widgets/base",
            "_model_module_version": "1.2.0",
            "_model_name": "LayoutModel",
            "_view_count": null,
            "_view_module": "@jupyter-widgets/base",
            "_view_module_version": "1.2.0",
            "_view_name": "LayoutView",
            "align_content": null,
            "align_items": null,
            "align_self": null,
            "border": null,
            "bottom": null,
            "display": null,
            "flex": null,
            "flex_flow": null,
            "grid_area": null,
            "grid_auto_columns": null,
            "grid_auto_flow": null,
            "grid_auto_rows": null,
            "grid_column": null,
            "grid_gap": null,
            "grid_row": null,
            "grid_template_areas": null,
            "grid_template_columns": null,
            "grid_template_rows": null,
            "height": null,
            "justify_content": null,
            "justify_items": null,
            "left": null,
            "margin": null,
            "max_height": null,
            "max_width": null,
            "min_height": null,
            "min_width": null,
            "object_fit": null,
            "object_position": null,
            "order": null,
            "overflow": null,
            "overflow_x": null,
            "overflow_y": null,
            "padding": null,
            "right": null,
            "top": null,
            "visibility": null,
            "width": null
          }
        },
        "84f2d7643d4445a483c30668bb4e61ab": {
          "model_module": "@jupyter-widgets/controls",
          "model_name": "DescriptionStyleModel",
          "model_module_version": "1.5.0",
          "state": {
            "_model_module": "@jupyter-widgets/controls",
            "_model_module_version": "1.5.0",
            "_model_name": "DescriptionStyleModel",
            "_view_count": null,
            "_view_module": "@jupyter-widgets/base",
            "_view_module_version": "1.2.0",
            "_view_name": "StyleView",
            "description_width": ""
          }
        },
        "e61ebc02017b4fe38efb552ebda3c55e": {
          "model_module": "@jupyter-widgets/base",
          "model_name": "LayoutModel",
          "model_module_version": "1.2.0",
          "state": {
            "_model_module": "@jupyter-widgets/base",
            "_model_module_version": "1.2.0",
            "_model_name": "LayoutModel",
            "_view_count": null,
            "_view_module": "@jupyter-widgets/base",
            "_view_module_version": "1.2.0",
            "_view_name": "LayoutView",
            "align_content": null,
            "align_items": null,
            "align_self": null,
            "border": null,
            "bottom": null,
            "display": null,
            "flex": null,
            "flex_flow": null,
            "grid_area": null,
            "grid_auto_columns": null,
            "grid_auto_flow": null,
            "grid_auto_rows": null,
            "grid_column": null,
            "grid_gap": null,
            "grid_row": null,
            "grid_template_areas": null,
            "grid_template_columns": null,
            "grid_template_rows": null,
            "height": null,
            "justify_content": null,
            "justify_items": null,
            "left": null,
            "margin": null,
            "max_height": null,
            "max_width": null,
            "min_height": null,
            "min_width": null,
            "object_fit": null,
            "object_position": null,
            "order": null,
            "overflow": null,
            "overflow_x": null,
            "overflow_y": null,
            "padding": null,
            "right": null,
            "top": null,
            "visibility": null,
            "width": "20px"
          }
        },
        "ad86a55dbb834d6a84abed67e3c718d1": {
          "model_module": "@jupyter-widgets/controls",
          "model_name": "ProgressStyleModel",
          "model_module_version": "1.5.0",
          "state": {
            "_model_module": "@jupyter-widgets/controls",
            "_model_module_version": "1.5.0",
            "_model_name": "ProgressStyleModel",
            "_view_count": null,
            "_view_module": "@jupyter-widgets/base",
            "_view_module_version": "1.2.0",
            "_view_name": "StyleView",
            "bar_color": null,
            "description_width": ""
          }
        },
        "8e7931d31f6645398e2ff06d51277b0c": {
          "model_module": "@jupyter-widgets/base",
          "model_name": "LayoutModel",
          "model_module_version": "1.2.0",
          "state": {
            "_model_module": "@jupyter-widgets/base",
            "_model_module_version": "1.2.0",
            "_model_name": "LayoutModel",
            "_view_count": null,
            "_view_module": "@jupyter-widgets/base",
            "_view_module_version": "1.2.0",
            "_view_name": "LayoutView",
            "align_content": null,
            "align_items": null,
            "align_self": null,
            "border": null,
            "bottom": null,
            "display": null,
            "flex": null,
            "flex_flow": null,
            "grid_area": null,
            "grid_auto_columns": null,
            "grid_auto_flow": null,
            "grid_auto_rows": null,
            "grid_column": null,
            "grid_gap": null,
            "grid_row": null,
            "grid_template_areas": null,
            "grid_template_columns": null,
            "grid_template_rows": null,
            "height": null,
            "justify_content": null,
            "justify_items": null,
            "left": null,
            "margin": null,
            "max_height": null,
            "max_width": null,
            "min_height": null,
            "min_width": null,
            "object_fit": null,
            "object_position": null,
            "order": null,
            "overflow": null,
            "overflow_x": null,
            "overflow_y": null,
            "padding": null,
            "right": null,
            "top": null,
            "visibility": null,
            "width": null
          }
        },
        "d5776d09bc474a21b43c38394eceec1c": {
          "model_module": "@jupyter-widgets/controls",
          "model_name": "DescriptionStyleModel",
          "model_module_version": "1.5.0",
          "state": {
            "_model_module": "@jupyter-widgets/controls",
            "_model_module_version": "1.5.0",
            "_model_name": "DescriptionStyleModel",
            "_view_count": null,
            "_view_module": "@jupyter-widgets/base",
            "_view_module_version": "1.2.0",
            "_view_name": "StyleView",
            "description_width": ""
          }
        },
        "7d4bbeabaae64a34a803de14a9f48030": {
          "model_module": "@jupyter-widgets/controls",
          "model_name": "HBoxModel",
          "model_module_version": "1.5.0",
          "state": {
            "_dom_classes": [],
            "_model_module": "@jupyter-widgets/controls",
            "_model_module_version": "1.5.0",
            "_model_name": "HBoxModel",
            "_view_count": null,
            "_view_module": "@jupyter-widgets/controls",
            "_view_module_version": "1.5.0",
            "_view_name": "HBoxView",
            "box_style": "",
            "children": [
              "IPY_MODEL_0adf53440f774362a4b5d5f98a15f707",
              "IPY_MODEL_3c2a70818c584e018fda2b2aa0939de0",
              "IPY_MODEL_3a4ae07721f94f9f8e512dcfa761edcd"
            ],
            "layout": "IPY_MODEL_af360f4dfb364790a29b7f6742cb1dd0"
          }
        },
        "0adf53440f774362a4b5d5f98a15f707": {
          "model_module": "@jupyter-widgets/controls",
          "model_name": "HTMLModel",
          "model_module_version": "1.5.0",
          "state": {
            "_dom_classes": [],
            "_model_module": "@jupyter-widgets/controls",
            "_model_module_version": "1.5.0",
            "_model_name": "HTMLModel",
            "_view_count": null,
            "_view_module": "@jupyter-widgets/controls",
            "_view_module_version": "1.5.0",
            "_view_name": "HTMLView",
            "description": "",
            "description_tooltip": null,
            "layout": "IPY_MODEL_21d51a0e8295458285d61c1e51d79dd9",
            "placeholder": "​",
            "style": "IPY_MODEL_16eb784524b34f769acb4ff673c3e152",
            "value": ""
          }
        },
        "3c2a70818c584e018fda2b2aa0939de0": {
          "model_module": "@jupyter-widgets/controls",
          "model_name": "FloatProgressModel",
          "model_module_version": "1.5.0",
          "state": {
            "_dom_classes": [],
            "_model_module": "@jupyter-widgets/controls",
            "_model_module_version": "1.5.0",
            "_model_name": "FloatProgressModel",
            "_view_count": null,
            "_view_module": "@jupyter-widgets/controls",
            "_view_module_version": "1.5.0",
            "_view_name": "ProgressView",
            "bar_style": "success",
            "description": "",
            "description_tooltip": null,
            "layout": "IPY_MODEL_400f253f9377448f88b662df0f759674",
            "max": 1,
            "min": 0,
            "orientation": "horizontal",
            "style": "IPY_MODEL_d0277193905c44e5aa9dd53a2ed6a3fc",
            "value": 1
          }
        },
        "3a4ae07721f94f9f8e512dcfa761edcd": {
          "model_module": "@jupyter-widgets/controls",
          "model_name": "HTMLModel",
          "model_module_version": "1.5.0",
          "state": {
            "_dom_classes": [],
            "_model_module": "@jupyter-widgets/controls",
            "_model_module_version": "1.5.0",
            "_model_name": "HTMLModel",
            "_view_count": null,
            "_view_module": "@jupyter-widgets/controls",
            "_view_module_version": "1.5.0",
            "_view_name": "HTMLView",
            "description": "",
            "description_tooltip": null,
            "layout": "IPY_MODEL_f5fef93fc88d40d5ae6247f8690c7eae",
            "placeholder": "​",
            "style": "IPY_MODEL_55e80f7d15e04caa98e7decf328ad8e4",
            "value": " 1680/? [00:00&lt;00:00, 4871.72ex/s]"
          }
        },
        "af360f4dfb364790a29b7f6742cb1dd0": {
          "model_module": "@jupyter-widgets/base",
          "model_name": "LayoutModel",
          "model_module_version": "1.2.0",
          "state": {
            "_model_module": "@jupyter-widgets/base",
            "_model_module_version": "1.2.0",
            "_model_name": "LayoutModel",
            "_view_count": null,
            "_view_module": "@jupyter-widgets/base",
            "_view_module_version": "1.2.0",
            "_view_name": "LayoutView",
            "align_content": null,
            "align_items": null,
            "align_self": null,
            "border": null,
            "bottom": null,
            "display": null,
            "flex": null,
            "flex_flow": null,
            "grid_area": null,
            "grid_auto_columns": null,
            "grid_auto_flow": null,
            "grid_auto_rows": null,
            "grid_column": null,
            "grid_gap": null,
            "grid_row": null,
            "grid_template_areas": null,
            "grid_template_columns": null,
            "grid_template_rows": null,
            "height": null,
            "justify_content": null,
            "justify_items": null,
            "left": null,
            "margin": null,
            "max_height": null,
            "max_width": null,
            "min_height": null,
            "min_width": null,
            "object_fit": null,
            "object_position": null,
            "order": null,
            "overflow": null,
            "overflow_x": null,
            "overflow_y": null,
            "padding": null,
            "right": null,
            "top": null,
            "visibility": null,
            "width": null
          }
        },
        "21d51a0e8295458285d61c1e51d79dd9": {
          "model_module": "@jupyter-widgets/base",
          "model_name": "LayoutModel",
          "model_module_version": "1.2.0",
          "state": {
            "_model_module": "@jupyter-widgets/base",
            "_model_module_version": "1.2.0",
            "_model_name": "LayoutModel",
            "_view_count": null,
            "_view_module": "@jupyter-widgets/base",
            "_view_module_version": "1.2.0",
            "_view_name": "LayoutView",
            "align_content": null,
            "align_items": null,
            "align_self": null,
            "border": null,
            "bottom": null,
            "display": null,
            "flex": null,
            "flex_flow": null,
            "grid_area": null,
            "grid_auto_columns": null,
            "grid_auto_flow": null,
            "grid_auto_rows": null,
            "grid_column": null,
            "grid_gap": null,
            "grid_row": null,
            "grid_template_areas": null,
            "grid_template_columns": null,
            "grid_template_rows": null,
            "height": null,
            "justify_content": null,
            "justify_items": null,
            "left": null,
            "margin": null,
            "max_height": null,
            "max_width": null,
            "min_height": null,
            "min_width": null,
            "object_fit": null,
            "object_position": null,
            "order": null,
            "overflow": null,
            "overflow_x": null,
            "overflow_y": null,
            "padding": null,
            "right": null,
            "top": null,
            "visibility": null,
            "width": null
          }
        },
        "16eb784524b34f769acb4ff673c3e152": {
          "model_module": "@jupyter-widgets/controls",
          "model_name": "DescriptionStyleModel",
          "model_module_version": "1.5.0",
          "state": {
            "_model_module": "@jupyter-widgets/controls",
            "_model_module_version": "1.5.0",
            "_model_name": "DescriptionStyleModel",
            "_view_count": null,
            "_view_module": "@jupyter-widgets/base",
            "_view_module_version": "1.2.0",
            "_view_name": "StyleView",
            "description_width": ""
          }
        },
        "400f253f9377448f88b662df0f759674": {
          "model_module": "@jupyter-widgets/base",
          "model_name": "LayoutModel",
          "model_module_version": "1.2.0",
          "state": {
            "_model_module": "@jupyter-widgets/base",
            "_model_module_version": "1.2.0",
            "_model_name": "LayoutModel",
            "_view_count": null,
            "_view_module": "@jupyter-widgets/base",
            "_view_module_version": "1.2.0",
            "_view_name": "LayoutView",
            "align_content": null,
            "align_items": null,
            "align_self": null,
            "border": null,
            "bottom": null,
            "display": null,
            "flex": null,
            "flex_flow": null,
            "grid_area": null,
            "grid_auto_columns": null,
            "grid_auto_flow": null,
            "grid_auto_rows": null,
            "grid_column": null,
            "grid_gap": null,
            "grid_row": null,
            "grid_template_areas": null,
            "grid_template_columns": null,
            "grid_template_rows": null,
            "height": null,
            "justify_content": null,
            "justify_items": null,
            "left": null,
            "margin": null,
            "max_height": null,
            "max_width": null,
            "min_height": null,
            "min_width": null,
            "object_fit": null,
            "object_position": null,
            "order": null,
            "overflow": null,
            "overflow_x": null,
            "overflow_y": null,
            "padding": null,
            "right": null,
            "top": null,
            "visibility": null,
            "width": "20px"
          }
        },
        "d0277193905c44e5aa9dd53a2ed6a3fc": {
          "model_module": "@jupyter-widgets/controls",
          "model_name": "ProgressStyleModel",
          "model_module_version": "1.5.0",
          "state": {
            "_model_module": "@jupyter-widgets/controls",
            "_model_module_version": "1.5.0",
            "_model_name": "ProgressStyleModel",
            "_view_count": null,
            "_view_module": "@jupyter-widgets/base",
            "_view_module_version": "1.2.0",
            "_view_name": "StyleView",
            "bar_color": null,
            "description_width": ""
          }
        },
        "f5fef93fc88d40d5ae6247f8690c7eae": {
          "model_module": "@jupyter-widgets/base",
          "model_name": "LayoutModel",
          "model_module_version": "1.2.0",
          "state": {
            "_model_module": "@jupyter-widgets/base",
            "_model_module_version": "1.2.0",
            "_model_name": "LayoutModel",
            "_view_count": null,
            "_view_module": "@jupyter-widgets/base",
            "_view_module_version": "1.2.0",
            "_view_name": "LayoutView",
            "align_content": null,
            "align_items": null,
            "align_self": null,
            "border": null,
            "bottom": null,
            "display": null,
            "flex": null,
            "flex_flow": null,
            "grid_area": null,
            "grid_auto_columns": null,
            "grid_auto_flow": null,
            "grid_auto_rows": null,
            "grid_column": null,
            "grid_gap": null,
            "grid_row": null,
            "grid_template_areas": null,
            "grid_template_columns": null,
            "grid_template_rows": null,
            "height": null,
            "justify_content": null,
            "justify_items": null,
            "left": null,
            "margin": null,
            "max_height": null,
            "max_width": null,
            "min_height": null,
            "min_width": null,
            "object_fit": null,
            "object_position": null,
            "order": null,
            "overflow": null,
            "overflow_x": null,
            "overflow_y": null,
            "padding": null,
            "right": null,
            "top": null,
            "visibility": null,
            "width": null
          }
        },
        "55e80f7d15e04caa98e7decf328ad8e4": {
          "model_module": "@jupyter-widgets/controls",
          "model_name": "DescriptionStyleModel",
          "model_module_version": "1.5.0",
          "state": {
            "_model_module": "@jupyter-widgets/controls",
            "_model_module_version": "1.5.0",
            "_model_name": "DescriptionStyleModel",
            "_view_count": null,
            "_view_module": "@jupyter-widgets/base",
            "_view_module_version": "1.2.0",
            "_view_name": "StyleView",
            "description_width": ""
          }
        },
        "bc5f537eee20453aba957a01fb909f08": {
          "model_module": "@jupyter-widgets/controls",
          "model_name": "HBoxModel",
          "model_module_version": "1.5.0",
          "state": {
            "_dom_classes": [],
            "_model_module": "@jupyter-widgets/controls",
            "_model_module_version": "1.5.0",
            "_model_name": "HBoxModel",
            "_view_count": null,
            "_view_module": "@jupyter-widgets/controls",
            "_view_module_version": "1.5.0",
            "_view_name": "HBoxView",
            "box_style": "",
            "children": [
              "IPY_MODEL_462474a7e51f4516bafd1b772622cd75",
              "IPY_MODEL_1dd7352f91d0494e95e5d7ff5219c831",
              "IPY_MODEL_688a0c6cb5dd44db988984e2222b131f"
            ],
            "layout": "IPY_MODEL_b8e72f639d3f48cf825d85631dfb1014"
          }
        },
        "462474a7e51f4516bafd1b772622cd75": {
          "model_module": "@jupyter-widgets/controls",
          "model_name": "HTMLModel",
          "model_module_version": "1.5.0",
          "state": {
            "_dom_classes": [],
            "_model_module": "@jupyter-widgets/controls",
            "_model_module_version": "1.5.0",
            "_model_name": "HTMLModel",
            "_view_count": null,
            "_view_module": "@jupyter-widgets/controls",
            "_view_module_version": "1.5.0",
            "_view_name": "HTMLView",
            "description": "",
            "description_tooltip": null,
            "layout": "IPY_MODEL_028315aa15c840b5b663f4030bce879d",
            "placeholder": "​",
            "style": "IPY_MODEL_917e61f494734aa89243f926400712ea",
            "value": "100%"
          }
        },
        "1dd7352f91d0494e95e5d7ff5219c831": {
          "model_module": "@jupyter-widgets/controls",
          "model_name": "FloatProgressModel",
          "model_module_version": "1.5.0",
          "state": {
            "_dom_classes": [],
            "_model_module": "@jupyter-widgets/controls",
            "_model_module_version": "1.5.0",
            "_model_name": "FloatProgressModel",
            "_view_count": null,
            "_view_module": "@jupyter-widgets/controls",
            "_view_module_version": "1.5.0",
            "_view_name": "ProgressView",
            "bar_style": "success",
            "description": "",
            "description_tooltip": null,
            "layout": "IPY_MODEL_2d0cc41e83a84419aaf37cf229a1fe30",
            "max": 1,
            "min": 0,
            "orientation": "horizontal",
            "style": "IPY_MODEL_b9f3a02bf1f242b1915035097d423e64",
            "value": 1
          }
        },
        "688a0c6cb5dd44db988984e2222b131f": {
          "model_module": "@jupyter-widgets/controls",
          "model_name": "HTMLModel",
          "model_module_version": "1.5.0",
          "state": {
            "_dom_classes": [],
            "_model_module": "@jupyter-widgets/controls",
            "_model_module_version": "1.5.0",
            "_model_name": "HTMLModel",
            "_view_count": null,
            "_view_module": "@jupyter-widgets/controls",
            "_view_module_version": "1.5.0",
            "_view_name": "HTMLView",
            "description": "",
            "description_tooltip": null,
            "layout": "IPY_MODEL_c131f5b25c424bfa9876efbaf590ba06",
            "placeholder": "​",
            "style": "IPY_MODEL_6053801be3ef401e80e0b9f0f05bfb0c",
            "value": " 1/1 [00:00&lt;00:00,  5.40ba/s]"
          }
        },
        "b8e72f639d3f48cf825d85631dfb1014": {
          "model_module": "@jupyter-widgets/base",
          "model_name": "LayoutModel",
          "model_module_version": "1.2.0",
          "state": {
            "_model_module": "@jupyter-widgets/base",
            "_model_module_version": "1.2.0",
            "_model_name": "LayoutModel",
            "_view_count": null,
            "_view_module": "@jupyter-widgets/base",
            "_view_module_version": "1.2.0",
            "_view_name": "LayoutView",
            "align_content": null,
            "align_items": null,
            "align_self": null,
            "border": null,
            "bottom": null,
            "display": null,
            "flex": null,
            "flex_flow": null,
            "grid_area": null,
            "grid_auto_columns": null,
            "grid_auto_flow": null,
            "grid_auto_rows": null,
            "grid_column": null,
            "grid_gap": null,
            "grid_row": null,
            "grid_template_areas": null,
            "grid_template_columns": null,
            "grid_template_rows": null,
            "height": null,
            "justify_content": null,
            "justify_items": null,
            "left": null,
            "margin": null,
            "max_height": null,
            "max_width": null,
            "min_height": null,
            "min_width": null,
            "object_fit": null,
            "object_position": null,
            "order": null,
            "overflow": null,
            "overflow_x": null,
            "overflow_y": null,
            "padding": null,
            "right": null,
            "top": null,
            "visibility": null,
            "width": null
          }
        },
        "028315aa15c840b5b663f4030bce879d": {
          "model_module": "@jupyter-widgets/base",
          "model_name": "LayoutModel",
          "model_module_version": "1.2.0",
          "state": {
            "_model_module": "@jupyter-widgets/base",
            "_model_module_version": "1.2.0",
            "_model_name": "LayoutModel",
            "_view_count": null,
            "_view_module": "@jupyter-widgets/base",
            "_view_module_version": "1.2.0",
            "_view_name": "LayoutView",
            "align_content": null,
            "align_items": null,
            "align_self": null,
            "border": null,
            "bottom": null,
            "display": null,
            "flex": null,
            "flex_flow": null,
            "grid_area": null,
            "grid_auto_columns": null,
            "grid_auto_flow": null,
            "grid_auto_rows": null,
            "grid_column": null,
            "grid_gap": null,
            "grid_row": null,
            "grid_template_areas": null,
            "grid_template_columns": null,
            "grid_template_rows": null,
            "height": null,
            "justify_content": null,
            "justify_items": null,
            "left": null,
            "margin": null,
            "max_height": null,
            "max_width": null,
            "min_height": null,
            "min_width": null,
            "object_fit": null,
            "object_position": null,
            "order": null,
            "overflow": null,
            "overflow_x": null,
            "overflow_y": null,
            "padding": null,
            "right": null,
            "top": null,
            "visibility": null,
            "width": null
          }
        },
        "917e61f494734aa89243f926400712ea": {
          "model_module": "@jupyter-widgets/controls",
          "model_name": "DescriptionStyleModel",
          "model_module_version": "1.5.0",
          "state": {
            "_model_module": "@jupyter-widgets/controls",
            "_model_module_version": "1.5.0",
            "_model_name": "DescriptionStyleModel",
            "_view_count": null,
            "_view_module": "@jupyter-widgets/base",
            "_view_module_version": "1.2.0",
            "_view_name": "StyleView",
            "description_width": ""
          }
        },
        "2d0cc41e83a84419aaf37cf229a1fe30": {
          "model_module": "@jupyter-widgets/base",
          "model_name": "LayoutModel",
          "model_module_version": "1.2.0",
          "state": {
            "_model_module": "@jupyter-widgets/base",
            "_model_module_version": "1.2.0",
            "_model_name": "LayoutModel",
            "_view_count": null,
            "_view_module": "@jupyter-widgets/base",
            "_view_module_version": "1.2.0",
            "_view_name": "LayoutView",
            "align_content": null,
            "align_items": null,
            "align_self": null,
            "border": null,
            "bottom": null,
            "display": null,
            "flex": null,
            "flex_flow": null,
            "grid_area": null,
            "grid_auto_columns": null,
            "grid_auto_flow": null,
            "grid_auto_rows": null,
            "grid_column": null,
            "grid_gap": null,
            "grid_row": null,
            "grid_template_areas": null,
            "grid_template_columns": null,
            "grid_template_rows": null,
            "height": null,
            "justify_content": null,
            "justify_items": null,
            "left": null,
            "margin": null,
            "max_height": null,
            "max_width": null,
            "min_height": null,
            "min_width": null,
            "object_fit": null,
            "object_position": null,
            "order": null,
            "overflow": null,
            "overflow_x": null,
            "overflow_y": null,
            "padding": null,
            "right": null,
            "top": null,
            "visibility": null,
            "width": null
          }
        },
        "b9f3a02bf1f242b1915035097d423e64": {
          "model_module": "@jupyter-widgets/controls",
          "model_name": "ProgressStyleModel",
          "model_module_version": "1.5.0",
          "state": {
            "_model_module": "@jupyter-widgets/controls",
            "_model_module_version": "1.5.0",
            "_model_name": "ProgressStyleModel",
            "_view_count": null,
            "_view_module": "@jupyter-widgets/base",
            "_view_module_version": "1.2.0",
            "_view_name": "StyleView",
            "bar_color": null,
            "description_width": ""
          }
        },
        "c131f5b25c424bfa9876efbaf590ba06": {
          "model_module": "@jupyter-widgets/base",
          "model_name": "LayoutModel",
          "model_module_version": "1.2.0",
          "state": {
            "_model_module": "@jupyter-widgets/base",
            "_model_module_version": "1.2.0",
            "_model_name": "LayoutModel",
            "_view_count": null,
            "_view_module": "@jupyter-widgets/base",
            "_view_module_version": "1.2.0",
            "_view_name": "LayoutView",
            "align_content": null,
            "align_items": null,
            "align_self": null,
            "border": null,
            "bottom": null,
            "display": null,
            "flex": null,
            "flex_flow": null,
            "grid_area": null,
            "grid_auto_columns": null,
            "grid_auto_flow": null,
            "grid_auto_rows": null,
            "grid_column": null,
            "grid_gap": null,
            "grid_row": null,
            "grid_template_areas": null,
            "grid_template_columns": null,
            "grid_template_rows": null,
            "height": null,
            "justify_content": null,
            "justify_items": null,
            "left": null,
            "margin": null,
            "max_height": null,
            "max_width": null,
            "min_height": null,
            "min_width": null,
            "object_fit": null,
            "object_position": null,
            "order": null,
            "overflow": null,
            "overflow_x": null,
            "overflow_y": null,
            "padding": null,
            "right": null,
            "top": null,
            "visibility": null,
            "width": null
          }
        },
        "6053801be3ef401e80e0b9f0f05bfb0c": {
          "model_module": "@jupyter-widgets/controls",
          "model_name": "DescriptionStyleModel",
          "model_module_version": "1.5.0",
          "state": {
            "_model_module": "@jupyter-widgets/controls",
            "_model_module_version": "1.5.0",
            "_model_name": "DescriptionStyleModel",
            "_view_count": null,
            "_view_module": "@jupyter-widgets/base",
            "_view_module_version": "1.2.0",
            "_view_name": "StyleView",
            "description_width": ""
          }
        },
        "8a6adb85a9d94f6bbb8f7f95780c1007": {
          "model_module": "@jupyter-widgets/controls",
          "model_name": "HBoxModel",
          "model_module_version": "1.5.0",
          "state": {
            "_dom_classes": [],
            "_model_module": "@jupyter-widgets/controls",
            "_model_module_version": "1.5.0",
            "_model_name": "HBoxModel",
            "_view_count": null,
            "_view_module": "@jupyter-widgets/controls",
            "_view_module_version": "1.5.0",
            "_view_name": "HBoxView",
            "box_style": "",
            "children": [
              "IPY_MODEL_700563a8e88246188d55dda37df43a70",
              "IPY_MODEL_a11d7d915ddb404aad1ffaa1fac270df",
              "IPY_MODEL_2e1e434a3a3d4d37a785c6112bf44ce1"
            ],
            "layout": "IPY_MODEL_873fd0d275224476a111feeb31c54b56"
          }
        },
        "700563a8e88246188d55dda37df43a70": {
          "model_module": "@jupyter-widgets/controls",
          "model_name": "HTMLModel",
          "model_module_version": "1.5.0",
          "state": {
            "_dom_classes": [],
            "_model_module": "@jupyter-widgets/controls",
            "_model_module_version": "1.5.0",
            "_model_name": "HTMLModel",
            "_view_count": null,
            "_view_module": "@jupyter-widgets/controls",
            "_view_module_version": "1.5.0",
            "_view_name": "HTMLView",
            "description": "",
            "description_tooltip": null,
            "layout": "IPY_MODEL_74e176ffb90644cf8143d90e60768081",
            "placeholder": "​",
            "style": "IPY_MODEL_f8c01485e5f74bb3941a97482794c245",
            "value": "100%"
          }
        },
        "a11d7d915ddb404aad1ffaa1fac270df": {
          "model_module": "@jupyter-widgets/controls",
          "model_name": "FloatProgressModel",
          "model_module_version": "1.5.0",
          "state": {
            "_dom_classes": [],
            "_model_module": "@jupyter-widgets/controls",
            "_model_module_version": "1.5.0",
            "_model_name": "FloatProgressModel",
            "_view_count": null,
            "_view_module": "@jupyter-widgets/controls",
            "_view_module_version": "1.5.0",
            "_view_name": "ProgressView",
            "bar_style": "success",
            "description": "",
            "description_tooltip": null,
            "layout": "IPY_MODEL_72dda03d0ae342209b15b241d7892f5e",
            "max": 1,
            "min": 0,
            "orientation": "horizontal",
            "style": "IPY_MODEL_3487898a0d40496e89fe479c694eb5fa",
            "value": 1
          }
        },
        "2e1e434a3a3d4d37a785c6112bf44ce1": {
          "model_module": "@jupyter-widgets/controls",
          "model_name": "HTMLModel",
          "model_module_version": "1.5.0",
          "state": {
            "_dom_classes": [],
            "_model_module": "@jupyter-widgets/controls",
            "_model_module_version": "1.5.0",
            "_model_name": "HTMLModel",
            "_view_count": null,
            "_view_module": "@jupyter-widgets/controls",
            "_view_module_version": "1.5.0",
            "_view_name": "HTMLView",
            "description": "",
            "description_tooltip": null,
            "layout": "IPY_MODEL_49f4ca886f974137892548187d263737",
            "placeholder": "​",
            "style": "IPY_MODEL_bc68eebbc49642009db70fd1e9838848",
            "value": " 1/1 [00:00&lt;00:00, 15.35ba/s]"
          }
        },
        "873fd0d275224476a111feeb31c54b56": {
          "model_module": "@jupyter-widgets/base",
          "model_name": "LayoutModel",
          "model_module_version": "1.2.0",
          "state": {
            "_model_module": "@jupyter-widgets/base",
            "_model_module_version": "1.2.0",
            "_model_name": "LayoutModel",
            "_view_count": null,
            "_view_module": "@jupyter-widgets/base",
            "_view_module_version": "1.2.0",
            "_view_name": "LayoutView",
            "align_content": null,
            "align_items": null,
            "align_self": null,
            "border": null,
            "bottom": null,
            "display": null,
            "flex": null,
            "flex_flow": null,
            "grid_area": null,
            "grid_auto_columns": null,
            "grid_auto_flow": null,
            "grid_auto_rows": null,
            "grid_column": null,
            "grid_gap": null,
            "grid_row": null,
            "grid_template_areas": null,
            "grid_template_columns": null,
            "grid_template_rows": null,
            "height": null,
            "justify_content": null,
            "justify_items": null,
            "left": null,
            "margin": null,
            "max_height": null,
            "max_width": null,
            "min_height": null,
            "min_width": null,
            "object_fit": null,
            "object_position": null,
            "order": null,
            "overflow": null,
            "overflow_x": null,
            "overflow_y": null,
            "padding": null,
            "right": null,
            "top": null,
            "visibility": null,
            "width": null
          }
        },
        "74e176ffb90644cf8143d90e60768081": {
          "model_module": "@jupyter-widgets/base",
          "model_name": "LayoutModel",
          "model_module_version": "1.2.0",
          "state": {
            "_model_module": "@jupyter-widgets/base",
            "_model_module_version": "1.2.0",
            "_model_name": "LayoutModel",
            "_view_count": null,
            "_view_module": "@jupyter-widgets/base",
            "_view_module_version": "1.2.0",
            "_view_name": "LayoutView",
            "align_content": null,
            "align_items": null,
            "align_self": null,
            "border": null,
            "bottom": null,
            "display": null,
            "flex": null,
            "flex_flow": null,
            "grid_area": null,
            "grid_auto_columns": null,
            "grid_auto_flow": null,
            "grid_auto_rows": null,
            "grid_column": null,
            "grid_gap": null,
            "grid_row": null,
            "grid_template_areas": null,
            "grid_template_columns": null,
            "grid_template_rows": null,
            "height": null,
            "justify_content": null,
            "justify_items": null,
            "left": null,
            "margin": null,
            "max_height": null,
            "max_width": null,
            "min_height": null,
            "min_width": null,
            "object_fit": null,
            "object_position": null,
            "order": null,
            "overflow": null,
            "overflow_x": null,
            "overflow_y": null,
            "padding": null,
            "right": null,
            "top": null,
            "visibility": null,
            "width": null
          }
        },
        "f8c01485e5f74bb3941a97482794c245": {
          "model_module": "@jupyter-widgets/controls",
          "model_name": "DescriptionStyleModel",
          "model_module_version": "1.5.0",
          "state": {
            "_model_module": "@jupyter-widgets/controls",
            "_model_module_version": "1.5.0",
            "_model_name": "DescriptionStyleModel",
            "_view_count": null,
            "_view_module": "@jupyter-widgets/base",
            "_view_module_version": "1.2.0",
            "_view_name": "StyleView",
            "description_width": ""
          }
        },
        "72dda03d0ae342209b15b241d7892f5e": {
          "model_module": "@jupyter-widgets/base",
          "model_name": "LayoutModel",
          "model_module_version": "1.2.0",
          "state": {
            "_model_module": "@jupyter-widgets/base",
            "_model_module_version": "1.2.0",
            "_model_name": "LayoutModel",
            "_view_count": null,
            "_view_module": "@jupyter-widgets/base",
            "_view_module_version": "1.2.0",
            "_view_name": "LayoutView",
            "align_content": null,
            "align_items": null,
            "align_self": null,
            "border": null,
            "bottom": null,
            "display": null,
            "flex": null,
            "flex_flow": null,
            "grid_area": null,
            "grid_auto_columns": null,
            "grid_auto_flow": null,
            "grid_auto_rows": null,
            "grid_column": null,
            "grid_gap": null,
            "grid_row": null,
            "grid_template_areas": null,
            "grid_template_columns": null,
            "grid_template_rows": null,
            "height": null,
            "justify_content": null,
            "justify_items": null,
            "left": null,
            "margin": null,
            "max_height": null,
            "max_width": null,
            "min_height": null,
            "min_width": null,
            "object_fit": null,
            "object_position": null,
            "order": null,
            "overflow": null,
            "overflow_x": null,
            "overflow_y": null,
            "padding": null,
            "right": null,
            "top": null,
            "visibility": null,
            "width": null
          }
        },
        "3487898a0d40496e89fe479c694eb5fa": {
          "model_module": "@jupyter-widgets/controls",
          "model_name": "ProgressStyleModel",
          "model_module_version": "1.5.0",
          "state": {
            "_model_module": "@jupyter-widgets/controls",
            "_model_module_version": "1.5.0",
            "_model_name": "ProgressStyleModel",
            "_view_count": null,
            "_view_module": "@jupyter-widgets/base",
            "_view_module_version": "1.2.0",
            "_view_name": "StyleView",
            "bar_color": null,
            "description_width": ""
          }
        },
        "49f4ca886f974137892548187d263737": {
          "model_module": "@jupyter-widgets/base",
          "model_name": "LayoutModel",
          "model_module_version": "1.2.0",
          "state": {
            "_model_module": "@jupyter-widgets/base",
            "_model_module_version": "1.2.0",
            "_model_name": "LayoutModel",
            "_view_count": null,
            "_view_module": "@jupyter-widgets/base",
            "_view_module_version": "1.2.0",
            "_view_name": "LayoutView",
            "align_content": null,
            "align_items": null,
            "align_self": null,
            "border": null,
            "bottom": null,
            "display": null,
            "flex": null,
            "flex_flow": null,
            "grid_area": null,
            "grid_auto_columns": null,
            "grid_auto_flow": null,
            "grid_auto_rows": null,
            "grid_column": null,
            "grid_gap": null,
            "grid_row": null,
            "grid_template_areas": null,
            "grid_template_columns": null,
            "grid_template_rows": null,
            "height": null,
            "justify_content": null,
            "justify_items": null,
            "left": null,
            "margin": null,
            "max_height": null,
            "max_width": null,
            "min_height": null,
            "min_width": null,
            "object_fit": null,
            "object_position": null,
            "order": null,
            "overflow": null,
            "overflow_x": null,
            "overflow_y": null,
            "padding": null,
            "right": null,
            "top": null,
            "visibility": null,
            "width": null
          }
        },
        "bc68eebbc49642009db70fd1e9838848": {
          "model_module": "@jupyter-widgets/controls",
          "model_name": "DescriptionStyleModel",
          "model_module_version": "1.5.0",
          "state": {
            "_model_module": "@jupyter-widgets/controls",
            "_model_module_version": "1.5.0",
            "_model_name": "DescriptionStyleModel",
            "_view_count": null,
            "_view_module": "@jupyter-widgets/base",
            "_view_module_version": "1.2.0",
            "_view_name": "StyleView",
            "description_width": ""
          }
        },
        "ad07ebbcd38a47e1a8e68ccfd00db56c": {
          "model_module": "@jupyter-widgets/controls",
          "model_name": "HBoxModel",
          "model_module_version": "1.5.0",
          "state": {
            "_dom_classes": [],
            "_model_module": "@jupyter-widgets/controls",
            "_model_module_version": "1.5.0",
            "_model_name": "HBoxModel",
            "_view_count": null,
            "_view_module": "@jupyter-widgets/controls",
            "_view_module_version": "1.5.0",
            "_view_name": "HBoxView",
            "box_style": "",
            "children": [
              "IPY_MODEL_c7c817f5422e4bc88399096d8cbb91b7",
              "IPY_MODEL_0ead3e74008a4ebd9ba3e061acae6f07",
              "IPY_MODEL_799d5fd650474d239db2b2d1f9bc146e"
            ],
            "layout": "IPY_MODEL_691fef58fdff488ebf6d9065eab3d619"
          }
        },
        "c7c817f5422e4bc88399096d8cbb91b7": {
          "model_module": "@jupyter-widgets/controls",
          "model_name": "HTMLModel",
          "model_module_version": "1.5.0",
          "state": {
            "_dom_classes": [],
            "_model_module": "@jupyter-widgets/controls",
            "_model_module_version": "1.5.0",
            "_model_name": "HTMLModel",
            "_view_count": null,
            "_view_module": "@jupyter-widgets/controls",
            "_view_module_version": "1.5.0",
            "_view_name": "HTMLView",
            "description": "",
            "description_tooltip": null,
            "layout": "IPY_MODEL_33d3c3f226b14f73a389091227cd555b",
            "placeholder": "​",
            "style": "IPY_MODEL_3f7b8e4357354dbe9c174cb2625a9416",
            "value": "Downloading: 100%"
          }
        },
        "0ead3e74008a4ebd9ba3e061acae6f07": {
          "model_module": "@jupyter-widgets/controls",
          "model_name": "FloatProgressModel",
          "model_module_version": "1.5.0",
          "state": {
            "_dom_classes": [],
            "_model_module": "@jupyter-widgets/controls",
            "_model_module_version": "1.5.0",
            "_model_name": "FloatProgressModel",
            "_view_count": null,
            "_view_module": "@jupyter-widgets/controls",
            "_view_module_version": "1.5.0",
            "_view_name": "ProgressView",
            "bar_style": "success",
            "description": "",
            "description_tooltip": null,
            "layout": "IPY_MODEL_0b58699936a846cd83aeab3e8acf1b54",
            "max": 1842,
            "min": 0,
            "orientation": "horizontal",
            "style": "IPY_MODEL_55fb108674ec4c0e97be76bea40fd812",
            "value": 1842
          }
        },
        "799d5fd650474d239db2b2d1f9bc146e": {
          "model_module": "@jupyter-widgets/controls",
          "model_name": "HTMLModel",
          "model_module_version": "1.5.0",
          "state": {
            "_dom_classes": [],
            "_model_module": "@jupyter-widgets/controls",
            "_model_module_version": "1.5.0",
            "_model_name": "HTMLModel",
            "_view_count": null,
            "_view_module": "@jupyter-widgets/controls",
            "_view_module_version": "1.5.0",
            "_view_name": "HTMLView",
            "description": "",
            "description_tooltip": null,
            "layout": "IPY_MODEL_26d09cc84d004d3a8cba150de57a3a53",
            "placeholder": "​",
            "style": "IPY_MODEL_9dec839ec97040f89dcf86be6aa3fa37",
            "value": " 1.84k/1.84k [00:00&lt;00:00, 39.2kB/s]"
          }
        },
        "691fef58fdff488ebf6d9065eab3d619": {
          "model_module": "@jupyter-widgets/base",
          "model_name": "LayoutModel",
          "model_module_version": "1.2.0",
          "state": {
            "_model_module": "@jupyter-widgets/base",
            "_model_module_version": "1.2.0",
            "_model_name": "LayoutModel",
            "_view_count": null,
            "_view_module": "@jupyter-widgets/base",
            "_view_module_version": "1.2.0",
            "_view_name": "LayoutView",
            "align_content": null,
            "align_items": null,
            "align_self": null,
            "border": null,
            "bottom": null,
            "display": null,
            "flex": null,
            "flex_flow": null,
            "grid_area": null,
            "grid_auto_columns": null,
            "grid_auto_flow": null,
            "grid_auto_rows": null,
            "grid_column": null,
            "grid_gap": null,
            "grid_row": null,
            "grid_template_areas": null,
            "grid_template_columns": null,
            "grid_template_rows": null,
            "height": null,
            "justify_content": null,
            "justify_items": null,
            "left": null,
            "margin": null,
            "max_height": null,
            "max_width": null,
            "min_height": null,
            "min_width": null,
            "object_fit": null,
            "object_position": null,
            "order": null,
            "overflow": null,
            "overflow_x": null,
            "overflow_y": null,
            "padding": null,
            "right": null,
            "top": null,
            "visibility": null,
            "width": null
          }
        },
        "33d3c3f226b14f73a389091227cd555b": {
          "model_module": "@jupyter-widgets/base",
          "model_name": "LayoutModel",
          "model_module_version": "1.2.0",
          "state": {
            "_model_module": "@jupyter-widgets/base",
            "_model_module_version": "1.2.0",
            "_model_name": "LayoutModel",
            "_view_count": null,
            "_view_module": "@jupyter-widgets/base",
            "_view_module_version": "1.2.0",
            "_view_name": "LayoutView",
            "align_content": null,
            "align_items": null,
            "align_self": null,
            "border": null,
            "bottom": null,
            "display": null,
            "flex": null,
            "flex_flow": null,
            "grid_area": null,
            "grid_auto_columns": null,
            "grid_auto_flow": null,
            "grid_auto_rows": null,
            "grid_column": null,
            "grid_gap": null,
            "grid_row": null,
            "grid_template_areas": null,
            "grid_template_columns": null,
            "grid_template_rows": null,
            "height": null,
            "justify_content": null,
            "justify_items": null,
            "left": null,
            "margin": null,
            "max_height": null,
            "max_width": null,
            "min_height": null,
            "min_width": null,
            "object_fit": null,
            "object_position": null,
            "order": null,
            "overflow": null,
            "overflow_x": null,
            "overflow_y": null,
            "padding": null,
            "right": null,
            "top": null,
            "visibility": null,
            "width": null
          }
        },
        "3f7b8e4357354dbe9c174cb2625a9416": {
          "model_module": "@jupyter-widgets/controls",
          "model_name": "DescriptionStyleModel",
          "model_module_version": "1.5.0",
          "state": {
            "_model_module": "@jupyter-widgets/controls",
            "_model_module_version": "1.5.0",
            "_model_name": "DescriptionStyleModel",
            "_view_count": null,
            "_view_module": "@jupyter-widgets/base",
            "_view_module_version": "1.2.0",
            "_view_name": "StyleView",
            "description_width": ""
          }
        },
        "0b58699936a846cd83aeab3e8acf1b54": {
          "model_module": "@jupyter-widgets/base",
          "model_name": "LayoutModel",
          "model_module_version": "1.2.0",
          "state": {
            "_model_module": "@jupyter-widgets/base",
            "_model_module_version": "1.2.0",
            "_model_name": "LayoutModel",
            "_view_count": null,
            "_view_module": "@jupyter-widgets/base",
            "_view_module_version": "1.2.0",
            "_view_name": "LayoutView",
            "align_content": null,
            "align_items": null,
            "align_self": null,
            "border": null,
            "bottom": null,
            "display": null,
            "flex": null,
            "flex_flow": null,
            "grid_area": null,
            "grid_auto_columns": null,
            "grid_auto_flow": null,
            "grid_auto_rows": null,
            "grid_column": null,
            "grid_gap": null,
            "grid_row": null,
            "grid_template_areas": null,
            "grid_template_columns": null,
            "grid_template_rows": null,
            "height": null,
            "justify_content": null,
            "justify_items": null,
            "left": null,
            "margin": null,
            "max_height": null,
            "max_width": null,
            "min_height": null,
            "min_width": null,
            "object_fit": null,
            "object_position": null,
            "order": null,
            "overflow": null,
            "overflow_x": null,
            "overflow_y": null,
            "padding": null,
            "right": null,
            "top": null,
            "visibility": null,
            "width": null
          }
        },
        "55fb108674ec4c0e97be76bea40fd812": {
          "model_module": "@jupyter-widgets/controls",
          "model_name": "ProgressStyleModel",
          "model_module_version": "1.5.0",
          "state": {
            "_model_module": "@jupyter-widgets/controls",
            "_model_module_version": "1.5.0",
            "_model_name": "ProgressStyleModel",
            "_view_count": null,
            "_view_module": "@jupyter-widgets/base",
            "_view_module_version": "1.2.0",
            "_view_name": "StyleView",
            "bar_color": null,
            "description_width": ""
          }
        },
        "26d09cc84d004d3a8cba150de57a3a53": {
          "model_module": "@jupyter-widgets/base",
          "model_name": "LayoutModel",
          "model_module_version": "1.2.0",
          "state": {
            "_model_module": "@jupyter-widgets/base",
            "_model_module_version": "1.2.0",
            "_model_name": "LayoutModel",
            "_view_count": null,
            "_view_module": "@jupyter-widgets/base",
            "_view_module_version": "1.2.0",
            "_view_name": "LayoutView",
            "align_content": null,
            "align_items": null,
            "align_self": null,
            "border": null,
            "bottom": null,
            "display": null,
            "flex": null,
            "flex_flow": null,
            "grid_area": null,
            "grid_auto_columns": null,
            "grid_auto_flow": null,
            "grid_auto_rows": null,
            "grid_column": null,
            "grid_gap": null,
            "grid_row": null,
            "grid_template_areas": null,
            "grid_template_columns": null,
            "grid_template_rows": null,
            "height": null,
            "justify_content": null,
            "justify_items": null,
            "left": null,
            "margin": null,
            "max_height": null,
            "max_width": null,
            "min_height": null,
            "min_width": null,
            "object_fit": null,
            "object_position": null,
            "order": null,
            "overflow": null,
            "overflow_x": null,
            "overflow_y": null,
            "padding": null,
            "right": null,
            "top": null,
            "visibility": null,
            "width": null
          }
        },
        "9dec839ec97040f89dcf86be6aa3fa37": {
          "model_module": "@jupyter-widgets/controls",
          "model_name": "DescriptionStyleModel",
          "model_module_version": "1.5.0",
          "state": {
            "_model_module": "@jupyter-widgets/controls",
            "_model_module_version": "1.5.0",
            "_model_name": "DescriptionStyleModel",
            "_view_count": null,
            "_view_module": "@jupyter-widgets/base",
            "_view_module_version": "1.2.0",
            "_view_name": "StyleView",
            "description_width": ""
          }
        },
        "1cc3f7ecfc944ebfbf96c16368a55552": {
          "model_module": "@jupyter-widgets/controls",
          "model_name": "HBoxModel",
          "model_module_version": "1.5.0",
          "state": {
            "_dom_classes": [],
            "_model_module": "@jupyter-widgets/controls",
            "_model_module_version": "1.5.0",
            "_model_name": "HBoxModel",
            "_view_count": null,
            "_view_module": "@jupyter-widgets/controls",
            "_view_module_version": "1.5.0",
            "_view_name": "HBoxView",
            "box_style": "",
            "children": [
              "IPY_MODEL_eee31093db1e47518c07996d5b2e1771",
              "IPY_MODEL_0d33521a533d404e9649f1dac74be36c",
              "IPY_MODEL_5e5322e6af914c3d9741fa557766c200"
            ],
            "layout": "IPY_MODEL_7f3cde25a03a4c58ab9f46cf867b5296"
          }
        },
        "eee31093db1e47518c07996d5b2e1771": {
          "model_module": "@jupyter-widgets/controls",
          "model_name": "HTMLModel",
          "model_module_version": "1.5.0",
          "state": {
            "_dom_classes": [],
            "_model_module": "@jupyter-widgets/controls",
            "_model_module_version": "1.5.0",
            "_model_name": "HTMLModel",
            "_view_count": null,
            "_view_module": "@jupyter-widgets/controls",
            "_view_module_version": "1.5.0",
            "_view_name": "HTMLView",
            "description": "",
            "description_tooltip": null,
            "layout": "IPY_MODEL_0ca6895c18574bd4864c150330326443",
            "placeholder": "​",
            "style": "IPY_MODEL_34565abbb817495384ccfcebc0ab300c",
            "value": "Downloading: 100%"
          }
        },
        "0d33521a533d404e9649f1dac74be36c": {
          "model_module": "@jupyter-widgets/controls",
          "model_name": "FloatProgressModel",
          "model_module_version": "1.5.0",
          "state": {
            "_dom_classes": [],
            "_model_module": "@jupyter-widgets/controls",
            "_model_module_version": "1.5.0",
            "_model_name": "FloatProgressModel",
            "_view_count": null,
            "_view_module": "@jupyter-widgets/controls",
            "_view_module_version": "1.5.0",
            "_view_name": "ProgressView",
            "bar_style": "success",
            "description": "",
            "description_tooltip": null,
            "layout": "IPY_MODEL_96fc95c04bd04b5d8954f930a6409805",
            "max": 380267417,
            "min": 0,
            "orientation": "horizontal",
            "style": "IPY_MODEL_79bef964970a4655940351083fee48bb",
            "value": 380267417
          }
        },
        "5e5322e6af914c3d9741fa557766c200": {
          "model_module": "@jupyter-widgets/controls",
          "model_name": "HTMLModel",
          "model_module_version": "1.5.0",
          "state": {
            "_dom_classes": [],
            "_model_module": "@jupyter-widgets/controls",
            "_model_module_version": "1.5.0",
            "_model_name": "HTMLModel",
            "_view_count": null,
            "_view_module": "@jupyter-widgets/controls",
            "_view_module_version": "1.5.0",
            "_view_name": "HTMLView",
            "description": "",
            "description_tooltip": null,
            "layout": "IPY_MODEL_1f0b6a23b248487a903adcd1b267afd3",
            "placeholder": "​",
            "style": "IPY_MODEL_6654a9a235df439bab2468d101dbe612",
            "value": " 380M/380M [00:14&lt;00:00, 19.5MB/s]"
          }
        },
        "7f3cde25a03a4c58ab9f46cf867b5296": {
          "model_module": "@jupyter-widgets/base",
          "model_name": "LayoutModel",
          "model_module_version": "1.2.0",
          "state": {
            "_model_module": "@jupyter-widgets/base",
            "_model_module_version": "1.2.0",
            "_model_name": "LayoutModel",
            "_view_count": null,
            "_view_module": "@jupyter-widgets/base",
            "_view_module_version": "1.2.0",
            "_view_name": "LayoutView",
            "align_content": null,
            "align_items": null,
            "align_self": null,
            "border": null,
            "bottom": null,
            "display": null,
            "flex": null,
            "flex_flow": null,
            "grid_area": null,
            "grid_auto_columns": null,
            "grid_auto_flow": null,
            "grid_auto_rows": null,
            "grid_column": null,
            "grid_gap": null,
            "grid_row": null,
            "grid_template_areas": null,
            "grid_template_columns": null,
            "grid_template_rows": null,
            "height": null,
            "justify_content": null,
            "justify_items": null,
            "left": null,
            "margin": null,
            "max_height": null,
            "max_width": null,
            "min_height": null,
            "min_width": null,
            "object_fit": null,
            "object_position": null,
            "order": null,
            "overflow": null,
            "overflow_x": null,
            "overflow_y": null,
            "padding": null,
            "right": null,
            "top": null,
            "visibility": null,
            "width": null
          }
        },
        "0ca6895c18574bd4864c150330326443": {
          "model_module": "@jupyter-widgets/base",
          "model_name": "LayoutModel",
          "model_module_version": "1.2.0",
          "state": {
            "_model_module": "@jupyter-widgets/base",
            "_model_module_version": "1.2.0",
            "_model_name": "LayoutModel",
            "_view_count": null,
            "_view_module": "@jupyter-widgets/base",
            "_view_module_version": "1.2.0",
            "_view_name": "LayoutView",
            "align_content": null,
            "align_items": null,
            "align_self": null,
            "border": null,
            "bottom": null,
            "display": null,
            "flex": null,
            "flex_flow": null,
            "grid_area": null,
            "grid_auto_columns": null,
            "grid_auto_flow": null,
            "grid_auto_rows": null,
            "grid_column": null,
            "grid_gap": null,
            "grid_row": null,
            "grid_template_areas": null,
            "grid_template_columns": null,
            "grid_template_rows": null,
            "height": null,
            "justify_content": null,
            "justify_items": null,
            "left": null,
            "margin": null,
            "max_height": null,
            "max_width": null,
            "min_height": null,
            "min_width": null,
            "object_fit": null,
            "object_position": null,
            "order": null,
            "overflow": null,
            "overflow_x": null,
            "overflow_y": null,
            "padding": null,
            "right": null,
            "top": null,
            "visibility": null,
            "width": null
          }
        },
        "34565abbb817495384ccfcebc0ab300c": {
          "model_module": "@jupyter-widgets/controls",
          "model_name": "DescriptionStyleModel",
          "model_module_version": "1.5.0",
          "state": {
            "_model_module": "@jupyter-widgets/controls",
            "_model_module_version": "1.5.0",
            "_model_name": "DescriptionStyleModel",
            "_view_count": null,
            "_view_module": "@jupyter-widgets/base",
            "_view_module_version": "1.2.0",
            "_view_name": "StyleView",
            "description_width": ""
          }
        },
        "96fc95c04bd04b5d8954f930a6409805": {
          "model_module": "@jupyter-widgets/base",
          "model_name": "LayoutModel",
          "model_module_version": "1.2.0",
          "state": {
            "_model_module": "@jupyter-widgets/base",
            "_model_module_version": "1.2.0",
            "_model_name": "LayoutModel",
            "_view_count": null,
            "_view_module": "@jupyter-widgets/base",
            "_view_module_version": "1.2.0",
            "_view_name": "LayoutView",
            "align_content": null,
            "align_items": null,
            "align_self": null,
            "border": null,
            "bottom": null,
            "display": null,
            "flex": null,
            "flex_flow": null,
            "grid_area": null,
            "grid_auto_columns": null,
            "grid_auto_flow": null,
            "grid_auto_rows": null,
            "grid_column": null,
            "grid_gap": null,
            "grid_row": null,
            "grid_template_areas": null,
            "grid_template_columns": null,
            "grid_template_rows": null,
            "height": null,
            "justify_content": null,
            "justify_items": null,
            "left": null,
            "margin": null,
            "max_height": null,
            "max_width": null,
            "min_height": null,
            "min_width": null,
            "object_fit": null,
            "object_position": null,
            "order": null,
            "overflow": null,
            "overflow_x": null,
            "overflow_y": null,
            "padding": null,
            "right": null,
            "top": null,
            "visibility": null,
            "width": null
          }
        },
        "79bef964970a4655940351083fee48bb": {
          "model_module": "@jupyter-widgets/controls",
          "model_name": "ProgressStyleModel",
          "model_module_version": "1.5.0",
          "state": {
            "_model_module": "@jupyter-widgets/controls",
            "_model_module_version": "1.5.0",
            "_model_name": "ProgressStyleModel",
            "_view_count": null,
            "_view_module": "@jupyter-widgets/base",
            "_view_module_version": "1.2.0",
            "_view_name": "StyleView",
            "bar_color": null,
            "description_width": ""
          }
        },
        "1f0b6a23b248487a903adcd1b267afd3": {
          "model_module": "@jupyter-widgets/base",
          "model_name": "LayoutModel",
          "model_module_version": "1.2.0",
          "state": {
            "_model_module": "@jupyter-widgets/base",
            "_model_module_version": "1.2.0",
            "_model_name": "LayoutModel",
            "_view_count": null,
            "_view_module": "@jupyter-widgets/base",
            "_view_module_version": "1.2.0",
            "_view_name": "LayoutView",
            "align_content": null,
            "align_items": null,
            "align_self": null,
            "border": null,
            "bottom": null,
            "display": null,
            "flex": null,
            "flex_flow": null,
            "grid_area": null,
            "grid_auto_columns": null,
            "grid_auto_flow": null,
            "grid_auto_rows": null,
            "grid_column": null,
            "grid_gap": null,
            "grid_row": null,
            "grid_template_areas": null,
            "grid_template_columns": null,
            "grid_template_rows": null,
            "height": null,
            "justify_content": null,
            "justify_items": null,
            "left": null,
            "margin": null,
            "max_height": null,
            "max_width": null,
            "min_height": null,
            "min_width": null,
            "object_fit": null,
            "object_position": null,
            "order": null,
            "overflow": null,
            "overflow_x": null,
            "overflow_y": null,
            "padding": null,
            "right": null,
            "top": null,
            "visibility": null,
            "width": null
          }
        },
        "6654a9a235df439bab2468d101dbe612": {
          "model_module": "@jupyter-widgets/controls",
          "model_name": "DescriptionStyleModel",
          "model_module_version": "1.5.0",
          "state": {
            "_model_module": "@jupyter-widgets/controls",
            "_model_module_version": "1.5.0",
            "_model_name": "DescriptionStyleModel",
            "_view_count": null,
            "_view_module": "@jupyter-widgets/base",
            "_view_module_version": "1.2.0",
            "_view_name": "StyleView",
            "description_width": ""
          }
        }
      }
    }
  },
  "cells": [
    {
      "cell_type": "markdown",
      "metadata": {
        "id": "view-in-github",
        "colab_type": "text"
      },
      "source": [
        "<a href=\"https://colab.research.google.com/github/sccn/sound2meg/blob/main/wev2vec_tutorial.ipynb\" target=\"_parent\"><img src=\"https://colab.research.google.com/assets/colab-badge.svg\" alt=\"Open In Colab\"/></a>"
      ]
    },
    {
      "cell_type": "code",
      "source": [
        "!pip install datasets==1.18.3\n",
        "!pip install transformers==4.24.0\n",
        "!pip install huggingface_hub==0.11\n",
        "!pip install torchaudio\n",
        "!pip install librosa\n",
        "!pip install jiwer"
      ],
      "metadata": {
        "colab": {
          "base_uri": "https://localhost:8080/"
        },
        "id": "8bxgxPYS-lSf",
        "outputId": "5ac0b9ef-38bd-41e5-a051-6223e9af0c5e"
      },
      "execution_count": 1,
      "outputs": [
        {
          "output_type": "stream",
          "name": "stdout",
          "text": [
            "Looking in indexes: https://pypi.org/simple, https://us-python.pkg.dev/colab-wheels/public/simple/\n",
            "Requirement already satisfied: datasets==1.18.3 in /usr/local/lib/python3.9/dist-packages (1.18.3)\n",
            "Requirement already satisfied: pandas in /usr/local/lib/python3.9/dist-packages (from datasets==1.18.3) (1.4.4)\n",
            "Requirement already satisfied: huggingface-hub<1.0.0,>=0.1.0 in /usr/local/lib/python3.9/dist-packages (from datasets==1.18.3) (0.11.0)\n",
            "Requirement already satisfied: dill in /usr/local/lib/python3.9/dist-packages (from datasets==1.18.3) (0.3.6)\n",
            "Requirement already satisfied: tqdm>=4.62.1 in /usr/local/lib/python3.9/dist-packages (from datasets==1.18.3) (4.65.0)\n",
            "Requirement already satisfied: xxhash in /usr/local/lib/python3.9/dist-packages (from datasets==1.18.3) (3.2.0)\n",
            "Requirement already satisfied: multiprocess in /usr/local/lib/python3.9/dist-packages (from datasets==1.18.3) (0.70.14)\n",
            "Requirement already satisfied: numpy>=1.17 in /usr/local/lib/python3.9/dist-packages (from datasets==1.18.3) (1.22.4)\n",
            "Requirement already satisfied: packaging in /usr/local/lib/python3.9/dist-packages (from datasets==1.18.3) (23.0)\n",
            "Requirement already satisfied: aiohttp in /usr/local/lib/python3.9/dist-packages (from datasets==1.18.3) (3.8.4)\n",
            "Requirement already satisfied: pyarrow!=4.0.0,>=3.0.0 in /usr/local/lib/python3.9/dist-packages (from datasets==1.18.3) (9.0.0)\n",
            "Requirement already satisfied: fsspec[http]>=2021.05.0 in /usr/local/lib/python3.9/dist-packages (from datasets==1.18.3) (2023.3.0)\n",
            "Requirement already satisfied: requests>=2.19.0 in /usr/local/lib/python3.9/dist-packages (from datasets==1.18.3) (2.27.1)\n",
            "Requirement already satisfied: multidict<7.0,>=4.5 in /usr/local/lib/python3.9/dist-packages (from aiohttp->datasets==1.18.3) (6.0.4)\n",
            "Requirement already satisfied: yarl<2.0,>=1.0 in /usr/local/lib/python3.9/dist-packages (from aiohttp->datasets==1.18.3) (1.8.2)\n",
            "Requirement already satisfied: aiosignal>=1.1.2 in /usr/local/lib/python3.9/dist-packages (from aiohttp->datasets==1.18.3) (1.3.1)\n",
            "Requirement already satisfied: async-timeout<5.0,>=4.0.0a3 in /usr/local/lib/python3.9/dist-packages (from aiohttp->datasets==1.18.3) (4.0.2)\n",
            "Requirement already satisfied: attrs>=17.3.0 in /usr/local/lib/python3.9/dist-packages (from aiohttp->datasets==1.18.3) (22.2.0)\n",
            "Requirement already satisfied: charset-normalizer<4.0,>=2.0 in /usr/local/lib/python3.9/dist-packages (from aiohttp->datasets==1.18.3) (2.0.12)\n",
            "Requirement already satisfied: frozenlist>=1.1.1 in /usr/local/lib/python3.9/dist-packages (from aiohttp->datasets==1.18.3) (1.3.3)\n",
            "Requirement already satisfied: filelock in /usr/local/lib/python3.9/dist-packages (from huggingface-hub<1.0.0,>=0.1.0->datasets==1.18.3) (3.10.0)\n",
            "Requirement already satisfied: typing-extensions>=3.7.4.3 in /usr/local/lib/python3.9/dist-packages (from huggingface-hub<1.0.0,>=0.1.0->datasets==1.18.3) (4.5.0)\n",
            "Requirement already satisfied: pyyaml>=5.1 in /usr/local/lib/python3.9/dist-packages (from huggingface-hub<1.0.0,>=0.1.0->datasets==1.18.3) (6.0)\n",
            "Requirement already satisfied: certifi>=2017.4.17 in /usr/local/lib/python3.9/dist-packages (from requests>=2.19.0->datasets==1.18.3) (2022.12.7)\n",
            "Requirement already satisfied: urllib3<1.27,>=1.21.1 in /usr/local/lib/python3.9/dist-packages (from requests>=2.19.0->datasets==1.18.3) (1.26.15)\n",
            "Requirement already satisfied: idna<4,>=2.5 in /usr/local/lib/python3.9/dist-packages (from requests>=2.19.0->datasets==1.18.3) (3.4)\n",
            "Requirement already satisfied: pytz>=2020.1 in /usr/local/lib/python3.9/dist-packages (from pandas->datasets==1.18.3) (2022.7.1)\n",
            "Requirement already satisfied: python-dateutil>=2.8.1 in /usr/local/lib/python3.9/dist-packages (from pandas->datasets==1.18.3) (2.8.2)\n",
            "Requirement already satisfied: six>=1.5 in /usr/local/lib/python3.9/dist-packages (from python-dateutil>=2.8.1->pandas->datasets==1.18.3) (1.15.0)\n",
            "Looking in indexes: https://pypi.org/simple, https://us-python.pkg.dev/colab-wheels/public/simple/\n",
            "Requirement already satisfied: transformers==4.24.0 in /usr/local/lib/python3.9/dist-packages (4.24.0)\n",
            "Requirement already satisfied: regex!=2019.12.17 in /usr/local/lib/python3.9/dist-packages (from transformers==4.24.0) (2022.10.31)\n",
            "Requirement already satisfied: packaging>=20.0 in /usr/local/lib/python3.9/dist-packages (from transformers==4.24.0) (23.0)\n",
            "Requirement already satisfied: tokenizers!=0.11.3,<0.14,>=0.11.1 in /usr/local/lib/python3.9/dist-packages (from transformers==4.24.0) (0.13.2)\n",
            "Requirement already satisfied: tqdm>=4.27 in /usr/local/lib/python3.9/dist-packages (from transformers==4.24.0) (4.65.0)\n",
            "Requirement already satisfied: huggingface-hub<1.0,>=0.10.0 in /usr/local/lib/python3.9/dist-packages (from transformers==4.24.0) (0.11.0)\n",
            "Requirement already satisfied: numpy>=1.17 in /usr/local/lib/python3.9/dist-packages (from transformers==4.24.0) (1.22.4)\n",
            "Requirement already satisfied: filelock in /usr/local/lib/python3.9/dist-packages (from transformers==4.24.0) (3.10.0)\n",
            "Requirement already satisfied: pyyaml>=5.1 in /usr/local/lib/python3.9/dist-packages (from transformers==4.24.0) (6.0)\n",
            "Requirement already satisfied: requests in /usr/local/lib/python3.9/dist-packages (from transformers==4.24.0) (2.27.1)\n",
            "Requirement already satisfied: typing-extensions>=3.7.4.3 in /usr/local/lib/python3.9/dist-packages (from huggingface-hub<1.0,>=0.10.0->transformers==4.24.0) (4.5.0)\n",
            "Requirement already satisfied: idna<4,>=2.5 in /usr/local/lib/python3.9/dist-packages (from requests->transformers==4.24.0) (3.4)\n",
            "Requirement already satisfied: certifi>=2017.4.17 in /usr/local/lib/python3.9/dist-packages (from requests->transformers==4.24.0) (2022.12.7)\n",
            "Requirement already satisfied: urllib3<1.27,>=1.21.1 in /usr/local/lib/python3.9/dist-packages (from requests->transformers==4.24.0) (1.26.15)\n",
            "Requirement already satisfied: charset-normalizer~=2.0.0 in /usr/local/lib/python3.9/dist-packages (from requests->transformers==4.24.0) (2.0.12)\n",
            "Looking in indexes: https://pypi.org/simple, https://us-python.pkg.dev/colab-wheels/public/simple/\n",
            "Requirement already satisfied: huggingface_hub==0.11 in /usr/local/lib/python3.9/dist-packages (0.11.0)\n",
            "Requirement already satisfied: pyyaml>=5.1 in /usr/local/lib/python3.9/dist-packages (from huggingface_hub==0.11) (6.0)\n",
            "Requirement already satisfied: tqdm in /usr/local/lib/python3.9/dist-packages (from huggingface_hub==0.11) (4.65.0)\n",
            "Requirement already satisfied: requests in /usr/local/lib/python3.9/dist-packages (from huggingface_hub==0.11) (2.27.1)\n",
            "Requirement already satisfied: filelock in /usr/local/lib/python3.9/dist-packages (from huggingface_hub==0.11) (3.10.0)\n",
            "Requirement already satisfied: packaging>=20.9 in /usr/local/lib/python3.9/dist-packages (from huggingface_hub==0.11) (23.0)\n",
            "Requirement already satisfied: typing-extensions>=3.7.4.3 in /usr/local/lib/python3.9/dist-packages (from huggingface_hub==0.11) (4.5.0)\n",
            "Requirement already satisfied: charset-normalizer~=2.0.0 in /usr/local/lib/python3.9/dist-packages (from requests->huggingface_hub==0.11) (2.0.12)\n",
            "Requirement already satisfied: urllib3<1.27,>=1.21.1 in /usr/local/lib/python3.9/dist-packages (from requests->huggingface_hub==0.11) (1.26.15)\n",
            "Requirement already satisfied: certifi>=2017.4.17 in /usr/local/lib/python3.9/dist-packages (from requests->huggingface_hub==0.11) (2022.12.7)\n",
            "Requirement already satisfied: idna<4,>=2.5 in /usr/local/lib/python3.9/dist-packages (from requests->huggingface_hub==0.11) (3.4)\n",
            "Looking in indexes: https://pypi.org/simple, https://us-python.pkg.dev/colab-wheels/public/simple/\n",
            "Requirement already satisfied: torchaudio in /usr/local/lib/python3.9/dist-packages (0.13.1+cu116)\n",
            "Requirement already satisfied: torch==1.13.1 in /usr/local/lib/python3.9/dist-packages (from torchaudio) (1.13.1+cu116)\n",
            "Requirement already satisfied: typing-extensions in /usr/local/lib/python3.9/dist-packages (from torch==1.13.1->torchaudio) (4.5.0)\n",
            "Looking in indexes: https://pypi.org/simple, https://us-python.pkg.dev/colab-wheels/public/simple/\n",
            "Requirement already satisfied: librosa in /usr/local/lib/python3.9/dist-packages (0.10.0.post1)\n",
            "Requirement already satisfied: typing-extensions>=4.1.1 in /usr/local/lib/python3.9/dist-packages (from librosa) (4.5.0)\n",
            "Requirement already satisfied: joblib>=0.14 in /usr/local/lib/python3.9/dist-packages (from librosa) (1.1.1)\n",
            "Requirement already satisfied: pooch>=1.0 in /usr/local/lib/python3.9/dist-packages (from librosa) (1.7.0)\n",
            "Requirement already satisfied: numpy!=1.22.0,!=1.22.1,!=1.22.2,>=1.20.3 in /usr/local/lib/python3.9/dist-packages (from librosa) (1.22.4)\n",
            "Requirement already satisfied: decorator>=4.3.0 in /usr/local/lib/python3.9/dist-packages (from librosa) (4.4.2)\n",
            "Requirement already satisfied: scikit-learn>=0.20.0 in /usr/local/lib/python3.9/dist-packages (from librosa) (1.2.2)\n",
            "Requirement already satisfied: scipy>=1.2.0 in /usr/local/lib/python3.9/dist-packages (from librosa) (1.10.1)\n",
            "Requirement already satisfied: soundfile>=0.12.1 in /usr/local/lib/python3.9/dist-packages (from librosa) (0.12.1)\n",
            "Requirement already satisfied: lazy-loader>=0.1 in /usr/local/lib/python3.9/dist-packages (from librosa) (0.1)\n",
            "Requirement already satisfied: soxr>=0.3.2 in /usr/local/lib/python3.9/dist-packages (from librosa) (0.3.4)\n",
            "Requirement already satisfied: audioread>=2.1.9 in /usr/local/lib/python3.9/dist-packages (from librosa) (3.0.0)\n",
            "Requirement already satisfied: numba>=0.51.0 in /usr/local/lib/python3.9/dist-packages (from librosa) (0.56.4)\n",
            "Requirement already satisfied: msgpack>=1.0 in /usr/local/lib/python3.9/dist-packages (from librosa) (1.0.5)\n",
            "Requirement already satisfied: setuptools in /usr/local/lib/python3.9/dist-packages (from numba>=0.51.0->librosa) (63.4.3)\n",
            "Requirement already satisfied: llvmlite<0.40,>=0.39.0dev0 in /usr/local/lib/python3.9/dist-packages (from numba>=0.51.0->librosa) (0.39.1)\n",
            "Requirement already satisfied: packaging>=20.0 in /usr/local/lib/python3.9/dist-packages (from pooch>=1.0->librosa) (23.0)\n",
            "Requirement already satisfied: requests>=2.19.0 in /usr/local/lib/python3.9/dist-packages (from pooch>=1.0->librosa) (2.27.1)\n",
            "Requirement already satisfied: platformdirs>=2.5.0 in /usr/local/lib/python3.9/dist-packages (from pooch>=1.0->librosa) (3.1.1)\n",
            "Requirement already satisfied: threadpoolctl>=2.0.0 in /usr/local/lib/python3.9/dist-packages (from scikit-learn>=0.20.0->librosa) (3.1.0)\n",
            "Requirement already satisfied: cffi>=1.0 in /usr/local/lib/python3.9/dist-packages (from soundfile>=0.12.1->librosa) (1.15.1)\n",
            "Requirement already satisfied: pycparser in /usr/local/lib/python3.9/dist-packages (from cffi>=1.0->soundfile>=0.12.1->librosa) (2.21)\n",
            "Requirement already satisfied: certifi>=2017.4.17 in /usr/local/lib/python3.9/dist-packages (from requests>=2.19.0->pooch>=1.0->librosa) (2022.12.7)\n",
            "Requirement already satisfied: charset-normalizer~=2.0.0 in /usr/local/lib/python3.9/dist-packages (from requests>=2.19.0->pooch>=1.0->librosa) (2.0.12)\n",
            "Requirement already satisfied: urllib3<1.27,>=1.21.1 in /usr/local/lib/python3.9/dist-packages (from requests>=2.19.0->pooch>=1.0->librosa) (1.26.15)\n",
            "Requirement already satisfied: idna<4,>=2.5 in /usr/local/lib/python3.9/dist-packages (from requests>=2.19.0->pooch>=1.0->librosa) (3.4)\n",
            "Looking in indexes: https://pypi.org/simple, https://us-python.pkg.dev/colab-wheels/public/simple/\n",
            "Requirement already satisfied: jiwer in /usr/local/lib/python3.9/dist-packages (3.0.0)\n",
            "Requirement already satisfied: click<9.0.0,>=8.1.3 in /usr/local/lib/python3.9/dist-packages (from jiwer) (8.1.3)\n",
            "Requirement already satisfied: rapidfuzz==2.13.7 in /usr/local/lib/python3.9/dist-packages (from jiwer) (2.13.7)\n"
          ]
        }
      ]
    },
    {
      "cell_type": "code",
      "execution_count": 2,
      "metadata": {
        "colab": {
          "base_uri": "https://localhost:8080/",
          "height": 87,
          "referenced_widgets": [
            "3c7e873954884d4e80f96a497c24c3bb",
            "f08e96e8316b4f00b348838e123fef06",
            "154031f39f844643960ff551e74a70a1",
            "884c8072b0314872aad7486b4414a4dc",
            "080fe05a8c5642e2876c985c26c4c7ee",
            "cf073749a5a64871a2d71cc521e8413d",
            "ab8a35aa06054561a08e4abc4ffef4af",
            "bb87f12f92b54246bfe18cf04b1676ad",
            "8c5f7e64d8b240eda7e3ab56122d7e76",
            "64dbee149a6b406ba2e736e0ef671ded",
            "d0ea6ce802f14b2a8a0425bef4525ea6"
          ]
        },
        "id": "HzUY-5c192ku",
        "outputId": "bd9f2671-404f-46aa-c68f-38030206dc29"
      },
      "outputs": [
        {
          "output_type": "stream",
          "name": "stderr",
          "text": [
            "WARNING:datasets.builder:Reusing dataset timit_asr (/root/.cache/huggingface/datasets/timit_asr/clean/2.0.1/b11b576ddcccbcefa7c9f0c4e6c2a43756f3033adffe0fb686aa61043d0450ad)\n"
          ]
        },
        {
          "output_type": "display_data",
          "data": {
            "text/plain": [
              "  0%|          | 0/2 [00:00<?, ?it/s]"
            ],
            "application/vnd.jupyter.widget-view+json": {
              "version_major": 2,
              "version_minor": 0,
              "model_id": "3c7e873954884d4e80f96a497c24c3bb"
            }
          },
          "metadata": {}
        }
      ],
      "source": [
        "from datasets import load_dataset, load_metric, Audio\n",
        "\n",
        "timit = load_dataset(\"timit_asr\")\n",
        "\n",
        "\n",
        "# common_voice_train = load_dataset(\"common_voice\", \"en\", split=\"train+validation\")\n",
        "# common_voice_test = load_dataset(\"common_voice\", \"en\", split=\"test\")"
      ]
    },
    {
      "cell_type": "code",
      "source": [
        "timit = timit.remove_columns([\"phonetic_detail\", \"word_detail\", \"dialect_region\", \"id\", \"sentence_type\", \"speaker_id\"])\n",
        "\n"
      ],
      "metadata": {
        "id": "Q3NsUzgyBYPm"
      },
      "execution_count": 3,
      "outputs": []
    },
    {
      "cell_type": "code",
      "source": [
        "from datasets import ClassLabel\n",
        "import random\n",
        "import pandas as pd\n",
        "from IPython.display import display, HTML\n",
        "\n",
        "def show_random_elements(dataset, num_examples=10):\n",
        "    assert num_examples <= len(dataset), \"Can't pick more elements than there are in the dataset.\"\n",
        "    picks = []\n",
        "    for _ in range(num_examples):\n",
        "        pick = random.randint(0, len(dataset)-1)\n",
        "        while pick in picks:\n",
        "            pick = random.randint(0, len(dataset)-1)\n",
        "        picks.append(pick)\n",
        "    \n",
        "    df = pd.DataFrame(dataset[picks])\n",
        "    display(HTML(df.to_html()))"
      ],
      "metadata": {
        "id": "SpNNQFib-xY8"
      },
      "execution_count": 4,
      "outputs": []
    },
    {
      "cell_type": "code",
      "source": [],
      "metadata": {
        "id": "AiVdXwVfBeEo"
      },
      "execution_count": null,
      "outputs": []
    },
    {
      "cell_type": "code",
      "source": [
        "import re\n",
        "chars_to_ignore_regex = '[\\,\\?\\.\\!\\-\\;\\:\\\"]'\n",
        "\n",
        "def remove_special_characters(batch):\n",
        "    batch[\"sentence\"] = re.sub(chars_to_ignore_regex, '', batch[\"text\"]).lower()\n",
        "    return batch\n",
        "\n",
        "timit = timit.map(remove_special_characters)\n",
        "\n",
        "\n",
        "# common_voice_train = common_voice_train.map(remove_special_characters)\n",
        "# common_voice_test = common_voice_test.map(remove_special_characters)"
      ],
      "metadata": {
        "colab": {
          "base_uri": "https://localhost:8080/",
          "height": 119,
          "referenced_widgets": [
            "79637b9946f3419f8cd3840a24306b28",
            "45226fe6598245faa7b64c12658aa6cf",
            "97c2bba03e6c4ecfa4a9d99877ef009e",
            "13a05c3b0d214da4943cf303ba9250be",
            "0a16225a33a5435ea2db5dc561c8a3c0",
            "51dc881e6a53495b9c2d92f4c48847ce",
            "84f2d7643d4445a483c30668bb4e61ab",
            "e61ebc02017b4fe38efb552ebda3c55e",
            "ad86a55dbb834d6a84abed67e3c718d1",
            "8e7931d31f6645398e2ff06d51277b0c",
            "d5776d09bc474a21b43c38394eceec1c",
            "7d4bbeabaae64a34a803de14a9f48030",
            "0adf53440f774362a4b5d5f98a15f707",
            "3c2a70818c584e018fda2b2aa0939de0",
            "3a4ae07721f94f9f8e512dcfa761edcd",
            "af360f4dfb364790a29b7f6742cb1dd0",
            "21d51a0e8295458285d61c1e51d79dd9",
            "16eb784524b34f769acb4ff673c3e152",
            "400f253f9377448f88b662df0f759674",
            "d0277193905c44e5aa9dd53a2ed6a3fc",
            "f5fef93fc88d40d5ae6247f8690c7eae",
            "55e80f7d15e04caa98e7decf328ad8e4"
          ]
        },
        "id": "SFxdpRNl-z8j",
        "outputId": "ff3fb15f-e29d-46fe-95a8-dc097632a4ec"
      },
      "execution_count": 5,
      "outputs": [
        {
          "output_type": "stream",
          "name": "stderr",
          "text": [
            "WARNING:datasets.fingerprint:Parameter 'function'=<function remove_special_characters at 0x7fb9bb7d4dc0> of the transform datasets.arrow_dataset.Dataset._map_single couldn't be hashed properly, a random hash was used instead. Make sure your transforms and parameters are serializable with pickle or dill for the dataset fingerprinting and caching to work. If you reuse this transform, the caching mechanism will consider it to be different from the previous calls and recompute everything. This warning is only showed once. Subsequent hashing failures won't be showed.\n"
          ]
        },
        {
          "output_type": "display_data",
          "data": {
            "text/plain": [
              "0ex [00:00, ?ex/s]"
            ],
            "application/vnd.jupyter.widget-view+json": {
              "version_major": 2,
              "version_minor": 0,
              "model_id": "79637b9946f3419f8cd3840a24306b28"
            }
          },
          "metadata": {}
        },
        {
          "output_type": "display_data",
          "data": {
            "text/plain": [
              "0ex [00:00, ?ex/s]"
            ],
            "application/vnd.jupyter.widget-view+json": {
              "version_major": 2,
              "version_minor": 0,
              "model_id": "7d4bbeabaae64a34a803de14a9f48030"
            }
          },
          "metadata": {}
        }
      ]
    },
    {
      "cell_type": "code",
      "source": [
        "show_random_elements(timit[\"train\"].remove_columns([\"file\", \"audio\"]))\n",
        "\n"
      ],
      "metadata": {
        "colab": {
          "base_uri": "https://localhost:8080/",
          "height": 363
        },
        "id": "k9GRL_ZI_G9u",
        "outputId": "3e9a01e0-92e5-4669-b164-06b251705558"
      },
      "execution_count": 6,
      "outputs": [
        {
          "output_type": "display_data",
          "data": {
            "text/plain": [
              "<IPython.core.display.HTML object>"
            ],
            "text/html": [
              "<table border=\"1\" class=\"dataframe\">\n",
              "  <thead>\n",
              "    <tr style=\"text-align: right;\">\n",
              "      <th></th>\n",
              "      <th>text</th>\n",
              "      <th>sentence</th>\n",
              "    </tr>\n",
              "  </thead>\n",
              "  <tbody>\n",
              "    <tr>\n",
              "      <th>0</th>\n",
              "      <td>She encouraged her children to make their own Halloween costumes.</td>\n",
              "      <td>she encouraged her children to make their own halloween costumes</td>\n",
              "    </tr>\n",
              "    <tr>\n",
              "      <th>1</th>\n",
              "      <td>The paper boy bought two apples and three ices.</td>\n",
              "      <td>the paper boy bought two apples and three ices</td>\n",
              "    </tr>\n",
              "    <tr>\n",
              "      <th>2</th>\n",
              "      <td>The news agency hired a great journalist.</td>\n",
              "      <td>the news agency hired a great journalist</td>\n",
              "    </tr>\n",
              "    <tr>\n",
              "      <th>3</th>\n",
              "      <td>Orange juice tastes funny after toothpaste.</td>\n",
              "      <td>orange juice tastes funny after toothpaste</td>\n",
              "    </tr>\n",
              "    <tr>\n",
              "      <th>4</th>\n",
              "      <td>Any contributions will be greatly appreciated.</td>\n",
              "      <td>any contributions will be greatly appreciated</td>\n",
              "    </tr>\n",
              "    <tr>\n",
              "      <th>5</th>\n",
              "      <td>You're right now, buddy.</td>\n",
              "      <td>you're right now buddy</td>\n",
              "    </tr>\n",
              "    <tr>\n",
              "      <th>6</th>\n",
              "      <td>They even pay me six dollars a month.</td>\n",
              "      <td>they even pay me six dollars a month</td>\n",
              "    </tr>\n",
              "    <tr>\n",
              "      <th>7</th>\n",
              "      <td>My desires are simple: give me one informative paragraph on the subject.</td>\n",
              "      <td>my desires are simple give me one informative paragraph on the subject</td>\n",
              "    </tr>\n",
              "    <tr>\n",
              "      <th>8</th>\n",
              "      <td>My sincere wish is that he continues to add to this record he sets here today.</td>\n",
              "      <td>my sincere wish is that he continues to add to this record he sets here today</td>\n",
              "    </tr>\n",
              "    <tr>\n",
              "      <th>9</th>\n",
              "      <td>Cooperation along with understanding alleviate dispute.</td>\n",
              "      <td>cooperation along with understanding alleviate dispute</td>\n",
              "    </tr>\n",
              "  </tbody>\n",
              "</table>"
            ]
          },
          "metadata": {}
        }
      ]
    },
    {
      "cell_type": "code",
      "source": [
        "def extract_all_chars(batch):\n",
        "  all_text = \" \".join(batch[\"text\"])\n",
        "  vocab = list(set(all_text))\n",
        "  return {\"vocab\": [vocab], \"all_text\": [all_text]}"
      ],
      "metadata": {
        "id": "PmKqLx7q_jdv"
      },
      "execution_count": 7,
      "outputs": []
    },
    {
      "cell_type": "code",
      "source": [
        "vocabs = timit.map(extract_all_chars, batched=True, batch_size=-1, keep_in_memory=True, remove_columns=timit.column_names[\"train\"])\n"
      ],
      "metadata": {
        "colab": {
          "base_uri": "https://localhost:8080/",
          "height": 81,
          "referenced_widgets": [
            "bc5f537eee20453aba957a01fb909f08",
            "462474a7e51f4516bafd1b772622cd75",
            "1dd7352f91d0494e95e5d7ff5219c831",
            "688a0c6cb5dd44db988984e2222b131f",
            "b8e72f639d3f48cf825d85631dfb1014",
            "028315aa15c840b5b663f4030bce879d",
            "917e61f494734aa89243f926400712ea",
            "2d0cc41e83a84419aaf37cf229a1fe30",
            "b9f3a02bf1f242b1915035097d423e64",
            "c131f5b25c424bfa9876efbaf590ba06",
            "6053801be3ef401e80e0b9f0f05bfb0c",
            "8a6adb85a9d94f6bbb8f7f95780c1007",
            "700563a8e88246188d55dda37df43a70",
            "a11d7d915ddb404aad1ffaa1fac270df",
            "2e1e434a3a3d4d37a785c6112bf44ce1",
            "873fd0d275224476a111feeb31c54b56",
            "74e176ffb90644cf8143d90e60768081",
            "f8c01485e5f74bb3941a97482794c245",
            "72dda03d0ae342209b15b241d7892f5e",
            "3487898a0d40496e89fe479c694eb5fa",
            "49f4ca886f974137892548187d263737",
            "bc68eebbc49642009db70fd1e9838848"
          ]
        },
        "id": "PRQDfML7_lhz",
        "outputId": "b26e571a-c30a-4df5-f4f5-716213dc6025"
      },
      "execution_count": 8,
      "outputs": [
        {
          "output_type": "display_data",
          "data": {
            "text/plain": [
              "  0%|          | 0/1 [00:00<?, ?ba/s]"
            ],
            "application/vnd.jupyter.widget-view+json": {
              "version_major": 2,
              "version_minor": 0,
              "model_id": "bc5f537eee20453aba957a01fb909f08"
            }
          },
          "metadata": {}
        },
        {
          "output_type": "display_data",
          "data": {
            "text/plain": [
              "  0%|          | 0/1 [00:00<?, ?ba/s]"
            ],
            "application/vnd.jupyter.widget-view+json": {
              "version_major": 2,
              "version_minor": 0,
              "model_id": "8a6adb85a9d94f6bbb8f7f95780c1007"
            }
          },
          "metadata": {}
        }
      ]
    },
    {
      "cell_type": "code",
      "source": [
        "vocab_list = list(set(vocabs[\"train\"][\"vocab\"][0]) | set(vocabs[\"test\"][\"vocab\"][0]))\n",
        "\n",
        "vocab_dict = {v: k for k, v in enumerate(vocab_list)}\n",
        "vocab_dict\n"
      ],
      "metadata": {
        "id": "_jx-S8tY_nHO",
        "outputId": "9e158aed-57fc-4701-8c08-2b2009280280",
        "colab": {
          "base_uri": "https://localhost:8080/"
        }
      },
      "execution_count": 9,
      "outputs": [
        {
          "output_type": "execute_result",
          "data": {
            "text/plain": [
              "{'E': 0,\n",
              " 'u': 1,\n",
              " ',': 2,\n",
              " 'F': 3,\n",
              " 'n': 4,\n",
              " 't': 5,\n",
              " ' ': 6,\n",
              " 'r': 7,\n",
              " 's': 8,\n",
              " 'o': 9,\n",
              " 'D': 10,\n",
              " '!': 11,\n",
              " 'k': 12,\n",
              " 'N': 13,\n",
              " 'p': 14,\n",
              " 'H': 15,\n",
              " 'b': 16,\n",
              " 'M': 17,\n",
              " ':': 18,\n",
              " 'g': 19,\n",
              " '-': 20,\n",
              " 'X': 21,\n",
              " 'w': 22,\n",
              " 'a': 23,\n",
              " 'l': 24,\n",
              " 'f': 25,\n",
              " 'h': 26,\n",
              " 'i': 27,\n",
              " 'x': 28,\n",
              " 'T': 29,\n",
              " 'j': 30,\n",
              " '?': 31,\n",
              " 'e': 32,\n",
              " 'z': 33,\n",
              " 'K': 34,\n",
              " 'G': 35,\n",
              " 'y': 36,\n",
              " '.': 37,\n",
              " 'I': 38,\n",
              " ';': 39,\n",
              " '\"': 40,\n",
              " 'A': 41,\n",
              " 'Y': 42,\n",
              " 'L': 43,\n",
              " 'P': 44,\n",
              " 'd': 45,\n",
              " 'W': 46,\n",
              " 'O': 47,\n",
              " 'S': 48,\n",
              " 'B': 49,\n",
              " 'q': 50,\n",
              " \"'\": 51,\n",
              " 'R': 52,\n",
              " 'U': 53,\n",
              " 'Q': 54,\n",
              " 'C': 55,\n",
              " 'v': 56,\n",
              " 'V': 57,\n",
              " 'm': 58,\n",
              " 'J': 59,\n",
              " 'c': 60}"
            ]
          },
          "metadata": {},
          "execution_count": 9
        }
      ]
    },
    {
      "cell_type": "code",
      "source": [
        "vocab_dict[\"|\"] = vocab_dict[\" \"]\n",
        "del vocab_dict[\" \"]"
      ],
      "metadata": {
        "id": "kDGrJvSm_-Lr"
      },
      "execution_count": 10,
      "outputs": []
    },
    {
      "cell_type": "code",
      "source": [
        "vocab_dict[\"[UNK]\"] = len(vocab_dict)\n",
        "vocab_dict[\"[PAD]\"] = len(vocab_dict)\n",
        "len(vocab_dict)"
      ],
      "metadata": {
        "colab": {
          "base_uri": "https://localhost:8080/"
        },
        "id": "c1wajl5MAADP",
        "outputId": "616a73ed-c6ca-44c3-fd04-0a46a884e9e6"
      },
      "execution_count": 11,
      "outputs": [
        {
          "output_type": "execute_result",
          "data": {
            "text/plain": [
              "63"
            ]
          },
          "metadata": {},
          "execution_count": 11
        }
      ]
    },
    {
      "cell_type": "code",
      "source": [
        "import json\n",
        "with open('vocab.json', 'w') as vocab_file:\n",
        "    json.dump(vocab_dict, vocab_file)"
      ],
      "metadata": {
        "id": "XsidiKawACVa"
      },
      "execution_count": 12,
      "outputs": []
    },
    {
      "cell_type": "code",
      "source": [
        "from transformers import Wav2Vec2CTCTokenizer\n",
        "\n",
        "tokenizer = Wav2Vec2CTCTokenizer.from_pretrained(\"./\", unk_token=\"[UNK]\", pad_token=\"[PAD]\", word_delimiter_token=\"|\")"
      ],
      "metadata": {
        "colab": {
          "base_uri": "https://localhost:8080/"
        },
        "id": "JmH7xkPaANzD",
        "outputId": "9cc67e7a-a131-4451-d370-51d47bdaffd8"
      },
      "execution_count": 13,
      "outputs": [
        {
          "output_type": "stream",
          "name": "stderr",
          "text": [
            "Special tokens have been added in the vocabulary, make sure the associated word embeddings are fine-tuned or trained.\n"
          ]
        }
      ]
    },
    {
      "cell_type": "code",
      "source": [
        "from transformers import Wav2Vec2CTCTokenizer\n",
        "\n",
        "tokenizer = Wav2Vec2CTCTokenizer(\"./vocab.json\", unk_token=\"[UNK]\", pad_token=\"[PAD]\", word_delimiter_token=\"|\")"
      ],
      "metadata": {
        "id": "zdMWcKG3APk5"
      },
      "execution_count": 14,
      "outputs": []
    },
    {
      "cell_type": "code",
      "source": [
        "!huggingface-cli login"
      ],
      "metadata": {
        "id": "gBWhP2PFD_jH",
        "outputId": "5f05e8bd-3a8e-4b3e-942b-90cacd4b3fc2",
        "colab": {
          "base_uri": "https://localhost:8080/"
        }
      },
      "execution_count": 17,
      "outputs": [
        {
          "output_type": "stream",
          "name": "stdout",
          "text": [
            "\n",
            "    _|    _|  _|    _|    _|_|_|    _|_|_|  _|_|_|  _|      _|    _|_|_|      _|_|_|_|    _|_|      _|_|_|  _|_|_|_|\n",
            "    _|    _|  _|    _|  _|        _|          _|    _|_|    _|  _|            _|        _|    _|  _|        _|\n",
            "    _|_|_|_|  _|    _|  _|  _|_|  _|  _|_|    _|    _|  _|  _|  _|  _|_|      _|_|_|    _|_|_|_|  _|        _|_|_|\n",
            "    _|    _|  _|    _|  _|    _|  _|    _|    _|    _|    _|_|  _|    _|      _|        _|    _|  _|        _|\n",
            "    _|    _|    _|_|      _|_|_|    _|_|_|  _|_|_|  _|      _|    _|_|_|      _|        _|    _|    _|_|_|  _|_|_|_|\n",
            "\n",
            "    To login, `huggingface_hub` now requires a token generated from https://huggingface.co/settings/tokens .\n",
            "    \n",
            "Token: \n",
            "Add token as git credential? (Y/n) n\n",
            "Token is valid.\n",
            "Your token has been saved to /root/.huggingface/token\n",
            "Login successful\n"
          ]
        }
      ]
    },
    {
      "cell_type": "code",
      "source": [
        "from huggingface_hub import create_repo\n",
        "\n",
        "\n",
        "repo_name = \"wav2vec2-base-timit-demo-colab\"\n",
        "\n",
        "\n",
        "tokenizer.push_to_hub(repo_name)"
      ],
      "metadata": {
        "id": "lEA1F6VcAeb2",
        "outputId": "9b88d729-6597-4cc5-9738-a855d0f0fd27",
        "colab": {
          "base_uri": "https://localhost:8080/"
        }
      },
      "execution_count": 18,
      "outputs": [
        {
          "output_type": "execute_result",
          "data": {
            "text/plain": [
              "CommitInfo(commit_url='https://huggingface.co/thyungkim/wav2vec2-base-timit-demo-colab/commit/a1ae0d7ce6e0d13dbfb3aa55a97595f7e4b9a282', commit_message='Upload tokenizer', commit_description='', oid='a1ae0d7ce6e0d13dbfb3aa55a97595f7e4b9a282', pr_url=None, pr_revision=None, pr_num=None)"
            ]
          },
          "metadata": {},
          "execution_count": 18
        }
      ]
    },
    {
      "cell_type": "code",
      "source": [
        "from transformers import Wav2Vec2FeatureExtractor\n",
        "\n",
        "feature_extractor = Wav2Vec2FeatureExtractor(feature_size=1, sampling_rate=16000, padding_value=0.0, do_normalize=True, return_attention_mask=False)"
      ],
      "metadata": {
        "id": "gp4-dySEAjSX"
      },
      "execution_count": 19,
      "outputs": []
    },
    {
      "cell_type": "code",
      "source": [
        "from transformers import Wav2Vec2Processor\n",
        "\n",
        "processor = Wav2Vec2Processor(feature_extractor=feature_extractor, tokenizer=tokenizer)"
      ],
      "metadata": {
        "id": "cqA6t7xtCGdB"
      },
      "execution_count": 20,
      "outputs": []
    },
    {
      "cell_type": "code",
      "source": [],
      "metadata": {
        "id": "AJKC27wPCK6Q"
      },
      "execution_count": null,
      "outputs": []
    },
    {
      "cell_type": "code",
      "source": [
        "import IPython.display as ipd\n",
        "import numpy as np\n",
        "import random\n",
        "\n",
        "rand_int = random.randint(0, len(timit[\"train\"]))\n",
        "\n",
        "print(timit[\"train\"][rand_int][\"text\"])\n",
        "ipd.Audio(data=np.asarray(timit[\"train\"][rand_int][\"audio\"][\"array\"]), autoplay=True, rate=16000)"
      ],
      "metadata": {
        "id": "rc92DZP2CK8d",
        "outputId": "7fa8dcd8-1de0-40df-ff69-819fd2917e65",
        "colab": {
          "base_uri": "https://localhost:8080/",
          "height": 92
        }
      },
      "execution_count": 21,
      "outputs": [
        {
          "output_type": "stream",
          "name": "stdout",
          "text": [
            "The full moon shone brightly that night.\n"
          ]
        },
        {
          "output_type": "execute_result",
          "data": {
            "text/plain": [
              "<IPython.lib.display.Audio object>"
            ],
            "text/html": [
              "\n",
              "                <audio  controls=\"controls\" autoplay=\"autoplay\">\n",
              "                    <source src=\"data:audio/wav;base64,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\" type=\"audio/wav\" />\n",
              "                    Your browser does not support the audio element.\n",
              "                </audio>\n",
              "              "
            ]
          },
          "metadata": {},
          "execution_count": 21
        }
      ]
    },
    {
      "cell_type": "code",
      "source": [
        "rand_int = random.randint(0, len(timit[\"train\"]))\n",
        "\n",
        "print(\"Target text:\", timit[\"train\"][rand_int][\"text\"])\n",
        "print(\"Input array shape:\", np.asarray(timit[\"train\"][rand_int][\"audio\"][\"array\"]).shape)\n",
        "print(\"Sampling rate:\", timit[\"train\"][rand_int][\"audio\"][\"sampling_rate\"])"
      ],
      "metadata": {
        "id": "ug-r3B_jCiS3",
        "outputId": "7a28e445-dec6-47c1-f6fb-f8aeabecd20c",
        "colab": {
          "base_uri": "https://localhost:8080/"
        }
      },
      "execution_count": 22,
      "outputs": [
        {
          "output_type": "stream",
          "name": "stdout",
          "text": [
            "Target text: Cory attacked the project with extra determination.\n",
            "Input array shape: (49460,)\n",
            "Sampling rate: 16000\n"
          ]
        }
      ]
    },
    {
      "cell_type": "code",
      "source": [
        "def prepare_dataset(batch):\n",
        "    audio = batch[\"audio\"]\n",
        "\n",
        "    # batched output is \"un-batched\" to ensure mapping is correct\n",
        "    batch[\"input_values\"] = processor(audio[\"array\"], sampling_rate=audio[\"sampling_rate\"]).input_values[0]\n",
        "    \n",
        "    with processor.as_target_processor():\n",
        "        batch[\"labels\"] = processor(batch[\"text\"]).input_ids\n",
        "    return batch"
      ],
      "metadata": {
        "id": "CEwjs3lRCiVI"
      },
      "execution_count": 23,
      "outputs": []
    },
    {
      "cell_type": "code",
      "source": [
        "timit = timit.map(prepare_dataset, remove_columns=timit.column_names[\"train\"], num_proc=4)\n",
        "\n"
      ],
      "metadata": {
        "id": "NE8ZHMeOCiXq",
        "outputId": "5bf492d3-852d-48da-e6be-bbc4b03c0698",
        "colab": {
          "base_uri": "https://localhost:8080/",
          "height": 327
        }
      },
      "execution_count": 24,
      "outputs": [
        {
          "output_type": "stream",
          "name": "stderr",
          "text": [
            "/usr/local/lib/python3.9/dist-packages/transformers/models/wav2vec2/processing_wav2vec2.py:154: UserWarning: `as_target_processor` is deprecated and will be removed in v5 of Transformers. You can process your labels by using the argument `text` of the regular `__call__` method (either in the same call as your audio inputs, or in a separate call.\n",
            "  warnings.warn(\n",
            "/usr/local/lib/python3.9/dist-packages/transformers/models/wav2vec2/processing_wav2vec2.py:154: UserWarning: `as_target_processor` is deprecated and will be removed in v5 of Transformers. You can process your labels by using the argument `text` of the regular `__call__` method (either in the same call as your audio inputs, or in a separate call.\n",
            "  warnings.warn(\n",
            "/usr/local/lib/python3.9/dist-packages/transformers/models/wav2vec2/processing_wav2vec2.py:154: UserWarning: `as_target_processor` is deprecated and will be removed in v5 of Transformers. You can process your labels by using the argument `text` of the regular `__call__` method (either in the same call as your audio inputs, or in a separate call.\n",
            "  warnings.warn(\n",
            "/usr/local/lib/python3.9/dist-packages/transformers/models/wav2vec2/processing_wav2vec2.py:154: UserWarning: `as_target_processor` is deprecated and will be removed in v5 of Transformers. You can process your labels by using the argument `text` of the regular `__call__` method (either in the same call as your audio inputs, or in a separate call.\n",
            "  warnings.warn(\n",
            "/usr/local/lib/python3.9/dist-packages/transformers/models/wav2vec2/processing_wav2vec2.py:154: UserWarning: `as_target_processor` is deprecated and will be removed in v5 of Transformers. You can process your labels by using the argument `text` of the regular `__call__` method (either in the same call as your audio inputs, or in a separate call.\n",
            "  warnings.warn(\n",
            "/usr/local/lib/python3.9/dist-packages/transformers/models/wav2vec2/processing_wav2vec2.py:154: UserWarning: `as_target_processor` is deprecated and will be removed in v5 of Transformers. You can process your labels by using the argument `text` of the regular `__call__` method (either in the same call as your audio inputs, or in a separate call.\n",
            "  warnings.warn(\n",
            "/usr/local/lib/python3.9/dist-packages/transformers/models/wav2vec2/processing_wav2vec2.py:154: UserWarning: `as_target_processor` is deprecated and will be removed in v5 of Transformers. You can process your labels by using the argument `text` of the regular `__call__` method (either in the same call as your audio inputs, or in a separate call.\n",
            "  warnings.warn(\n",
            "/usr/local/lib/python3.9/dist-packages/transformers/models/wav2vec2/processing_wav2vec2.py:154: UserWarning: `as_target_processor` is deprecated and will be removed in v5 of Transformers. You can process your labels by using the argument `text` of the regular `__call__` method (either in the same call as your audio inputs, or in a separate call.\n",
            "  warnings.warn(\n"
          ]
        }
      ]
    },
    {
      "cell_type": "code",
      "source": [
        "import torch\n",
        "\n",
        "from dataclasses import dataclass, field\n",
        "from typing import Any, Dict, List, Optional, Union\n",
        "\n",
        "\n",
        "class DataCollatorCTCWithPadding():\n",
        "    \"\"\"\n",
        "    Data collator that will dynamically pad the inputs received.\n",
        "    Args:\n",
        "        processor (:class:`~transformers.Wav2Vec2Processor`)\n",
        "            The processor used for proccessing the data.\n",
        "        padding (:obj:`bool`, :obj:`str` or :class:`~transformers.tokenization_utils_base.PaddingStrategy`, `optional`, defaults to :obj:`True`):\n",
        "            Select a strategy to pad the returned sequences (according to the model's padding side and padding index)\n",
        "            among:\n",
        "            * :obj:`True` or :obj:`'longest'`: Pad to the longest sequence in the batch (or no padding if only a single\n",
        "              sequence if provided).\n",
        "            * :obj:`'max_length'`: Pad to a maximum length specified with the argument :obj:`max_length` or to the\n",
        "              maximum acceptable input length for the model if that argument is not provided.\n",
        "            * :obj:`False` or :obj:`'do_not_pad'` (default): No padding (i.e., can output a batch with sequences of\n",
        "              different lengths).\n",
        "        max_length (:obj:`int`, `optional`):\n",
        "            Maximum length of the ``input_values`` of the returned list and optionally padding length (see above).\n",
        "        max_length_labels (:obj:`int`, `optional`):\n",
        "            Maximum length of the ``labels`` returned list and optionally padding length (see above).\n",
        "        pad_to_multiple_of (:obj:`int`, `optional`):\n",
        "            If set will pad the sequence to a multiple of the provided value.\n",
        "            This is especially useful to enable the use of Tensor Cores on NVIDIA hardware with compute capability >=\n",
        "            7.5 (Volta).\n",
        "    \"\"\"\n",
        "\n",
        "    processor: Wav2Vec2Processor\n",
        "    padding: Union[bool, str] = True\n",
        "    max_length: Optional[int] = None\n",
        "    max_length_labels: Optional[int] = None\n",
        "    pad_to_multiple_of: Optional[int] = None\n",
        "    pad_to_multiple_of_labels: Optional[int] = None\n",
        "\n",
        "    def __init__(self, processor, padding):\n",
        "        self.processor = processor\n",
        "        self.padding = padding\n",
        "\n",
        "    def __call__(self, features: List[Dict[str, Union[List[int], torch.Tensor]]]) -> Dict[str, torch.Tensor]:\n",
        "        # split inputs and labels since they have to be of different lengths and need\n",
        "        # different padding methods\n",
        "        input_features = [{\"input_values\": feature[\"input_values\"]} for feature in features]\n",
        "        label_features = [{\"input_ids\": feature[\"labels\"]} for feature in features]\n",
        "\n",
        "        batch = self.processor.pad(\n",
        "            input_features,\n",
        "            padding=self.padding,\n",
        "            max_length=self.max_length,\n",
        "            pad_to_multiple_of=self.pad_to_multiple_of,\n",
        "            return_tensors=\"pt\",\n",
        "        )\n",
        "        with self.processor.as_target_processor():\n",
        "            labels_batch = self.processor.pad(\n",
        "                label_features,\n",
        "                padding=self.padding,\n",
        "                max_length=self.max_length_labels,\n",
        "                pad_to_multiple_of=self.pad_to_multiple_of_labels,\n",
        "                return_tensors=\"pt\",\n",
        "            )\n",
        "\n",
        "        # replace padding with -100 to ignore loss correctly\n",
        "        labels = labels_batch[\"input_ids\"].masked_fill(labels_batch.attention_mask.ne(1), -100)\n",
        "\n",
        "        batch[\"labels\"] = labels\n",
        "\n",
        "        return batch"
      ],
      "metadata": {
        "id": "i_6TphQrCtiV"
      },
      "execution_count": 25,
      "outputs": []
    },
    {
      "cell_type": "code",
      "source": [
        "data_collator = DataCollatorCTCWithPadding(processor=processor, padding=True)\n",
        "\n"
      ],
      "metadata": {
        "id": "pB8DSDFiCtmR"
      },
      "execution_count": 26,
      "outputs": []
    },
    {
      "cell_type": "code",
      "source": [
        "wer_metric = load_metric(\"wer\")\n",
        "\n"
      ],
      "metadata": {
        "id": "hfxqpe40Ctor"
      },
      "execution_count": 27,
      "outputs": []
    },
    {
      "cell_type": "code",
      "source": [
        "def compute_metrics(pred):\n",
        "    pred_logits = pred.predictions\n",
        "    pred_ids = np.argmax(pred_logits, axis=-1)\n",
        "\n",
        "    pred.label_ids[pred.label_ids == -100] = processor.tokenizer.pad_token_id\n",
        "\n",
        "    pred_str = processor.batch_decode(pred_ids)\n",
        "    # we do not want to group tokens when computing the metrics\n",
        "    label_str = processor.batch_decode(pred.label_ids, group_tokens=False)\n",
        "\n",
        "    wer = wer_metric.compute(predictions=pred_str, references=label_str)\n",
        "\n",
        "    return {\"wer\": wer}"
      ],
      "metadata": {
        "id": "MeRzty9rAnmk"
      },
      "execution_count": 28,
      "outputs": []
    },
    {
      "cell_type": "code",
      "source": [
        "from transformers import Wav2Vec2ForCTC\n",
        "\n",
        "model = Wav2Vec2ForCTC.from_pretrained(\n",
        "    \"facebook/wav2vec2-base\", \n",
        "    ctc_loss_reduction=\"mean\", \n",
        "    pad_token_id=processor.tokenizer.pad_token_id,\n",
        ")"
      ],
      "metadata": {
        "colab": {
          "base_uri": "https://localhost:8080/",
          "height": 228,
          "referenced_widgets": [
            "ad07ebbcd38a47e1a8e68ccfd00db56c",
            "c7c817f5422e4bc88399096d8cbb91b7",
            "0ead3e74008a4ebd9ba3e061acae6f07",
            "799d5fd650474d239db2b2d1f9bc146e",
            "691fef58fdff488ebf6d9065eab3d619",
            "33d3c3f226b14f73a389091227cd555b",
            "3f7b8e4357354dbe9c174cb2625a9416",
            "0b58699936a846cd83aeab3e8acf1b54",
            "55fb108674ec4c0e97be76bea40fd812",
            "26d09cc84d004d3a8cba150de57a3a53",
            "9dec839ec97040f89dcf86be6aa3fa37",
            "1cc3f7ecfc944ebfbf96c16368a55552",
            "eee31093db1e47518c07996d5b2e1771",
            "0d33521a533d404e9649f1dac74be36c",
            "5e5322e6af914c3d9741fa557766c200",
            "7f3cde25a03a4c58ab9f46cf867b5296",
            "0ca6895c18574bd4864c150330326443",
            "34565abbb817495384ccfcebc0ab300c",
            "96fc95c04bd04b5d8954f930a6409805",
            "79bef964970a4655940351083fee48bb",
            "1f0b6a23b248487a903adcd1b267afd3",
            "6654a9a235df439bab2468d101dbe612"
          ]
        },
        "id": "Tlz6ZoFQBlac",
        "outputId": "5f43565c-ae0c-4599-8940-52cc619b7244"
      },
      "execution_count": 29,
      "outputs": [
        {
          "output_type": "display_data",
          "data": {
            "text/plain": [
              "Downloading:   0%|          | 0.00/1.84k [00:00<?, ?B/s]"
            ],
            "application/vnd.jupyter.widget-view+json": {
              "version_major": 2,
              "version_minor": 0,
              "model_id": "ad07ebbcd38a47e1a8e68ccfd00db56c"
            }
          },
          "metadata": {}
        },
        {
          "output_type": "stream",
          "name": "stderr",
          "text": [
            "/usr/local/lib/python3.9/dist-packages/transformers/configuration_utils.py:369: UserWarning: Passing `gradient_checkpointing` to a config initialization is deprecated and will be removed in v5 Transformers. Using `model.gradient_checkpointing_enable()` instead, or if you are using the `Trainer` API, pass `gradient_checkpointing=True` in your `TrainingArguments`.\n",
            "  warnings.warn(\n"
          ]
        },
        {
          "output_type": "display_data",
          "data": {
            "text/plain": [
              "Downloading:   0%|          | 0.00/380M [00:00<?, ?B/s]"
            ],
            "application/vnd.jupyter.widget-view+json": {
              "version_major": 2,
              "version_minor": 0,
              "model_id": "1cc3f7ecfc944ebfbf96c16368a55552"
            }
          },
          "metadata": {}
        },
        {
          "output_type": "stream",
          "name": "stderr",
          "text": [
            "Some weights of the model checkpoint at facebook/wav2vec2-base were not used when initializing Wav2Vec2ForCTC: ['project_hid.bias', 'project_q.bias', 'project_hid.weight', 'project_q.weight', 'quantizer.weight_proj.weight', 'quantizer.weight_proj.bias', 'quantizer.codevectors']\n",
            "- This IS expected if you are initializing Wav2Vec2ForCTC from the checkpoint of a model trained on another task or with another architecture (e.g. initializing a BertForSequenceClassification model from a BertForPreTraining model).\n",
            "- This IS NOT expected if you are initializing Wav2Vec2ForCTC from the checkpoint of a model that you expect to be exactly identical (initializing a BertForSequenceClassification model from a BertForSequenceClassification model).\n",
            "Some weights of Wav2Vec2ForCTC were not initialized from the model checkpoint at facebook/wav2vec2-base and are newly initialized: ['lm_head.bias', 'lm_head.weight']\n",
            "You should probably TRAIN this model on a down-stream task to be able to use it for predictions and inference.\n"
          ]
        }
      ]
    },
    {
      "cell_type": "code",
      "source": [
        "model.freeze_feature_extractor()\n",
        "\n"
      ],
      "metadata": {
        "id": "Ts6q9TQjBq1_",
        "outputId": "28a7b7c8-2ecc-4c12-c147-26aadbfebe0b",
        "colab": {
          "base_uri": "https://localhost:8080/"
        }
      },
      "execution_count": 30,
      "outputs": [
        {
          "output_type": "stream",
          "name": "stderr",
          "text": [
            "/usr/local/lib/python3.9/dist-packages/transformers/models/wav2vec2/modeling_wav2vec2.py:1635: FutureWarning: The method `freeze_feature_extractor` is deprecated and will be removed in Transformers v5.Please use the equivalent `freeze_feature_encoder` method instead.\n",
            "  warnings.warn(\n"
          ]
        }
      ]
    },
    {
      "cell_type": "code",
      "source": [
        "from transformers import TrainingArguments\n",
        "\n",
        "training_args = TrainingArguments(\n",
        "  output_dir=repo_name,\n",
        "  group_by_length=True,\n",
        "  per_device_train_batch_size=32,\n",
        "  evaluation_strategy=\"steps\",\n",
        "  num_train_epochs=30,\n",
        "  fp16=True,\n",
        "  gradient_checkpointing=True, \n",
        "  save_steps=500,\n",
        "  eval_steps=500,\n",
        "  logging_steps=500,\n",
        "  learning_rate=1e-4,\n",
        "  weight_decay=0.005,\n",
        "  warmup_steps=1000,\n",
        "  save_total_limit=2,\n",
        ")"
      ],
      "metadata": {
        "id": "9esOXlb5Ga16",
        "outputId": "ce7f1829-84d7-4388-d353-e104072c2564",
        "colab": {
          "base_uri": "https://localhost:8080/",
          "height": 414
        }
      },
      "execution_count": 33,
      "outputs": [
        {
          "output_type": "error",
          "ename": "ValueError",
          "evalue": "ignored",
          "traceback": [
            "\u001b[0;31m---------------------------------------------------------------------------\u001b[0m",
            "\u001b[0;31mValueError\u001b[0m                                Traceback (most recent call last)",
            "\u001b[0;32m<ipython-input-33-64ecd98e2a37>\u001b[0m in \u001b[0;36m<module>\u001b[0;34m\u001b[0m\n\u001b[1;32m      1\u001b[0m \u001b[0;32mfrom\u001b[0m \u001b[0mtransformers\u001b[0m \u001b[0;32mimport\u001b[0m \u001b[0mTrainingArguments\u001b[0m\u001b[0;34m\u001b[0m\u001b[0;34m\u001b[0m\u001b[0m\n\u001b[1;32m      2\u001b[0m \u001b[0;34m\u001b[0m\u001b[0m\n\u001b[0;32m----> 3\u001b[0;31m training_args = TrainingArguments(\n\u001b[0m\u001b[1;32m      4\u001b[0m   \u001b[0moutput_dir\u001b[0m\u001b[0;34m=\u001b[0m\u001b[0mrepo_name\u001b[0m\u001b[0;34m,\u001b[0m\u001b[0;34m\u001b[0m\u001b[0;34m\u001b[0m\u001b[0m\n\u001b[1;32m      5\u001b[0m   \u001b[0mgroup_by_length\u001b[0m\u001b[0;34m=\u001b[0m\u001b[0;32mTrue\u001b[0m\u001b[0;34m,\u001b[0m\u001b[0;34m\u001b[0m\u001b[0;34m\u001b[0m\u001b[0m\n",
            "\u001b[0;32m/usr/local/lib/python3.9/dist-packages/transformers/training_args.py\u001b[0m in \u001b[0;36m__init__\u001b[0;34m(self, output_dir, overwrite_output_dir, do_train, do_eval, do_predict, evaluation_strategy, prediction_loss_only, per_device_train_batch_size, per_device_eval_batch_size, per_gpu_train_batch_size, per_gpu_eval_batch_size, gradient_accumulation_steps, eval_accumulation_steps, eval_delay, learning_rate, weight_decay, adam_beta1, adam_beta2, adam_epsilon, max_grad_norm, num_train_epochs, max_steps, lr_scheduler_type, warmup_ratio, warmup_steps, log_level, log_level_replica, log_on_each_node, logging_dir, logging_strategy, logging_first_step, logging_steps, logging_nan_inf_filter, save_strategy, save_steps, save_total_limit, save_on_each_node, no_cuda, use_mps_device, seed, data_seed, jit_mode_eval, use_ipex, bf16, fp16, fp16_opt_level, half_precision_backend, bf16_full_eval, fp16_full_eval, tf32, local_rank, xpu_backend, tpu_num_cores, tpu_metrics_debug, debug, dataloader_drop_last, eval_steps, dataloader_num_workers, past_index, run_name, disable_tqdm, remove_unused_columns, label_names, load_best_model_at_end, metric_for_best_model, greater_is_better, ignore_data_skip, sharded_ddp, fsdp, fsdp_min_num_params, fsdp_transformer_layer_cls_to_wrap, deepspeed, label_smoothing_factor, optim, adafactor, group_by_length, length_column_name, report_to, ddp_find_unused_parameters, ddp_bucket_cap_mb, dataloader_pin_memory, skip_memory_metrics, use_legacy_prediction_loop, push_to_hu...\n",
            "\u001b[0;32m/usr/local/lib/python3.9/dist-packages/transformers/training_args.py\u001b[0m in \u001b[0;36m__post_init__\u001b[0;34m(self)\u001b[0m\n\u001b[1;32m   1120\u001b[0m             \u001b[0;32mand\u001b[0m \u001b[0;34m(\u001b[0m\u001b[0mself\u001b[0m\u001b[0;34m.\u001b[0m\u001b[0mfp16\u001b[0m \u001b[0;32mor\u001b[0m \u001b[0mself\u001b[0m\u001b[0;34m.\u001b[0m\u001b[0mfp16_full_eval\u001b[0m\u001b[0;34m)\u001b[0m\u001b[0;34m\u001b[0m\u001b[0;34m\u001b[0m\u001b[0m\n\u001b[1;32m   1121\u001b[0m         ):\n\u001b[0;32m-> 1122\u001b[0;31m             raise ValueError(\n\u001b[0m\u001b[1;32m   1123\u001b[0m                 \u001b[0;34m\"FP16 Mixed precision training with AMP or APEX (`--fp16`) and FP16 half precision evaluation\"\u001b[0m\u001b[0;34m\u001b[0m\u001b[0;34m\u001b[0m\u001b[0m\n\u001b[1;32m   1124\u001b[0m                 \u001b[0;34m\" (`--fp16_full_eval`) can only be used on CUDA devices.\"\u001b[0m\u001b[0;34m\u001b[0m\u001b[0;34m\u001b[0m\u001b[0m\n",
            "\u001b[0;31mValueError\u001b[0m: FP16 Mixed precision training with AMP or APEX (`--fp16`) and FP16 half precision evaluation (`--fp16_full_eval`) can only be used on CUDA devices."
          ]
        }
      ]
    },
    {
      "cell_type": "code",
      "source": [
        "from transformers import Trainer\n",
        "\n",
        "trainer = Trainer(\n",
        "    model=model,\n",
        "    data_collator=data_collator,\n",
        "    args=training_args,\n",
        "    compute_metrics=compute_metrics,\n",
        "    train_dataset=timit_prepared[\"train\"],\n",
        "    eval_dataset=timit_prepared[\"test\"],\n",
        "    tokenizer=processor.feature_extractor,\n",
        ")"
      ],
      "metadata": {
        "id": "CBLzFHw9LGNF"
      },
      "execution_count": null,
      "outputs": []
    },
    {
      "cell_type": "code",
      "source": [
        "function ConnectButton(){\n",
        "    console.log(\"Connect pushed\"); \n",
        "    document.querySelector(\"#top-toolbar > colab-connect-button\").shadowRoot.querySelector(\"#connect\").click() \n",
        "}\n",
        "setInterval(ConnectButton,60000);"
      ],
      "metadata": {
        "id": "Sz-vcgwsLGRo"
      },
      "execution_count": null,
      "outputs": []
    },
    {
      "cell_type": "code",
      "source": [
        "trainer.train()\n",
        "\n"
      ],
      "metadata": {
        "id": "QJ6uKGjTLKsY"
      },
      "execution_count": null,
      "outputs": []
    },
    {
      "cell_type": "code",
      "source": [
        "trainer.push_to_hub()\n",
        "\n"
      ],
      "metadata": {
        "id": "53-XbwADLMbB"
      },
      "execution_count": null,
      "outputs": []
    },
    {
      "cell_type": "code",
      "source": [
        "from transformers import AutoModelForCTC, Wav2Vec2Processor\n",
        "\n",
        "model = AutoModelForCTC.from_pretrained(\"patrickvonplaten/wav2vec2-base-timit-demo-colab\")\n",
        "processor = Wav2Vec2Processor.from_pretrained(\"patrickvonplaten/wav2vec2-base-timit-demo-colab\")"
      ],
      "metadata": {
        "id": "UlCsxo7xLOCb"
      },
      "execution_count": null,
      "outputs": []
    },
    {
      "cell_type": "code",
      "source": [
        "processor = Wav2Vec2Processor.from_pretrained(repo_name)\n",
        "model = Wav2Vec2ForCTC.from_pretrained(repo_name)"
      ],
      "metadata": {
        "id": "g8m4AtK_LUKG"
      },
      "execution_count": null,
      "outputs": []
    },
    {
      "cell_type": "code",
      "source": [
        "def map_to_result(batch):\n",
        "  with torch.no_grad():\n",
        "    input_values = torch.tensor(batch[\"input_values\"], device=\"cuda\").unsqueeze(0)\n",
        "    logits = model(input_values).logits\n",
        "\n",
        "  pred_ids = torch.argmax(logits, dim=-1)\n",
        "  batch[\"pred_str\"] = processor.batch_decode(pred_ids)[0]\n",
        "  batch[\"text\"] = processor.decode(batch[\"labels\"], group_tokens=False)\n",
        "  \n",
        "  return batch\n",
        "\n",
        "results = timit[\"test\"].map(map_to_result, remove_columns=timit[\"test\"].column_names)"
      ],
      "metadata": {
        "id": "OXoT_Gv8Li0f"
      },
      "execution_count": null,
      "outputs": []
    },
    {
      "cell_type": "code",
      "source": [
        "model.to(\"cuda\")\n",
        "\n",
        "with torch.no_grad():\n",
        "  logits = model(torch.tensor(timit[\"test\"][:1][\"input_values\"], device=\"cuda\")).logits\n",
        "\n",
        "pred_ids = torch.argmax(logits, dim=-1)\n",
        "\n",
        "# convert ids to tokens\n",
        "\" \".join(processor.tokenizer.convert_ids_to_tokens(pred_ids[0].tolist()))"
      ],
      "metadata": {
        "id": "g4Pb6MEDL6gt"
      },
      "execution_count": null,
      "outputs": []
    }
  ]
}