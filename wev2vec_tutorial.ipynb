{
  "nbformat": 4,
  "nbformat_minor": 0,
  "metadata": {
    "colab": {
      "provenance": [],
      "authorship_tag": "ABX9TyMfl0/e5sRGW9V3V/WoPgfG",
      "include_colab_link": true
    },
    "kernelspec": {
      "name": "python3",
      "display_name": "Python 3"
    },
    "language_info": {
      "name": "python"
    },
    "widgets": {
      "application/vnd.jupyter.widget-state+json": {
        "f25ec573eb9141c9a7cbe945a46d585c": {
          "model_module": "@jupyter-widgets/controls",
          "model_name": "HBoxModel",
          "model_module_version": "1.5.0",
          "state": {
            "_dom_classes": [],
            "_model_module": "@jupyter-widgets/controls",
            "_model_module_version": "1.5.0",
            "_model_name": "HBoxModel",
            "_view_count": null,
            "_view_module": "@jupyter-widgets/controls",
            "_view_module_version": "1.5.0",
            "_view_name": "HBoxView",
            "box_style": "",
            "children": [
              "IPY_MODEL_0dd11116bbf44a2dad7b19be6ffb7c06",
              "IPY_MODEL_f916ac072ef84b20b0157d5bea823853",
              "IPY_MODEL_d34d3bd8af634ae68b727daaeef88bb4"
            ],
            "layout": "IPY_MODEL_9ba55686e1a04f3c96141d0af893d2be"
          }
        },
        "0dd11116bbf44a2dad7b19be6ffb7c06": {
          "model_module": "@jupyter-widgets/controls",
          "model_name": "HTMLModel",
          "model_module_version": "1.5.0",
          "state": {
            "_dom_classes": [],
            "_model_module": "@jupyter-widgets/controls",
            "_model_module_version": "1.5.0",
            "_model_name": "HTMLModel",
            "_view_count": null,
            "_view_module": "@jupyter-widgets/controls",
            "_view_module_version": "1.5.0",
            "_view_name": "HTMLView",
            "description": "",
            "description_tooltip": null,
            "layout": "IPY_MODEL_2b035cdffbf2405391a24105cb4e443b",
            "placeholder": "​",
            "style": "IPY_MODEL_2db025850a2e464e94560f6490f29a57",
            "value": "100%"
          }
        },
        "f916ac072ef84b20b0157d5bea823853": {
          "model_module": "@jupyter-widgets/controls",
          "model_name": "FloatProgressModel",
          "model_module_version": "1.5.0",
          "state": {
            "_dom_classes": [],
            "_model_module": "@jupyter-widgets/controls",
            "_model_module_version": "1.5.0",
            "_model_name": "FloatProgressModel",
            "_view_count": null,
            "_view_module": "@jupyter-widgets/controls",
            "_view_module_version": "1.5.0",
            "_view_name": "ProgressView",
            "bar_style": "success",
            "description": "",
            "description_tooltip": null,
            "layout": "IPY_MODEL_e5ff45df60e34d1d8f40fce17d51b55c",
            "max": 2,
            "min": 0,
            "orientation": "horizontal",
            "style": "IPY_MODEL_93e61dee36b64bb1b606d31a942a6fb3",
            "value": 2
          }
        },
        "d34d3bd8af634ae68b727daaeef88bb4": {
          "model_module": "@jupyter-widgets/controls",
          "model_name": "HTMLModel",
          "model_module_version": "1.5.0",
          "state": {
            "_dom_classes": [],
            "_model_module": "@jupyter-widgets/controls",
            "_model_module_version": "1.5.0",
            "_model_name": "HTMLModel",
            "_view_count": null,
            "_view_module": "@jupyter-widgets/controls",
            "_view_module_version": "1.5.0",
            "_view_name": "HTMLView",
            "description": "",
            "description_tooltip": null,
            "layout": "IPY_MODEL_26fefc1201424f88bf1b75a70981e1e0",
            "placeholder": "​",
            "style": "IPY_MODEL_954acb2ba9f34a958f3c5f6832f8b685",
            "value": " 2/2 [00:00&lt;00:00, 62.59it/s]"
          }
        },
        "9ba55686e1a04f3c96141d0af893d2be": {
          "model_module": "@jupyter-widgets/base",
          "model_name": "LayoutModel",
          "model_module_version": "1.2.0",
          "state": {
            "_model_module": "@jupyter-widgets/base",
            "_model_module_version": "1.2.0",
            "_model_name": "LayoutModel",
            "_view_count": null,
            "_view_module": "@jupyter-widgets/base",
            "_view_module_version": "1.2.0",
            "_view_name": "LayoutView",
            "align_content": null,
            "align_items": null,
            "align_self": null,
            "border": null,
            "bottom": null,
            "display": null,
            "flex": null,
            "flex_flow": null,
            "grid_area": null,
            "grid_auto_columns": null,
            "grid_auto_flow": null,
            "grid_auto_rows": null,
            "grid_column": null,
            "grid_gap": null,
            "grid_row": null,
            "grid_template_areas": null,
            "grid_template_columns": null,
            "grid_template_rows": null,
            "height": null,
            "justify_content": null,
            "justify_items": null,
            "left": null,
            "margin": null,
            "max_height": null,
            "max_width": null,
            "min_height": null,
            "min_width": null,
            "object_fit": null,
            "object_position": null,
            "order": null,
            "overflow": null,
            "overflow_x": null,
            "overflow_y": null,
            "padding": null,
            "right": null,
            "top": null,
            "visibility": null,
            "width": null
          }
        },
        "2b035cdffbf2405391a24105cb4e443b": {
          "model_module": "@jupyter-widgets/base",
          "model_name": "LayoutModel",
          "model_module_version": "1.2.0",
          "state": {
            "_model_module": "@jupyter-widgets/base",
            "_model_module_version": "1.2.0",
            "_model_name": "LayoutModel",
            "_view_count": null,
            "_view_module": "@jupyter-widgets/base",
            "_view_module_version": "1.2.0",
            "_view_name": "LayoutView",
            "align_content": null,
            "align_items": null,
            "align_self": null,
            "border": null,
            "bottom": null,
            "display": null,
            "flex": null,
            "flex_flow": null,
            "grid_area": null,
            "grid_auto_columns": null,
            "grid_auto_flow": null,
            "grid_auto_rows": null,
            "grid_column": null,
            "grid_gap": null,
            "grid_row": null,
            "grid_template_areas": null,
            "grid_template_columns": null,
            "grid_template_rows": null,
            "height": null,
            "justify_content": null,
            "justify_items": null,
            "left": null,
            "margin": null,
            "max_height": null,
            "max_width": null,
            "min_height": null,
            "min_width": null,
            "object_fit": null,
            "object_position": null,
            "order": null,
            "overflow": null,
            "overflow_x": null,
            "overflow_y": null,
            "padding": null,
            "right": null,
            "top": null,
            "visibility": null,
            "width": null
          }
        },
        "2db025850a2e464e94560f6490f29a57": {
          "model_module": "@jupyter-widgets/controls",
          "model_name": "DescriptionStyleModel",
          "model_module_version": "1.5.0",
          "state": {
            "_model_module": "@jupyter-widgets/controls",
            "_model_module_version": "1.5.0",
            "_model_name": "DescriptionStyleModel",
            "_view_count": null,
            "_view_module": "@jupyter-widgets/base",
            "_view_module_version": "1.2.0",
            "_view_name": "StyleView",
            "description_width": ""
          }
        },
        "e5ff45df60e34d1d8f40fce17d51b55c": {
          "model_module": "@jupyter-widgets/base",
          "model_name": "LayoutModel",
          "model_module_version": "1.2.0",
          "state": {
            "_model_module": "@jupyter-widgets/base",
            "_model_module_version": "1.2.0",
            "_model_name": "LayoutModel",
            "_view_count": null,
            "_view_module": "@jupyter-widgets/base",
            "_view_module_version": "1.2.0",
            "_view_name": "LayoutView",
            "align_content": null,
            "align_items": null,
            "align_self": null,
            "border": null,
            "bottom": null,
            "display": null,
            "flex": null,
            "flex_flow": null,
            "grid_area": null,
            "grid_auto_columns": null,
            "grid_auto_flow": null,
            "grid_auto_rows": null,
            "grid_column": null,
            "grid_gap": null,
            "grid_row": null,
            "grid_template_areas": null,
            "grid_template_columns": null,
            "grid_template_rows": null,
            "height": null,
            "justify_content": null,
            "justify_items": null,
            "left": null,
            "margin": null,
            "max_height": null,
            "max_width": null,
            "min_height": null,
            "min_width": null,
            "object_fit": null,
            "object_position": null,
            "order": null,
            "overflow": null,
            "overflow_x": null,
            "overflow_y": null,
            "padding": null,
            "right": null,
            "top": null,
            "visibility": null,
            "width": null
          }
        },
        "93e61dee36b64bb1b606d31a942a6fb3": {
          "model_module": "@jupyter-widgets/controls",
          "model_name": "ProgressStyleModel",
          "model_module_version": "1.5.0",
          "state": {
            "_model_module": "@jupyter-widgets/controls",
            "_model_module_version": "1.5.0",
            "_model_name": "ProgressStyleModel",
            "_view_count": null,
            "_view_module": "@jupyter-widgets/base",
            "_view_module_version": "1.2.0",
            "_view_name": "StyleView",
            "bar_color": null,
            "description_width": ""
          }
        },
        "26fefc1201424f88bf1b75a70981e1e0": {
          "model_module": "@jupyter-widgets/base",
          "model_name": "LayoutModel",
          "model_module_version": "1.2.0",
          "state": {
            "_model_module": "@jupyter-widgets/base",
            "_model_module_version": "1.2.0",
            "_model_name": "LayoutModel",
            "_view_count": null,
            "_view_module": "@jupyter-widgets/base",
            "_view_module_version": "1.2.0",
            "_view_name": "LayoutView",
            "align_content": null,
            "align_items": null,
            "align_self": null,
            "border": null,
            "bottom": null,
            "display": null,
            "flex": null,
            "flex_flow": null,
            "grid_area": null,
            "grid_auto_columns": null,
            "grid_auto_flow": null,
            "grid_auto_rows": null,
            "grid_column": null,
            "grid_gap": null,
            "grid_row": null,
            "grid_template_areas": null,
            "grid_template_columns": null,
            "grid_template_rows": null,
            "height": null,
            "justify_content": null,
            "justify_items": null,
            "left": null,
            "margin": null,
            "max_height": null,
            "max_width": null,
            "min_height": null,
            "min_width": null,
            "object_fit": null,
            "object_position": null,
            "order": null,
            "overflow": null,
            "overflow_x": null,
            "overflow_y": null,
            "padding": null,
            "right": null,
            "top": null,
            "visibility": null,
            "width": null
          }
        },
        "954acb2ba9f34a958f3c5f6832f8b685": {
          "model_module": "@jupyter-widgets/controls",
          "model_name": "DescriptionStyleModel",
          "model_module_version": "1.5.0",
          "state": {
            "_model_module": "@jupyter-widgets/controls",
            "_model_module_version": "1.5.0",
            "_model_name": "DescriptionStyleModel",
            "_view_count": null,
            "_view_module": "@jupyter-widgets/base",
            "_view_module_version": "1.2.0",
            "_view_name": "StyleView",
            "description_width": ""
          }
        },
        "0fcb2c21fdba4427a84c0cb375d78432": {
          "model_module": "@jupyter-widgets/controls",
          "model_name": "HBoxModel",
          "model_module_version": "1.5.0",
          "state": {
            "_dom_classes": [],
            "_model_module": "@jupyter-widgets/controls",
            "_model_module_version": "1.5.0",
            "_model_name": "HBoxModel",
            "_view_count": null,
            "_view_module": "@jupyter-widgets/controls",
            "_view_module_version": "1.5.0",
            "_view_name": "HBoxView",
            "box_style": "",
            "children": [
              "IPY_MODEL_803ab8424b3745f3a589d64f6a523e34",
              "IPY_MODEL_d4ce877c49164c9d8732547f69b53663",
              "IPY_MODEL_595bc8d1c0a04b6ca603adf33931c9e0"
            ],
            "layout": "IPY_MODEL_5d56edb761a842f981444cd67ee60d04"
          }
        },
        "803ab8424b3745f3a589d64f6a523e34": {
          "model_module": "@jupyter-widgets/controls",
          "model_name": "HTMLModel",
          "model_module_version": "1.5.0",
          "state": {
            "_dom_classes": [],
            "_model_module": "@jupyter-widgets/controls",
            "_model_module_version": "1.5.0",
            "_model_name": "HTMLModel",
            "_view_count": null,
            "_view_module": "@jupyter-widgets/controls",
            "_view_module_version": "1.5.0",
            "_view_name": "HTMLView",
            "description": "",
            "description_tooltip": null,
            "layout": "IPY_MODEL_1cc27d56a1534eaa85b6f91fce0fa8d6",
            "placeholder": "​",
            "style": "IPY_MODEL_13932c7fa3cc4ca7802b493528ab8d7d",
            "value": ""
          }
        },
        "d4ce877c49164c9d8732547f69b53663": {
          "model_module": "@jupyter-widgets/controls",
          "model_name": "FloatProgressModel",
          "model_module_version": "1.5.0",
          "state": {
            "_dom_classes": [],
            "_model_module": "@jupyter-widgets/controls",
            "_model_module_version": "1.5.0",
            "_model_name": "FloatProgressModel",
            "_view_count": null,
            "_view_module": "@jupyter-widgets/controls",
            "_view_module_version": "1.5.0",
            "_view_name": "ProgressView",
            "bar_style": "success",
            "description": "",
            "description_tooltip": null,
            "layout": "IPY_MODEL_2a018928e89b459595651df4abba1225",
            "max": 1,
            "min": 0,
            "orientation": "horizontal",
            "style": "IPY_MODEL_3dfce526369344bf8656847bf17c6f25",
            "value": 1
          }
        },
        "595bc8d1c0a04b6ca603adf33931c9e0": {
          "model_module": "@jupyter-widgets/controls",
          "model_name": "HTMLModel",
          "model_module_version": "1.5.0",
          "state": {
            "_dom_classes": [],
            "_model_module": "@jupyter-widgets/controls",
            "_model_module_version": "1.5.0",
            "_model_name": "HTMLModel",
            "_view_count": null,
            "_view_module": "@jupyter-widgets/controls",
            "_view_module_version": "1.5.0",
            "_view_name": "HTMLView",
            "description": "",
            "description_tooltip": null,
            "layout": "IPY_MODEL_6819ed3eb35e4be98bd94fcecd55b807",
            "placeholder": "​",
            "style": "IPY_MODEL_ae795745c44b45fa9153c166b4a66d2e",
            "value": " 4620/? [00:00&lt;00:00, 6564.25ex/s]"
          }
        },
        "5d56edb761a842f981444cd67ee60d04": {
          "model_module": "@jupyter-widgets/base",
          "model_name": "LayoutModel",
          "model_module_version": "1.2.0",
          "state": {
            "_model_module": "@jupyter-widgets/base",
            "_model_module_version": "1.2.0",
            "_model_name": "LayoutModel",
            "_view_count": null,
            "_view_module": "@jupyter-widgets/base",
            "_view_module_version": "1.2.0",
            "_view_name": "LayoutView",
            "align_content": null,
            "align_items": null,
            "align_self": null,
            "border": null,
            "bottom": null,
            "display": null,
            "flex": null,
            "flex_flow": null,
            "grid_area": null,
            "grid_auto_columns": null,
            "grid_auto_flow": null,
            "grid_auto_rows": null,
            "grid_column": null,
            "grid_gap": null,
            "grid_row": null,
            "grid_template_areas": null,
            "grid_template_columns": null,
            "grid_template_rows": null,
            "height": null,
            "justify_content": null,
            "justify_items": null,
            "left": null,
            "margin": null,
            "max_height": null,
            "max_width": null,
            "min_height": null,
            "min_width": null,
            "object_fit": null,
            "object_position": null,
            "order": null,
            "overflow": null,
            "overflow_x": null,
            "overflow_y": null,
            "padding": null,
            "right": null,
            "top": null,
            "visibility": null,
            "width": null
          }
        },
        "1cc27d56a1534eaa85b6f91fce0fa8d6": {
          "model_module": "@jupyter-widgets/base",
          "model_name": "LayoutModel",
          "model_module_version": "1.2.0",
          "state": {
            "_model_module": "@jupyter-widgets/base",
            "_model_module_version": "1.2.0",
            "_model_name": "LayoutModel",
            "_view_count": null,
            "_view_module": "@jupyter-widgets/base",
            "_view_module_version": "1.2.0",
            "_view_name": "LayoutView",
            "align_content": null,
            "align_items": null,
            "align_self": null,
            "border": null,
            "bottom": null,
            "display": null,
            "flex": null,
            "flex_flow": null,
            "grid_area": null,
            "grid_auto_columns": null,
            "grid_auto_flow": null,
            "grid_auto_rows": null,
            "grid_column": null,
            "grid_gap": null,
            "grid_row": null,
            "grid_template_areas": null,
            "grid_template_columns": null,
            "grid_template_rows": null,
            "height": null,
            "justify_content": null,
            "justify_items": null,
            "left": null,
            "margin": null,
            "max_height": null,
            "max_width": null,
            "min_height": null,
            "min_width": null,
            "object_fit": null,
            "object_position": null,
            "order": null,
            "overflow": null,
            "overflow_x": null,
            "overflow_y": null,
            "padding": null,
            "right": null,
            "top": null,
            "visibility": null,
            "width": null
          }
        },
        "13932c7fa3cc4ca7802b493528ab8d7d": {
          "model_module": "@jupyter-widgets/controls",
          "model_name": "DescriptionStyleModel",
          "model_module_version": "1.5.0",
          "state": {
            "_model_module": "@jupyter-widgets/controls",
            "_model_module_version": "1.5.0",
            "_model_name": "DescriptionStyleModel",
            "_view_count": null,
            "_view_module": "@jupyter-widgets/base",
            "_view_module_version": "1.2.0",
            "_view_name": "StyleView",
            "description_width": ""
          }
        },
        "2a018928e89b459595651df4abba1225": {
          "model_module": "@jupyter-widgets/base",
          "model_name": "LayoutModel",
          "model_module_version": "1.2.0",
          "state": {
            "_model_module": "@jupyter-widgets/base",
            "_model_module_version": "1.2.0",
            "_model_name": "LayoutModel",
            "_view_count": null,
            "_view_module": "@jupyter-widgets/base",
            "_view_module_version": "1.2.0",
            "_view_name": "LayoutView",
            "align_content": null,
            "align_items": null,
            "align_self": null,
            "border": null,
            "bottom": null,
            "display": null,
            "flex": null,
            "flex_flow": null,
            "grid_area": null,
            "grid_auto_columns": null,
            "grid_auto_flow": null,
            "grid_auto_rows": null,
            "grid_column": null,
            "grid_gap": null,
            "grid_row": null,
            "grid_template_areas": null,
            "grid_template_columns": null,
            "grid_template_rows": null,
            "height": null,
            "justify_content": null,
            "justify_items": null,
            "left": null,
            "margin": null,
            "max_height": null,
            "max_width": null,
            "min_height": null,
            "min_width": null,
            "object_fit": null,
            "object_position": null,
            "order": null,
            "overflow": null,
            "overflow_x": null,
            "overflow_y": null,
            "padding": null,
            "right": null,
            "top": null,
            "visibility": null,
            "width": "20px"
          }
        },
        "3dfce526369344bf8656847bf17c6f25": {
          "model_module": "@jupyter-widgets/controls",
          "model_name": "ProgressStyleModel",
          "model_module_version": "1.5.0",
          "state": {
            "_model_module": "@jupyter-widgets/controls",
            "_model_module_version": "1.5.0",
            "_model_name": "ProgressStyleModel",
            "_view_count": null,
            "_view_module": "@jupyter-widgets/base",
            "_view_module_version": "1.2.0",
            "_view_name": "StyleView",
            "bar_color": null,
            "description_width": ""
          }
        },
        "6819ed3eb35e4be98bd94fcecd55b807": {
          "model_module": "@jupyter-widgets/base",
          "model_name": "LayoutModel",
          "model_module_version": "1.2.0",
          "state": {
            "_model_module": "@jupyter-widgets/base",
            "_model_module_version": "1.2.0",
            "_model_name": "LayoutModel",
            "_view_count": null,
            "_view_module": "@jupyter-widgets/base",
            "_view_module_version": "1.2.0",
            "_view_name": "LayoutView",
            "align_content": null,
            "align_items": null,
            "align_self": null,
            "border": null,
            "bottom": null,
            "display": null,
            "flex": null,
            "flex_flow": null,
            "grid_area": null,
            "grid_auto_columns": null,
            "grid_auto_flow": null,
            "grid_auto_rows": null,
            "grid_column": null,
            "grid_gap": null,
            "grid_row": null,
            "grid_template_areas": null,
            "grid_template_columns": null,
            "grid_template_rows": null,
            "height": null,
            "justify_content": null,
            "justify_items": null,
            "left": null,
            "margin": null,
            "max_height": null,
            "max_width": null,
            "min_height": null,
            "min_width": null,
            "object_fit": null,
            "object_position": null,
            "order": null,
            "overflow": null,
            "overflow_x": null,
            "overflow_y": null,
            "padding": null,
            "right": null,
            "top": null,
            "visibility": null,
            "width": null
          }
        },
        "ae795745c44b45fa9153c166b4a66d2e": {
          "model_module": "@jupyter-widgets/controls",
          "model_name": "DescriptionStyleModel",
          "model_module_version": "1.5.0",
          "state": {
            "_model_module": "@jupyter-widgets/controls",
            "_model_module_version": "1.5.0",
            "_model_name": "DescriptionStyleModel",
            "_view_count": null,
            "_view_module": "@jupyter-widgets/base",
            "_view_module_version": "1.2.0",
            "_view_name": "StyleView",
            "description_width": ""
          }
        },
        "10a4b3d101ce4d86a29db09d0b31fbd0": {
          "model_module": "@jupyter-widgets/controls",
          "model_name": "HBoxModel",
          "model_module_version": "1.5.0",
          "state": {
            "_dom_classes": [],
            "_model_module": "@jupyter-widgets/controls",
            "_model_module_version": "1.5.0",
            "_model_name": "HBoxModel",
            "_view_count": null,
            "_view_module": "@jupyter-widgets/controls",
            "_view_module_version": "1.5.0",
            "_view_name": "HBoxView",
            "box_style": "",
            "children": [
              "IPY_MODEL_3445adfcb6c148b8815519f277f3c604",
              "IPY_MODEL_490185dc7eac48b58f140ba0371e391a",
              "IPY_MODEL_0be3e8979ec949558e5c2a671d6468a1"
            ],
            "layout": "IPY_MODEL_5845b5d76ad54ee5bfadb8c9e0581e14"
          }
        },
        "3445adfcb6c148b8815519f277f3c604": {
          "model_module": "@jupyter-widgets/controls",
          "model_name": "HTMLModel",
          "model_module_version": "1.5.0",
          "state": {
            "_dom_classes": [],
            "_model_module": "@jupyter-widgets/controls",
            "_model_module_version": "1.5.0",
            "_model_name": "HTMLModel",
            "_view_count": null,
            "_view_module": "@jupyter-widgets/controls",
            "_view_module_version": "1.5.0",
            "_view_name": "HTMLView",
            "description": "",
            "description_tooltip": null,
            "layout": "IPY_MODEL_26494d457e164aa29a69a1180579baee",
            "placeholder": "​",
            "style": "IPY_MODEL_2a29645098904b189e957611f4959b4e",
            "value": ""
          }
        },
        "490185dc7eac48b58f140ba0371e391a": {
          "model_module": "@jupyter-widgets/controls",
          "model_name": "FloatProgressModel",
          "model_module_version": "1.5.0",
          "state": {
            "_dom_classes": [],
            "_model_module": "@jupyter-widgets/controls",
            "_model_module_version": "1.5.0",
            "_model_name": "FloatProgressModel",
            "_view_count": null,
            "_view_module": "@jupyter-widgets/controls",
            "_view_module_version": "1.5.0",
            "_view_name": "ProgressView",
            "bar_style": "success",
            "description": "",
            "description_tooltip": null,
            "layout": "IPY_MODEL_aac20e84efed40ac8efc6dbb523e1100",
            "max": 1,
            "min": 0,
            "orientation": "horizontal",
            "style": "IPY_MODEL_7736512298e64a51aba13b13e8dd6359",
            "value": 1
          }
        },
        "0be3e8979ec949558e5c2a671d6468a1": {
          "model_module": "@jupyter-widgets/controls",
          "model_name": "HTMLModel",
          "model_module_version": "1.5.0",
          "state": {
            "_dom_classes": [],
            "_model_module": "@jupyter-widgets/controls",
            "_model_module_version": "1.5.0",
            "_model_name": "HTMLModel",
            "_view_count": null,
            "_view_module": "@jupyter-widgets/controls",
            "_view_module_version": "1.5.0",
            "_view_name": "HTMLView",
            "description": "",
            "description_tooltip": null,
            "layout": "IPY_MODEL_4ce3055a774243ffb63944dbabbd02b8",
            "placeholder": "​",
            "style": "IPY_MODEL_1a8eb419079a4db1995b106c953e019f",
            "value": " 1680/? [00:00&lt;00:00, 7973.75ex/s]"
          }
        },
        "5845b5d76ad54ee5bfadb8c9e0581e14": {
          "model_module": "@jupyter-widgets/base",
          "model_name": "LayoutModel",
          "model_module_version": "1.2.0",
          "state": {
            "_model_module": "@jupyter-widgets/base",
            "_model_module_version": "1.2.0",
            "_model_name": "LayoutModel",
            "_view_count": null,
            "_view_module": "@jupyter-widgets/base",
            "_view_module_version": "1.2.0",
            "_view_name": "LayoutView",
            "align_content": null,
            "align_items": null,
            "align_self": null,
            "border": null,
            "bottom": null,
            "display": null,
            "flex": null,
            "flex_flow": null,
            "grid_area": null,
            "grid_auto_columns": null,
            "grid_auto_flow": null,
            "grid_auto_rows": null,
            "grid_column": null,
            "grid_gap": null,
            "grid_row": null,
            "grid_template_areas": null,
            "grid_template_columns": null,
            "grid_template_rows": null,
            "height": null,
            "justify_content": null,
            "justify_items": null,
            "left": null,
            "margin": null,
            "max_height": null,
            "max_width": null,
            "min_height": null,
            "min_width": null,
            "object_fit": null,
            "object_position": null,
            "order": null,
            "overflow": null,
            "overflow_x": null,
            "overflow_y": null,
            "padding": null,
            "right": null,
            "top": null,
            "visibility": null,
            "width": null
          }
        },
        "26494d457e164aa29a69a1180579baee": {
          "model_module": "@jupyter-widgets/base",
          "model_name": "LayoutModel",
          "model_module_version": "1.2.0",
          "state": {
            "_model_module": "@jupyter-widgets/base",
            "_model_module_version": "1.2.0",
            "_model_name": "LayoutModel",
            "_view_count": null,
            "_view_module": "@jupyter-widgets/base",
            "_view_module_version": "1.2.0",
            "_view_name": "LayoutView",
            "align_content": null,
            "align_items": null,
            "align_self": null,
            "border": null,
            "bottom": null,
            "display": null,
            "flex": null,
            "flex_flow": null,
            "grid_area": null,
            "grid_auto_columns": null,
            "grid_auto_flow": null,
            "grid_auto_rows": null,
            "grid_column": null,
            "grid_gap": null,
            "grid_row": null,
            "grid_template_areas": null,
            "grid_template_columns": null,
            "grid_template_rows": null,
            "height": null,
            "justify_content": null,
            "justify_items": null,
            "left": null,
            "margin": null,
            "max_height": null,
            "max_width": null,
            "min_height": null,
            "min_width": null,
            "object_fit": null,
            "object_position": null,
            "order": null,
            "overflow": null,
            "overflow_x": null,
            "overflow_y": null,
            "padding": null,
            "right": null,
            "top": null,
            "visibility": null,
            "width": null
          }
        },
        "2a29645098904b189e957611f4959b4e": {
          "model_module": "@jupyter-widgets/controls",
          "model_name": "DescriptionStyleModel",
          "model_module_version": "1.5.0",
          "state": {
            "_model_module": "@jupyter-widgets/controls",
            "_model_module_version": "1.5.0",
            "_model_name": "DescriptionStyleModel",
            "_view_count": null,
            "_view_module": "@jupyter-widgets/base",
            "_view_module_version": "1.2.0",
            "_view_name": "StyleView",
            "description_width": ""
          }
        },
        "aac20e84efed40ac8efc6dbb523e1100": {
          "model_module": "@jupyter-widgets/base",
          "model_name": "LayoutModel",
          "model_module_version": "1.2.0",
          "state": {
            "_model_module": "@jupyter-widgets/base",
            "_model_module_version": "1.2.0",
            "_model_name": "LayoutModel",
            "_view_count": null,
            "_view_module": "@jupyter-widgets/base",
            "_view_module_version": "1.2.0",
            "_view_name": "LayoutView",
            "align_content": null,
            "align_items": null,
            "align_self": null,
            "border": null,
            "bottom": null,
            "display": null,
            "flex": null,
            "flex_flow": null,
            "grid_area": null,
            "grid_auto_columns": null,
            "grid_auto_flow": null,
            "grid_auto_rows": null,
            "grid_column": null,
            "grid_gap": null,
            "grid_row": null,
            "grid_template_areas": null,
            "grid_template_columns": null,
            "grid_template_rows": null,
            "height": null,
            "justify_content": null,
            "justify_items": null,
            "left": null,
            "margin": null,
            "max_height": null,
            "max_width": null,
            "min_height": null,
            "min_width": null,
            "object_fit": null,
            "object_position": null,
            "order": null,
            "overflow": null,
            "overflow_x": null,
            "overflow_y": null,
            "padding": null,
            "right": null,
            "top": null,
            "visibility": null,
            "width": "20px"
          }
        },
        "7736512298e64a51aba13b13e8dd6359": {
          "model_module": "@jupyter-widgets/controls",
          "model_name": "ProgressStyleModel",
          "model_module_version": "1.5.0",
          "state": {
            "_model_module": "@jupyter-widgets/controls",
            "_model_module_version": "1.5.0",
            "_model_name": "ProgressStyleModel",
            "_view_count": null,
            "_view_module": "@jupyter-widgets/base",
            "_view_module_version": "1.2.0",
            "_view_name": "StyleView",
            "bar_color": null,
            "description_width": ""
          }
        },
        "4ce3055a774243ffb63944dbabbd02b8": {
          "model_module": "@jupyter-widgets/base",
          "model_name": "LayoutModel",
          "model_module_version": "1.2.0",
          "state": {
            "_model_module": "@jupyter-widgets/base",
            "_model_module_version": "1.2.0",
            "_model_name": "LayoutModel",
            "_view_count": null,
            "_view_module": "@jupyter-widgets/base",
            "_view_module_version": "1.2.0",
            "_view_name": "LayoutView",
            "align_content": null,
            "align_items": null,
            "align_self": null,
            "border": null,
            "bottom": null,
            "display": null,
            "flex": null,
            "flex_flow": null,
            "grid_area": null,
            "grid_auto_columns": null,
            "grid_auto_flow": null,
            "grid_auto_rows": null,
            "grid_column": null,
            "grid_gap": null,
            "grid_row": null,
            "grid_template_areas": null,
            "grid_template_columns": null,
            "grid_template_rows": null,
            "height": null,
            "justify_content": null,
            "justify_items": null,
            "left": null,
            "margin": null,
            "max_height": null,
            "max_width": null,
            "min_height": null,
            "min_width": null,
            "object_fit": null,
            "object_position": null,
            "order": null,
            "overflow": null,
            "overflow_x": null,
            "overflow_y": null,
            "padding": null,
            "right": null,
            "top": null,
            "visibility": null,
            "width": null
          }
        },
        "1a8eb419079a4db1995b106c953e019f": {
          "model_module": "@jupyter-widgets/controls",
          "model_name": "DescriptionStyleModel",
          "model_module_version": "1.5.0",
          "state": {
            "_model_module": "@jupyter-widgets/controls",
            "_model_module_version": "1.5.0",
            "_model_name": "DescriptionStyleModel",
            "_view_count": null,
            "_view_module": "@jupyter-widgets/base",
            "_view_module_version": "1.2.0",
            "_view_name": "StyleView",
            "description_width": ""
          }
        },
        "96ef2df8435c4ec7850f13a69d6d71f4": {
          "model_module": "@jupyter-widgets/controls",
          "model_name": "HBoxModel",
          "model_module_version": "1.5.0",
          "state": {
            "_dom_classes": [],
            "_model_module": "@jupyter-widgets/controls",
            "_model_module_version": "1.5.0",
            "_model_name": "HBoxModel",
            "_view_count": null,
            "_view_module": "@jupyter-widgets/controls",
            "_view_module_version": "1.5.0",
            "_view_name": "HBoxView",
            "box_style": "",
            "children": [
              "IPY_MODEL_f1c8ca82ee744e90b53ad8258bd59cc9",
              "IPY_MODEL_0b2e542102254dff83e7557a6b27e464",
              "IPY_MODEL_b9adbdcdbab949c3910818e2064c794c"
            ],
            "layout": "IPY_MODEL_4d1136cf01604a23ab4362b8e88a8d94"
          }
        },
        "f1c8ca82ee744e90b53ad8258bd59cc9": {
          "model_module": "@jupyter-widgets/controls",
          "model_name": "HTMLModel",
          "model_module_version": "1.5.0",
          "state": {
            "_dom_classes": [],
            "_model_module": "@jupyter-widgets/controls",
            "_model_module_version": "1.5.0",
            "_model_name": "HTMLModel",
            "_view_count": null,
            "_view_module": "@jupyter-widgets/controls",
            "_view_module_version": "1.5.0",
            "_view_name": "HTMLView",
            "description": "",
            "description_tooltip": null,
            "layout": "IPY_MODEL_cabd3ea8046c4b4bac6820584b23e69a",
            "placeholder": "​",
            "style": "IPY_MODEL_06fa1cc539cb427b922e66c49352eede",
            "value": "100%"
          }
        },
        "0b2e542102254dff83e7557a6b27e464": {
          "model_module": "@jupyter-widgets/controls",
          "model_name": "FloatProgressModel",
          "model_module_version": "1.5.0",
          "state": {
            "_dom_classes": [],
            "_model_module": "@jupyter-widgets/controls",
            "_model_module_version": "1.5.0",
            "_model_name": "FloatProgressModel",
            "_view_count": null,
            "_view_module": "@jupyter-widgets/controls",
            "_view_module_version": "1.5.0",
            "_view_name": "ProgressView",
            "bar_style": "success",
            "description": "",
            "description_tooltip": null,
            "layout": "IPY_MODEL_4421becd5d9b494ca146db2189cf86ee",
            "max": 1,
            "min": 0,
            "orientation": "horizontal",
            "style": "IPY_MODEL_8cce223ddee743e994fb9fe54b827bba",
            "value": 1
          }
        },
        "b9adbdcdbab949c3910818e2064c794c": {
          "model_module": "@jupyter-widgets/controls",
          "model_name": "HTMLModel",
          "model_module_version": "1.5.0",
          "state": {
            "_dom_classes": [],
            "_model_module": "@jupyter-widgets/controls",
            "_model_module_version": "1.5.0",
            "_model_name": "HTMLModel",
            "_view_count": null,
            "_view_module": "@jupyter-widgets/controls",
            "_view_module_version": "1.5.0",
            "_view_name": "HTMLView",
            "description": "",
            "description_tooltip": null,
            "layout": "IPY_MODEL_057b24e34ca1496dacba545630f7eff7",
            "placeholder": "​",
            "style": "IPY_MODEL_18c858c3b2ad4755830787080ff30acb",
            "value": " 1/1 [00:00&lt;00:00, 10.10ba/s]"
          }
        },
        "4d1136cf01604a23ab4362b8e88a8d94": {
          "model_module": "@jupyter-widgets/base",
          "model_name": "LayoutModel",
          "model_module_version": "1.2.0",
          "state": {
            "_model_module": "@jupyter-widgets/base",
            "_model_module_version": "1.2.0",
            "_model_name": "LayoutModel",
            "_view_count": null,
            "_view_module": "@jupyter-widgets/base",
            "_view_module_version": "1.2.0",
            "_view_name": "LayoutView",
            "align_content": null,
            "align_items": null,
            "align_self": null,
            "border": null,
            "bottom": null,
            "display": null,
            "flex": null,
            "flex_flow": null,
            "grid_area": null,
            "grid_auto_columns": null,
            "grid_auto_flow": null,
            "grid_auto_rows": null,
            "grid_column": null,
            "grid_gap": null,
            "grid_row": null,
            "grid_template_areas": null,
            "grid_template_columns": null,
            "grid_template_rows": null,
            "height": null,
            "justify_content": null,
            "justify_items": null,
            "left": null,
            "margin": null,
            "max_height": null,
            "max_width": null,
            "min_height": null,
            "min_width": null,
            "object_fit": null,
            "object_position": null,
            "order": null,
            "overflow": null,
            "overflow_x": null,
            "overflow_y": null,
            "padding": null,
            "right": null,
            "top": null,
            "visibility": null,
            "width": null
          }
        },
        "cabd3ea8046c4b4bac6820584b23e69a": {
          "model_module": "@jupyter-widgets/base",
          "model_name": "LayoutModel",
          "model_module_version": "1.2.0",
          "state": {
            "_model_module": "@jupyter-widgets/base",
            "_model_module_version": "1.2.0",
            "_model_name": "LayoutModel",
            "_view_count": null,
            "_view_module": "@jupyter-widgets/base",
            "_view_module_version": "1.2.0",
            "_view_name": "LayoutView",
            "align_content": null,
            "align_items": null,
            "align_self": null,
            "border": null,
            "bottom": null,
            "display": null,
            "flex": null,
            "flex_flow": null,
            "grid_area": null,
            "grid_auto_columns": null,
            "grid_auto_flow": null,
            "grid_auto_rows": null,
            "grid_column": null,
            "grid_gap": null,
            "grid_row": null,
            "grid_template_areas": null,
            "grid_template_columns": null,
            "grid_template_rows": null,
            "height": null,
            "justify_content": null,
            "justify_items": null,
            "left": null,
            "margin": null,
            "max_height": null,
            "max_width": null,
            "min_height": null,
            "min_width": null,
            "object_fit": null,
            "object_position": null,
            "order": null,
            "overflow": null,
            "overflow_x": null,
            "overflow_y": null,
            "padding": null,
            "right": null,
            "top": null,
            "visibility": null,
            "width": null
          }
        },
        "06fa1cc539cb427b922e66c49352eede": {
          "model_module": "@jupyter-widgets/controls",
          "model_name": "DescriptionStyleModel",
          "model_module_version": "1.5.0",
          "state": {
            "_model_module": "@jupyter-widgets/controls",
            "_model_module_version": "1.5.0",
            "_model_name": "DescriptionStyleModel",
            "_view_count": null,
            "_view_module": "@jupyter-widgets/base",
            "_view_module_version": "1.2.0",
            "_view_name": "StyleView",
            "description_width": ""
          }
        },
        "4421becd5d9b494ca146db2189cf86ee": {
          "model_module": "@jupyter-widgets/base",
          "model_name": "LayoutModel",
          "model_module_version": "1.2.0",
          "state": {
            "_model_module": "@jupyter-widgets/base",
            "_model_module_version": "1.2.0",
            "_model_name": "LayoutModel",
            "_view_count": null,
            "_view_module": "@jupyter-widgets/base",
            "_view_module_version": "1.2.0",
            "_view_name": "LayoutView",
            "align_content": null,
            "align_items": null,
            "align_self": null,
            "border": null,
            "bottom": null,
            "display": null,
            "flex": null,
            "flex_flow": null,
            "grid_area": null,
            "grid_auto_columns": null,
            "grid_auto_flow": null,
            "grid_auto_rows": null,
            "grid_column": null,
            "grid_gap": null,
            "grid_row": null,
            "grid_template_areas": null,
            "grid_template_columns": null,
            "grid_template_rows": null,
            "height": null,
            "justify_content": null,
            "justify_items": null,
            "left": null,
            "margin": null,
            "max_height": null,
            "max_width": null,
            "min_height": null,
            "min_width": null,
            "object_fit": null,
            "object_position": null,
            "order": null,
            "overflow": null,
            "overflow_x": null,
            "overflow_y": null,
            "padding": null,
            "right": null,
            "top": null,
            "visibility": null,
            "width": null
          }
        },
        "8cce223ddee743e994fb9fe54b827bba": {
          "model_module": "@jupyter-widgets/controls",
          "model_name": "ProgressStyleModel",
          "model_module_version": "1.5.0",
          "state": {
            "_model_module": "@jupyter-widgets/controls",
            "_model_module_version": "1.5.0",
            "_model_name": "ProgressStyleModel",
            "_view_count": null,
            "_view_module": "@jupyter-widgets/base",
            "_view_module_version": "1.2.0",
            "_view_name": "StyleView",
            "bar_color": null,
            "description_width": ""
          }
        },
        "057b24e34ca1496dacba545630f7eff7": {
          "model_module": "@jupyter-widgets/base",
          "model_name": "LayoutModel",
          "model_module_version": "1.2.0",
          "state": {
            "_model_module": "@jupyter-widgets/base",
            "_model_module_version": "1.2.0",
            "_model_name": "LayoutModel",
            "_view_count": null,
            "_view_module": "@jupyter-widgets/base",
            "_view_module_version": "1.2.0",
            "_view_name": "LayoutView",
            "align_content": null,
            "align_items": null,
            "align_self": null,
            "border": null,
            "bottom": null,
            "display": null,
            "flex": null,
            "flex_flow": null,
            "grid_area": null,
            "grid_auto_columns": null,
            "grid_auto_flow": null,
            "grid_auto_rows": null,
            "grid_column": null,
            "grid_gap": null,
            "grid_row": null,
            "grid_template_areas": null,
            "grid_template_columns": null,
            "grid_template_rows": null,
            "height": null,
            "justify_content": null,
            "justify_items": null,
            "left": null,
            "margin": null,
            "max_height": null,
            "max_width": null,
            "min_height": null,
            "min_width": null,
            "object_fit": null,
            "object_position": null,
            "order": null,
            "overflow": null,
            "overflow_x": null,
            "overflow_y": null,
            "padding": null,
            "right": null,
            "top": null,
            "visibility": null,
            "width": null
          }
        },
        "18c858c3b2ad4755830787080ff30acb": {
          "model_module": "@jupyter-widgets/controls",
          "model_name": "DescriptionStyleModel",
          "model_module_version": "1.5.0",
          "state": {
            "_model_module": "@jupyter-widgets/controls",
            "_model_module_version": "1.5.0",
            "_model_name": "DescriptionStyleModel",
            "_view_count": null,
            "_view_module": "@jupyter-widgets/base",
            "_view_module_version": "1.2.0",
            "_view_name": "StyleView",
            "description_width": ""
          }
        },
        "e66acc96f2f74708a2be73aec48a474a": {
          "model_module": "@jupyter-widgets/controls",
          "model_name": "HBoxModel",
          "model_module_version": "1.5.0",
          "state": {
            "_dom_classes": [],
            "_model_module": "@jupyter-widgets/controls",
            "_model_module_version": "1.5.0",
            "_model_name": "HBoxModel",
            "_view_count": null,
            "_view_module": "@jupyter-widgets/controls",
            "_view_module_version": "1.5.0",
            "_view_name": "HBoxView",
            "box_style": "",
            "children": [
              "IPY_MODEL_56740aa3908e40938cb1ebece8ccbf76",
              "IPY_MODEL_8d921bd539424813a6d80424702cbbd6",
              "IPY_MODEL_043bba6347964390ac847b9a4dbe632a"
            ],
            "layout": "IPY_MODEL_ac2fa14cfecc422ea853088fa49a3461"
          }
        },
        "56740aa3908e40938cb1ebece8ccbf76": {
          "model_module": "@jupyter-widgets/controls",
          "model_name": "HTMLModel",
          "model_module_version": "1.5.0",
          "state": {
            "_dom_classes": [],
            "_model_module": "@jupyter-widgets/controls",
            "_model_module_version": "1.5.0",
            "_model_name": "HTMLModel",
            "_view_count": null,
            "_view_module": "@jupyter-widgets/controls",
            "_view_module_version": "1.5.0",
            "_view_name": "HTMLView",
            "description": "",
            "description_tooltip": null,
            "layout": "IPY_MODEL_3b2144c7cd994553a741f4b9778ac9b2",
            "placeholder": "​",
            "style": "IPY_MODEL_97b4ef1b8cd24aa793cc219fae6a28c3",
            "value": "100%"
          }
        },
        "8d921bd539424813a6d80424702cbbd6": {
          "model_module": "@jupyter-widgets/controls",
          "model_name": "FloatProgressModel",
          "model_module_version": "1.5.0",
          "state": {
            "_dom_classes": [],
            "_model_module": "@jupyter-widgets/controls",
            "_model_module_version": "1.5.0",
            "_model_name": "FloatProgressModel",
            "_view_count": null,
            "_view_module": "@jupyter-widgets/controls",
            "_view_module_version": "1.5.0",
            "_view_name": "ProgressView",
            "bar_style": "success",
            "description": "",
            "description_tooltip": null,
            "layout": "IPY_MODEL_e9d13307c08144e8924c3f8b3fa8ec81",
            "max": 1,
            "min": 0,
            "orientation": "horizontal",
            "style": "IPY_MODEL_f067460b99464b6087dc63f59676d430",
            "value": 1
          }
        },
        "043bba6347964390ac847b9a4dbe632a": {
          "model_module": "@jupyter-widgets/controls",
          "model_name": "HTMLModel",
          "model_module_version": "1.5.0",
          "state": {
            "_dom_classes": [],
            "_model_module": "@jupyter-widgets/controls",
            "_model_module_version": "1.5.0",
            "_model_name": "HTMLModel",
            "_view_count": null,
            "_view_module": "@jupyter-widgets/controls",
            "_view_module_version": "1.5.0",
            "_view_name": "HTMLView",
            "description": "",
            "description_tooltip": null,
            "layout": "IPY_MODEL_6da132e30a844782a1e8110f13f79edf",
            "placeholder": "​",
            "style": "IPY_MODEL_60cc00e3cb0e4ea9a494d4f6f6599a82",
            "value": " 1/1 [00:00&lt;00:00, 18.69ba/s]"
          }
        },
        "ac2fa14cfecc422ea853088fa49a3461": {
          "model_module": "@jupyter-widgets/base",
          "model_name": "LayoutModel",
          "model_module_version": "1.2.0",
          "state": {
            "_model_module": "@jupyter-widgets/base",
            "_model_module_version": "1.2.0",
            "_model_name": "LayoutModel",
            "_view_count": null,
            "_view_module": "@jupyter-widgets/base",
            "_view_module_version": "1.2.0",
            "_view_name": "LayoutView",
            "align_content": null,
            "align_items": null,
            "align_self": null,
            "border": null,
            "bottom": null,
            "display": null,
            "flex": null,
            "flex_flow": null,
            "grid_area": null,
            "grid_auto_columns": null,
            "grid_auto_flow": null,
            "grid_auto_rows": null,
            "grid_column": null,
            "grid_gap": null,
            "grid_row": null,
            "grid_template_areas": null,
            "grid_template_columns": null,
            "grid_template_rows": null,
            "height": null,
            "justify_content": null,
            "justify_items": null,
            "left": null,
            "margin": null,
            "max_height": null,
            "max_width": null,
            "min_height": null,
            "min_width": null,
            "object_fit": null,
            "object_position": null,
            "order": null,
            "overflow": null,
            "overflow_x": null,
            "overflow_y": null,
            "padding": null,
            "right": null,
            "top": null,
            "visibility": null,
            "width": null
          }
        },
        "3b2144c7cd994553a741f4b9778ac9b2": {
          "model_module": "@jupyter-widgets/base",
          "model_name": "LayoutModel",
          "model_module_version": "1.2.0",
          "state": {
            "_model_module": "@jupyter-widgets/base",
            "_model_module_version": "1.2.0",
            "_model_name": "LayoutModel",
            "_view_count": null,
            "_view_module": "@jupyter-widgets/base",
            "_view_module_version": "1.2.0",
            "_view_name": "LayoutView",
            "align_content": null,
            "align_items": null,
            "align_self": null,
            "border": null,
            "bottom": null,
            "display": null,
            "flex": null,
            "flex_flow": null,
            "grid_area": null,
            "grid_auto_columns": null,
            "grid_auto_flow": null,
            "grid_auto_rows": null,
            "grid_column": null,
            "grid_gap": null,
            "grid_row": null,
            "grid_template_areas": null,
            "grid_template_columns": null,
            "grid_template_rows": null,
            "height": null,
            "justify_content": null,
            "justify_items": null,
            "left": null,
            "margin": null,
            "max_height": null,
            "max_width": null,
            "min_height": null,
            "min_width": null,
            "object_fit": null,
            "object_position": null,
            "order": null,
            "overflow": null,
            "overflow_x": null,
            "overflow_y": null,
            "padding": null,
            "right": null,
            "top": null,
            "visibility": null,
            "width": null
          }
        },
        "97b4ef1b8cd24aa793cc219fae6a28c3": {
          "model_module": "@jupyter-widgets/controls",
          "model_name": "DescriptionStyleModel",
          "model_module_version": "1.5.0",
          "state": {
            "_model_module": "@jupyter-widgets/controls",
            "_model_module_version": "1.5.0",
            "_model_name": "DescriptionStyleModel",
            "_view_count": null,
            "_view_module": "@jupyter-widgets/base",
            "_view_module_version": "1.2.0",
            "_view_name": "StyleView",
            "description_width": ""
          }
        },
        "e9d13307c08144e8924c3f8b3fa8ec81": {
          "model_module": "@jupyter-widgets/base",
          "model_name": "LayoutModel",
          "model_module_version": "1.2.0",
          "state": {
            "_model_module": "@jupyter-widgets/base",
            "_model_module_version": "1.2.0",
            "_model_name": "LayoutModel",
            "_view_count": null,
            "_view_module": "@jupyter-widgets/base",
            "_view_module_version": "1.2.0",
            "_view_name": "LayoutView",
            "align_content": null,
            "align_items": null,
            "align_self": null,
            "border": null,
            "bottom": null,
            "display": null,
            "flex": null,
            "flex_flow": null,
            "grid_area": null,
            "grid_auto_columns": null,
            "grid_auto_flow": null,
            "grid_auto_rows": null,
            "grid_column": null,
            "grid_gap": null,
            "grid_row": null,
            "grid_template_areas": null,
            "grid_template_columns": null,
            "grid_template_rows": null,
            "height": null,
            "justify_content": null,
            "justify_items": null,
            "left": null,
            "margin": null,
            "max_height": null,
            "max_width": null,
            "min_height": null,
            "min_width": null,
            "object_fit": null,
            "object_position": null,
            "order": null,
            "overflow": null,
            "overflow_x": null,
            "overflow_y": null,
            "padding": null,
            "right": null,
            "top": null,
            "visibility": null,
            "width": null
          }
        },
        "f067460b99464b6087dc63f59676d430": {
          "model_module": "@jupyter-widgets/controls",
          "model_name": "ProgressStyleModel",
          "model_module_version": "1.5.0",
          "state": {
            "_model_module": "@jupyter-widgets/controls",
            "_model_module_version": "1.5.0",
            "_model_name": "ProgressStyleModel",
            "_view_count": null,
            "_view_module": "@jupyter-widgets/base",
            "_view_module_version": "1.2.0",
            "_view_name": "StyleView",
            "bar_color": null,
            "description_width": ""
          }
        },
        "6da132e30a844782a1e8110f13f79edf": {
          "model_module": "@jupyter-widgets/base",
          "model_name": "LayoutModel",
          "model_module_version": "1.2.0",
          "state": {
            "_model_module": "@jupyter-widgets/base",
            "_model_module_version": "1.2.0",
            "_model_name": "LayoutModel",
            "_view_count": null,
            "_view_module": "@jupyter-widgets/base",
            "_view_module_version": "1.2.0",
            "_view_name": "LayoutView",
            "align_content": null,
            "align_items": null,
            "align_self": null,
            "border": null,
            "bottom": null,
            "display": null,
            "flex": null,
            "flex_flow": null,
            "grid_area": null,
            "grid_auto_columns": null,
            "grid_auto_flow": null,
            "grid_auto_rows": null,
            "grid_column": null,
            "grid_gap": null,
            "grid_row": null,
            "grid_template_areas": null,
            "grid_template_columns": null,
            "grid_template_rows": null,
            "height": null,
            "justify_content": null,
            "justify_items": null,
            "left": null,
            "margin": null,
            "max_height": null,
            "max_width": null,
            "min_height": null,
            "min_width": null,
            "object_fit": null,
            "object_position": null,
            "order": null,
            "overflow": null,
            "overflow_x": null,
            "overflow_y": null,
            "padding": null,
            "right": null,
            "top": null,
            "visibility": null,
            "width": null
          }
        },
        "60cc00e3cb0e4ea9a494d4f6f6599a82": {
          "model_module": "@jupyter-widgets/controls",
          "model_name": "DescriptionStyleModel",
          "model_module_version": "1.5.0",
          "state": {
            "_model_module": "@jupyter-widgets/controls",
            "_model_module_version": "1.5.0",
            "_model_name": "DescriptionStyleModel",
            "_view_count": null,
            "_view_module": "@jupyter-widgets/base",
            "_view_module_version": "1.2.0",
            "_view_name": "StyleView",
            "description_width": ""
          }
        }
      }
    }
  },
  "cells": [
    {
      "cell_type": "markdown",
      "metadata": {
        "id": "view-in-github",
        "colab_type": "text"
      },
      "source": [
        "<a href=\"https://colab.research.google.com/github/sccn/sound2meg/blob/main/wev2vec_tutorial.ipynb\" target=\"_parent\"><img src=\"https://colab.research.google.com/assets/colab-badge.svg\" alt=\"Open In Colab\"/></a>"
      ]
    },
    {
      "cell_type": "code",
      "source": [
        "!pip install datasets==1.18.3\n",
        "!pip install transformers==4.24.0\n",
        "!pip install huggingface_hub==0.11\n",
        "!pip install torchaudio\n",
        "!pip install librosa\n",
        "!pip install jiwer"
      ],
      "metadata": {
        "colab": {
          "base_uri": "https://localhost:8080/"
        },
        "id": "8bxgxPYS-lSf",
        "outputId": "fbeb1666-03df-4aa5-bf47-dc11b93c25ba"
      },
      "execution_count": 48,
      "outputs": [
        {
          "output_type": "stream",
          "name": "stdout",
          "text": [
            "Looking in indexes: https://pypi.org/simple, https://us-python.pkg.dev/colab-wheels/public/simple/\n",
            "Requirement already satisfied: datasets==1.18.3 in /usr/local/lib/python3.9/dist-packages (1.18.3)\n",
            "Requirement already satisfied: requests>=2.19.0 in /usr/local/lib/python3.9/dist-packages (from datasets==1.18.3) (2.27.1)\n",
            "Requirement already satisfied: aiohttp in /usr/local/lib/python3.9/dist-packages (from datasets==1.18.3) (3.8.4)\n",
            "Requirement already satisfied: dill in /usr/local/lib/python3.9/dist-packages (from datasets==1.18.3) (0.3.6)\n",
            "Requirement already satisfied: pandas in /usr/local/lib/python3.9/dist-packages (from datasets==1.18.3) (1.4.4)\n",
            "Requirement already satisfied: tqdm>=4.62.1 in /usr/local/lib/python3.9/dist-packages (from datasets==1.18.3) (4.65.0)\n",
            "Requirement already satisfied: xxhash in /usr/local/lib/python3.9/dist-packages (from datasets==1.18.3) (3.2.0)\n",
            "Requirement already satisfied: pyarrow!=4.0.0,>=3.0.0 in /usr/local/lib/python3.9/dist-packages (from datasets==1.18.3) (9.0.0)\n",
            "Requirement already satisfied: numpy>=1.17 in /usr/local/lib/python3.9/dist-packages (from datasets==1.18.3) (1.22.4)\n",
            "Requirement already satisfied: packaging in /usr/local/lib/python3.9/dist-packages (from datasets==1.18.3) (23.0)\n",
            "Requirement already satisfied: multiprocess in /usr/local/lib/python3.9/dist-packages (from datasets==1.18.3) (0.70.14)\n",
            "Requirement already satisfied: fsspec[http]>=2021.05.0 in /usr/local/lib/python3.9/dist-packages (from datasets==1.18.3) (2023.3.0)\n",
            "Requirement already satisfied: huggingface-hub<1.0.0,>=0.1.0 in /usr/local/lib/python3.9/dist-packages (from datasets==1.18.3) (0.11.0)\n",
            "Requirement already satisfied: aiosignal>=1.1.2 in /usr/local/lib/python3.9/dist-packages (from aiohttp->datasets==1.18.3) (1.3.1)\n",
            "Requirement already satisfied: charset-normalizer<4.0,>=2.0 in /usr/local/lib/python3.9/dist-packages (from aiohttp->datasets==1.18.3) (2.0.12)\n",
            "Requirement already satisfied: async-timeout<5.0,>=4.0.0a3 in /usr/local/lib/python3.9/dist-packages (from aiohttp->datasets==1.18.3) (4.0.2)\n",
            "Requirement already satisfied: multidict<7.0,>=4.5 in /usr/local/lib/python3.9/dist-packages (from aiohttp->datasets==1.18.3) (6.0.4)\n",
            "Requirement already satisfied: frozenlist>=1.1.1 in /usr/local/lib/python3.9/dist-packages (from aiohttp->datasets==1.18.3) (1.3.3)\n",
            "Requirement already satisfied: yarl<2.0,>=1.0 in /usr/local/lib/python3.9/dist-packages (from aiohttp->datasets==1.18.3) (1.8.2)\n",
            "Requirement already satisfied: attrs>=17.3.0 in /usr/local/lib/python3.9/dist-packages (from aiohttp->datasets==1.18.3) (22.2.0)\n",
            "Requirement already satisfied: pyyaml>=5.1 in /usr/local/lib/python3.9/dist-packages (from huggingface-hub<1.0.0,>=0.1.0->datasets==1.18.3) (6.0)\n",
            "Requirement already satisfied: filelock in /usr/local/lib/python3.9/dist-packages (from huggingface-hub<1.0.0,>=0.1.0->datasets==1.18.3) (3.10.0)\n",
            "Requirement already satisfied: typing-extensions>=3.7.4.3 in /usr/local/lib/python3.9/dist-packages (from huggingface-hub<1.0.0,>=0.1.0->datasets==1.18.3) (4.5.0)\n",
            "Requirement already satisfied: idna<4,>=2.5 in /usr/local/lib/python3.9/dist-packages (from requests>=2.19.0->datasets==1.18.3) (3.4)\n",
            "Requirement already satisfied: urllib3<1.27,>=1.21.1 in /usr/local/lib/python3.9/dist-packages (from requests>=2.19.0->datasets==1.18.3) (1.26.15)\n",
            "Requirement already satisfied: certifi>=2017.4.17 in /usr/local/lib/python3.9/dist-packages (from requests>=2.19.0->datasets==1.18.3) (2022.12.7)\n",
            "Requirement already satisfied: python-dateutil>=2.8.1 in /usr/local/lib/python3.9/dist-packages (from pandas->datasets==1.18.3) (2.8.2)\n",
            "Requirement already satisfied: pytz>=2020.1 in /usr/local/lib/python3.9/dist-packages (from pandas->datasets==1.18.3) (2022.7.1)\n",
            "Requirement already satisfied: six>=1.5 in /usr/local/lib/python3.9/dist-packages (from python-dateutil>=2.8.1->pandas->datasets==1.18.3) (1.16.0)\n",
            "Looking in indexes: https://pypi.org/simple, https://us-python.pkg.dev/colab-wheels/public/simple/\n",
            "Requirement already satisfied: transformers==4.24.0 in /usr/local/lib/python3.9/dist-packages (4.24.0)\n",
            "Requirement already satisfied: tqdm>=4.27 in /usr/local/lib/python3.9/dist-packages (from transformers==4.24.0) (4.65.0)\n",
            "Requirement already satisfied: pyyaml>=5.1 in /usr/local/lib/python3.9/dist-packages (from transformers==4.24.0) (6.0)\n",
            "Requirement already satisfied: tokenizers!=0.11.3,<0.14,>=0.11.1 in /usr/local/lib/python3.9/dist-packages (from transformers==4.24.0) (0.13.2)\n",
            "Requirement already satisfied: filelock in /usr/local/lib/python3.9/dist-packages (from transformers==4.24.0) (3.10.0)\n",
            "Requirement already satisfied: huggingface-hub<1.0,>=0.10.0 in /usr/local/lib/python3.9/dist-packages (from transformers==4.24.0) (0.11.0)\n",
            "Requirement already satisfied: packaging>=20.0 in /usr/local/lib/python3.9/dist-packages (from transformers==4.24.0) (23.0)\n",
            "Requirement already satisfied: numpy>=1.17 in /usr/local/lib/python3.9/dist-packages (from transformers==4.24.0) (1.22.4)\n",
            "Requirement already satisfied: requests in /usr/local/lib/python3.9/dist-packages (from transformers==4.24.0) (2.27.1)\n",
            "Requirement already satisfied: regex!=2019.12.17 in /usr/local/lib/python3.9/dist-packages (from transformers==4.24.0) (2022.10.31)\n",
            "Requirement already satisfied: typing-extensions>=3.7.4.3 in /usr/local/lib/python3.9/dist-packages (from huggingface-hub<1.0,>=0.10.0->transformers==4.24.0) (4.5.0)\n",
            "Requirement already satisfied: certifi>=2017.4.17 in /usr/local/lib/python3.9/dist-packages (from requests->transformers==4.24.0) (2022.12.7)\n",
            "Requirement already satisfied: idna<4,>=2.5 in /usr/local/lib/python3.9/dist-packages (from requests->transformers==4.24.0) (3.4)\n",
            "Requirement already satisfied: charset-normalizer~=2.0.0 in /usr/local/lib/python3.9/dist-packages (from requests->transformers==4.24.0) (2.0.12)\n",
            "Requirement already satisfied: urllib3<1.27,>=1.21.1 in /usr/local/lib/python3.9/dist-packages (from requests->transformers==4.24.0) (1.26.15)\n",
            "Looking in indexes: https://pypi.org/simple, https://us-python.pkg.dev/colab-wheels/public/simple/\n",
            "Requirement already satisfied: huggingface_hub==0.11 in /usr/local/lib/python3.9/dist-packages (0.11.0)\n",
            "Requirement already satisfied: tqdm in /usr/local/lib/python3.9/dist-packages (from huggingface_hub==0.11) (4.65.0)\n",
            "Requirement already satisfied: requests in /usr/local/lib/python3.9/dist-packages (from huggingface_hub==0.11) (2.27.1)\n",
            "Requirement already satisfied: packaging>=20.9 in /usr/local/lib/python3.9/dist-packages (from huggingface_hub==0.11) (23.0)\n",
            "Requirement already satisfied: typing-extensions>=3.7.4.3 in /usr/local/lib/python3.9/dist-packages (from huggingface_hub==0.11) (4.5.0)\n",
            "Requirement already satisfied: pyyaml>=5.1 in /usr/local/lib/python3.9/dist-packages (from huggingface_hub==0.11) (6.0)\n",
            "Requirement already satisfied: filelock in /usr/local/lib/python3.9/dist-packages (from huggingface_hub==0.11) (3.10.0)\n",
            "Requirement already satisfied: charset-normalizer~=2.0.0 in /usr/local/lib/python3.9/dist-packages (from requests->huggingface_hub==0.11) (2.0.12)\n",
            "Requirement already satisfied: urllib3<1.27,>=1.21.1 in /usr/local/lib/python3.9/dist-packages (from requests->huggingface_hub==0.11) (1.26.15)\n",
            "Requirement already satisfied: idna<4,>=2.5 in /usr/local/lib/python3.9/dist-packages (from requests->huggingface_hub==0.11) (3.4)\n",
            "Requirement already satisfied: certifi>=2017.4.17 in /usr/local/lib/python3.9/dist-packages (from requests->huggingface_hub==0.11) (2022.12.7)\n",
            "Looking in indexes: https://pypi.org/simple, https://us-python.pkg.dev/colab-wheels/public/simple/\n",
            "Requirement already satisfied: torchaudio in /usr/local/lib/python3.9/dist-packages (0.13.1+cu116)\n",
            "Requirement already satisfied: torch==1.13.1 in /usr/local/lib/python3.9/dist-packages (from torchaudio) (1.13.1+cu116)\n",
            "Requirement already satisfied: typing-extensions in /usr/local/lib/python3.9/dist-packages (from torch==1.13.1->torchaudio) (4.5.0)\n",
            "Looking in indexes: https://pypi.org/simple, https://us-python.pkg.dev/colab-wheels/public/simple/\n",
            "Requirement already satisfied: librosa in /usr/local/lib/python3.9/dist-packages (0.10.0.post2)\n",
            "Requirement already satisfied: soundfile>=0.12.1 in /usr/local/lib/python3.9/dist-packages (from librosa) (0.12.1)\n",
            "Requirement already satisfied: pooch<1.7,>=1.0 in /usr/local/lib/python3.9/dist-packages (from librosa) (1.6.0)\n",
            "Requirement already satisfied: decorator>=4.3.0 in /usr/local/lib/python3.9/dist-packages (from librosa) (4.4.2)\n",
            "Requirement already satisfied: scipy>=1.2.0 in /usr/local/lib/python3.9/dist-packages (from librosa) (1.10.1)\n",
            "Requirement already satisfied: msgpack>=1.0 in /usr/local/lib/python3.9/dist-packages (from librosa) (1.0.5)\n",
            "Requirement already satisfied: scikit-learn>=0.20.0 in /usr/local/lib/python3.9/dist-packages (from librosa) (1.2.2)\n",
            "Requirement already satisfied: numpy!=1.22.0,!=1.22.1,!=1.22.2,>=1.20.3 in /usr/local/lib/python3.9/dist-packages (from librosa) (1.22.4)\n",
            "Requirement already satisfied: audioread>=2.1.9 in /usr/local/lib/python3.9/dist-packages (from librosa) (3.0.0)\n",
            "Requirement already satisfied: lazy-loader>=0.1 in /usr/local/lib/python3.9/dist-packages (from librosa) (0.1)\n",
            "Requirement already satisfied: joblib>=0.14 in /usr/local/lib/python3.9/dist-packages (from librosa) (1.1.1)\n",
            "Requirement already satisfied: typing-extensions>=4.1.1 in /usr/local/lib/python3.9/dist-packages (from librosa) (4.5.0)\n",
            "Requirement already satisfied: numba>=0.51.0 in /usr/local/lib/python3.9/dist-packages (from librosa) (0.56.4)\n",
            "Requirement already satisfied: soxr>=0.3.2 in /usr/local/lib/python3.9/dist-packages (from librosa) (0.3.4)\n",
            "Requirement already satisfied: setuptools in /usr/local/lib/python3.9/dist-packages (from numba>=0.51.0->librosa) (67.6.0)\n",
            "Requirement already satisfied: llvmlite<0.40,>=0.39.0dev0 in /usr/local/lib/python3.9/dist-packages (from numba>=0.51.0->librosa) (0.39.1)\n",
            "Requirement already satisfied: requests>=2.19.0 in /usr/local/lib/python3.9/dist-packages (from pooch<1.7,>=1.0->librosa) (2.27.1)\n",
            "Requirement already satisfied: packaging>=20.0 in /usr/local/lib/python3.9/dist-packages (from pooch<1.7,>=1.0->librosa) (23.0)\n",
            "Requirement already satisfied: appdirs>=1.3.0 in /usr/local/lib/python3.9/dist-packages (from pooch<1.7,>=1.0->librosa) (1.4.4)\n",
            "Requirement already satisfied: threadpoolctl>=2.0.0 in /usr/local/lib/python3.9/dist-packages (from scikit-learn>=0.20.0->librosa) (3.1.0)\n",
            "Requirement already satisfied: cffi>=1.0 in /usr/local/lib/python3.9/dist-packages (from soundfile>=0.12.1->librosa) (1.15.1)\n",
            "Requirement already satisfied: pycparser in /usr/local/lib/python3.9/dist-packages (from cffi>=1.0->soundfile>=0.12.1->librosa) (2.21)\n",
            "Requirement already satisfied: idna<4,>=2.5 in /usr/local/lib/python3.9/dist-packages (from requests>=2.19.0->pooch<1.7,>=1.0->librosa) (3.4)\n",
            "Requirement already satisfied: urllib3<1.27,>=1.21.1 in /usr/local/lib/python3.9/dist-packages (from requests>=2.19.0->pooch<1.7,>=1.0->librosa) (1.26.15)\n",
            "Requirement already satisfied: charset-normalizer~=2.0.0 in /usr/local/lib/python3.9/dist-packages (from requests>=2.19.0->pooch<1.7,>=1.0->librosa) (2.0.12)\n",
            "Requirement already satisfied: certifi>=2017.4.17 in /usr/local/lib/python3.9/dist-packages (from requests>=2.19.0->pooch<1.7,>=1.0->librosa) (2022.12.7)\n",
            "Looking in indexes: https://pypi.org/simple, https://us-python.pkg.dev/colab-wheels/public/simple/\n",
            "Requirement already satisfied: jiwer in /usr/local/lib/python3.9/dist-packages (3.0.0)\n",
            "Requirement already satisfied: click<9.0.0,>=8.1.3 in /usr/local/lib/python3.9/dist-packages (from jiwer) (8.1.3)\n",
            "Requirement already satisfied: rapidfuzz==2.13.7 in /usr/local/lib/python3.9/dist-packages (from jiwer) (2.13.7)\n"
          ]
        }
      ]
    },
    {
      "cell_type": "code",
      "execution_count": 49,
      "metadata": {
        "colab": {
          "base_uri": "https://localhost:8080/",
          "height": 67,
          "referenced_widgets": [
            "f25ec573eb9141c9a7cbe945a46d585c",
            "0dd11116bbf44a2dad7b19be6ffb7c06",
            "f916ac072ef84b20b0157d5bea823853",
            "d34d3bd8af634ae68b727daaeef88bb4",
            "9ba55686e1a04f3c96141d0af893d2be",
            "2b035cdffbf2405391a24105cb4e443b",
            "2db025850a2e464e94560f6490f29a57",
            "e5ff45df60e34d1d8f40fce17d51b55c",
            "93e61dee36b64bb1b606d31a942a6fb3",
            "26fefc1201424f88bf1b75a70981e1e0",
            "954acb2ba9f34a958f3c5f6832f8b685"
          ]
        },
        "id": "HzUY-5c192ku",
        "outputId": "a32964c7-28b7-4859-cb30-4aadc3ecb808"
      },
      "outputs": [
        {
          "output_type": "stream",
          "name": "stderr",
          "text": [
            "WARNING:datasets.builder:Reusing dataset timit_asr (/root/.cache/huggingface/datasets/timit_asr/clean/2.0.1/b11b576ddcccbcefa7c9f0c4e6c2a43756f3033adffe0fb686aa61043d0450ad)\n"
          ]
        },
        {
          "output_type": "display_data",
          "data": {
            "text/plain": [
              "  0%|          | 0/2 [00:00<?, ?it/s]"
            ],
            "application/vnd.jupyter.widget-view+json": {
              "version_major": 2,
              "version_minor": 0,
              "model_id": "f25ec573eb9141c9a7cbe945a46d585c"
            }
          },
          "metadata": {}
        }
      ],
      "source": [
        "from datasets import load_dataset, load_metric, Audio\n",
        "\n",
        "timit = load_dataset(\"timit_asr\")\n",
        "\n",
        "\n",
        "# common_voice_train = load_dataset(\"common_voice\", \"en\", split=\"train+validation\")\n",
        "# common_voice_test = load_dataset(\"common_voice\", \"en\", split=\"test\")"
      ]
    },
    {
      "cell_type": "code",
      "source": [
        "timit = timit.remove_columns([\"phonetic_detail\", \"word_detail\", \"dialect_region\", \"id\", \"sentence_type\", \"speaker_id\"])\n",
        "\n"
      ],
      "metadata": {
        "id": "Q3NsUzgyBYPm"
      },
      "execution_count": 50,
      "outputs": []
    },
    {
      "cell_type": "code",
      "source": [
        "from datasets import ClassLabel\n",
        "import random\n",
        "import pandas as pd\n",
        "from IPython.display import display, HTML\n",
        "\n",
        "def show_random_elements(dataset, num_examples=10):\n",
        "    assert num_examples <= len(dataset), \"Can't pick more elements than there are in the dataset.\"\n",
        "    picks = []\n",
        "    for _ in range(num_examples):\n",
        "        pick = random.randint(0, len(dataset)-1)\n",
        "        while pick in picks:\n",
        "            pick = random.randint(0, len(dataset)-1)\n",
        "        picks.append(pick)\n",
        "    \n",
        "    df = pd.DataFrame(dataset[picks])\n",
        "    display(HTML(df.to_html()))"
      ],
      "metadata": {
        "id": "SpNNQFib-xY8"
      },
      "execution_count": 51,
      "outputs": []
    },
    {
      "cell_type": "code",
      "source": [],
      "metadata": {
        "id": "AiVdXwVfBeEo"
      },
      "execution_count": 51,
      "outputs": []
    },
    {
      "cell_type": "code",
      "source": [
        "import re\n",
        "chars_to_ignore_regex = '[\\,\\?\\.\\!\\-\\;\\:\\\"]'\n",
        "\n",
        "def remove_special_characters(batch):\n",
        "    batch[\"text\"] = re.sub(chars_to_ignore_regex, '', batch[\"text\"]).lower()\n",
        "    return batch\n",
        "\n",
        "timit = timit.map(remove_special_characters)"
      ],
      "metadata": {
        "colab": {
          "base_uri": "https://localhost:8080/",
          "height": 81,
          "referenced_widgets": [
            "0fcb2c21fdba4427a84c0cb375d78432",
            "803ab8424b3745f3a589d64f6a523e34",
            "d4ce877c49164c9d8732547f69b53663",
            "595bc8d1c0a04b6ca603adf33931c9e0",
            "5d56edb761a842f981444cd67ee60d04",
            "1cc27d56a1534eaa85b6f91fce0fa8d6",
            "13932c7fa3cc4ca7802b493528ab8d7d",
            "2a018928e89b459595651df4abba1225",
            "3dfce526369344bf8656847bf17c6f25",
            "6819ed3eb35e4be98bd94fcecd55b807",
            "ae795745c44b45fa9153c166b4a66d2e",
            "10a4b3d101ce4d86a29db09d0b31fbd0",
            "3445adfcb6c148b8815519f277f3c604",
            "490185dc7eac48b58f140ba0371e391a",
            "0be3e8979ec949558e5c2a671d6468a1",
            "5845b5d76ad54ee5bfadb8c9e0581e14",
            "26494d457e164aa29a69a1180579baee",
            "2a29645098904b189e957611f4959b4e",
            "aac20e84efed40ac8efc6dbb523e1100",
            "7736512298e64a51aba13b13e8dd6359",
            "4ce3055a774243ffb63944dbabbd02b8",
            "1a8eb419079a4db1995b106c953e019f"
          ]
        },
        "id": "SFxdpRNl-z8j",
        "outputId": "81eb3ac4-cf5d-4d28-d9f4-58f8f59815d1"
      },
      "execution_count": 52,
      "outputs": [
        {
          "output_type": "display_data",
          "data": {
            "text/plain": [
              "0ex [00:00, ?ex/s]"
            ],
            "application/vnd.jupyter.widget-view+json": {
              "version_major": 2,
              "version_minor": 0,
              "model_id": "0fcb2c21fdba4427a84c0cb375d78432"
            }
          },
          "metadata": {}
        },
        {
          "output_type": "display_data",
          "data": {
            "text/plain": [
              "0ex [00:00, ?ex/s]"
            ],
            "application/vnd.jupyter.widget-view+json": {
              "version_major": 2,
              "version_minor": 0,
              "model_id": "10a4b3d101ce4d86a29db09d0b31fbd0"
            }
          },
          "metadata": {}
        }
      ]
    },
    {
      "cell_type": "code",
      "source": [
        "show_random_elements(timit[\"train\"].remove_columns([\"file\", \"audio\"]))\n",
        "\n"
      ],
      "metadata": {
        "colab": {
          "base_uri": "https://localhost:8080/",
          "height": 363
        },
        "id": "k9GRL_ZI_G9u",
        "outputId": "9b6e7e3f-10ff-4804-de4f-27d5e712b2f3"
      },
      "execution_count": 53,
      "outputs": [
        {
          "output_type": "display_data",
          "data": {
            "text/plain": [
              "<IPython.core.display.HTML object>"
            ],
            "text/html": [
              "<table border=\"1\" class=\"dataframe\">\n",
              "  <thead>\n",
              "    <tr style=\"text-align: right;\">\n",
              "      <th></th>\n",
              "      <th>text</th>\n",
              "    </tr>\n",
              "  </thead>\n",
              "  <tbody>\n",
              "    <tr>\n",
              "      <th>0</th>\n",
              "      <td>she had your dark suit in greasy wash water all year</td>\n",
              "    </tr>\n",
              "    <tr>\n",
              "      <th>1</th>\n",
              "      <td>the water contained too much chlorine and stung his eyes</td>\n",
              "    </tr>\n",
              "    <tr>\n",
              "      <th>2</th>\n",
              "      <td>leave me your address</td>\n",
              "    </tr>\n",
              "    <tr>\n",
              "      <th>3</th>\n",
              "      <td>penguins live near the icy antarctic</td>\n",
              "    </tr>\n",
              "    <tr>\n",
              "      <th>4</th>\n",
              "      <td>cory attacked the project with extra determination</td>\n",
              "    </tr>\n",
              "    <tr>\n",
              "      <th>5</th>\n",
              "      <td>that stinging vapor was caused by chloride vaporization</td>\n",
              "    </tr>\n",
              "    <tr>\n",
              "      <th>6</th>\n",
              "      <td>take charge of choosing her bride's maids' gowns</td>\n",
              "    </tr>\n",
              "    <tr>\n",
              "      <th>7</th>\n",
              "      <td>porcupines resemble sea urchins</td>\n",
              "    </tr>\n",
              "    <tr>\n",
              "      <th>8</th>\n",
              "      <td>anyhow it was high time the boy was salted</td>\n",
              "    </tr>\n",
              "    <tr>\n",
              "      <th>9</th>\n",
              "      <td>their basis seems deeper than mere authority</td>\n",
              "    </tr>\n",
              "  </tbody>\n",
              "</table>"
            ]
          },
          "metadata": {}
        }
      ]
    },
    {
      "cell_type": "code",
      "source": [
        "def extract_all_chars(batch):\n",
        "  all_text = \" \".join(batch[\"text\"])\n",
        "  vocab = list(set(all_text))\n",
        "  return {\"vocab\": [vocab], \"all_text\": [all_text]}\n",
        "\n",
        "vocabs = timit.map(extract_all_chars, batched=True, batch_size=-1, keep_in_memory=True, remove_columns=timit.column_names[\"train\"])"
      ],
      "metadata": {
        "id": "PmKqLx7q_jdv",
        "outputId": "76f2aa27-865f-4d7a-c93e-5604c9f34d59",
        "colab": {
          "base_uri": "https://localhost:8080/",
          "height": 81,
          "referenced_widgets": [
            "96ef2df8435c4ec7850f13a69d6d71f4",
            "f1c8ca82ee744e90b53ad8258bd59cc9",
            "0b2e542102254dff83e7557a6b27e464",
            "b9adbdcdbab949c3910818e2064c794c",
            "4d1136cf01604a23ab4362b8e88a8d94",
            "cabd3ea8046c4b4bac6820584b23e69a",
            "06fa1cc539cb427b922e66c49352eede",
            "4421becd5d9b494ca146db2189cf86ee",
            "8cce223ddee743e994fb9fe54b827bba",
            "057b24e34ca1496dacba545630f7eff7",
            "18c858c3b2ad4755830787080ff30acb",
            "e66acc96f2f74708a2be73aec48a474a",
            "56740aa3908e40938cb1ebece8ccbf76",
            "8d921bd539424813a6d80424702cbbd6",
            "043bba6347964390ac847b9a4dbe632a",
            "ac2fa14cfecc422ea853088fa49a3461",
            "3b2144c7cd994553a741f4b9778ac9b2",
            "97b4ef1b8cd24aa793cc219fae6a28c3",
            "e9d13307c08144e8924c3f8b3fa8ec81",
            "f067460b99464b6087dc63f59676d430",
            "6da132e30a844782a1e8110f13f79edf",
            "60cc00e3cb0e4ea9a494d4f6f6599a82"
          ]
        }
      },
      "execution_count": 54,
      "outputs": [
        {
          "output_type": "display_data",
          "data": {
            "text/plain": [
              "  0%|          | 0/1 [00:00<?, ?ba/s]"
            ],
            "application/vnd.jupyter.widget-view+json": {
              "version_major": 2,
              "version_minor": 0,
              "model_id": "96ef2df8435c4ec7850f13a69d6d71f4"
            }
          },
          "metadata": {}
        },
        {
          "output_type": "display_data",
          "data": {
            "text/plain": [
              "  0%|          | 0/1 [00:00<?, ?ba/s]"
            ],
            "application/vnd.jupyter.widget-view+json": {
              "version_major": 2,
              "version_minor": 0,
              "model_id": "e66acc96f2f74708a2be73aec48a474a"
            }
          },
          "metadata": {}
        }
      ]
    },
    {
      "cell_type": "code",
      "source": [
        "vocab_list = list(set(vocabs[\"train\"][\"vocab\"][0]) | set(vocabs[\"test\"][\"vocab\"][0]))\n",
        "\n",
        "vocab_dict = {v: k for k, v in enumerate(vocab_list)}\n",
        "vocab_dict"
      ],
      "metadata": {
        "id": "_jx-S8tY_nHO",
        "outputId": "3a4512bd-edfe-4976-972e-36f202a6f6eb",
        "colab": {
          "base_uri": "https://localhost:8080/"
        }
      },
      "execution_count": 55,
      "outputs": [
        {
          "output_type": "execute_result",
          "data": {
            "text/plain": [
              "{'v': 0,\n",
              " 'a': 1,\n",
              " 'k': 2,\n",
              " 'e': 3,\n",
              " 's': 4,\n",
              " 'f': 5,\n",
              " 'q': 6,\n",
              " 'c': 7,\n",
              " 'p': 8,\n",
              " 'd': 9,\n",
              " 'b': 10,\n",
              " 'u': 11,\n",
              " 'x': 12,\n",
              " 'o': 13,\n",
              " \"'\": 14,\n",
              " 'g': 15,\n",
              " 'l': 16,\n",
              " 'n': 17,\n",
              " ' ': 18,\n",
              " 't': 19,\n",
              " 'i': 20,\n",
              " 'r': 21,\n",
              " 'm': 22,\n",
              " 'w': 23,\n",
              " 'y': 24,\n",
              " 'j': 25,\n",
              " 'z': 26,\n",
              " 'h': 27}"
            ]
          },
          "metadata": {},
          "execution_count": 55
        }
      ]
    },
    {
      "cell_type": "code",
      "source": [
        "vocab_dict[\"|\"] = vocab_dict[\" \"]\n",
        "del vocab_dict[\" \"]"
      ],
      "metadata": {
        "id": "kDGrJvSm_-Lr"
      },
      "execution_count": 56,
      "outputs": []
    },
    {
      "cell_type": "code",
      "source": [
        "vocab_dict[\"[UNK]\"] = len(vocab_dict)\n",
        "vocab_dict[\"[PAD]\"] = len(vocab_dict)\n",
        "len(vocab_dict)"
      ],
      "metadata": {
        "colab": {
          "base_uri": "https://localhost:8080/"
        },
        "id": "c1wajl5MAADP",
        "outputId": "0cc1d179-959c-405d-9360-656d9dea9c05"
      },
      "execution_count": 57,
      "outputs": [
        {
          "output_type": "execute_result",
          "data": {
            "text/plain": [
              "30"
            ]
          },
          "metadata": {},
          "execution_count": 57
        }
      ]
    },
    {
      "cell_type": "code",
      "source": [
        "import json\n",
        "with open('vocab.json', 'w') as vocab_file:\n",
        "    json.dump(vocab_dict, vocab_file)"
      ],
      "metadata": {
        "id": "XsidiKawACVa"
      },
      "execution_count": 58,
      "outputs": []
    },
    {
      "cell_type": "code",
      "source": [
        "from transformers import Wav2Vec2CTCTokenizer\n",
        "\n",
        "tokenizer = Wav2Vec2CTCTokenizer.from_pretrained(\"./\", unk_token=\"[UNK]\", pad_token=\"[PAD]\", word_delimiter_token=\"|\")"
      ],
      "metadata": {
        "colab": {
          "base_uri": "https://localhost:8080/"
        },
        "id": "JmH7xkPaANzD",
        "outputId": "ec43d8c3-3b3d-4384-9780-bdd1101e609b"
      },
      "execution_count": 59,
      "outputs": [
        {
          "output_type": "stream",
          "name": "stderr",
          "text": [
            "loading file vocab.json\n",
            "loading file tokenizer_config.json\n",
            "loading file added_tokens.json\n",
            "loading file special_tokens_map.json\n",
            "Adding <s> to the vocabulary\n",
            "Adding </s> to the vocabulary\n",
            "Special tokens have been added in the vocabulary, make sure the associated word embeddings are fine-tuned or trained.\n"
          ]
        }
      ]
    },
    {
      "cell_type": "code",
      "source": [
        "from transformers import Wav2Vec2CTCTokenizer\n",
        "\n",
        "tokenizer = Wav2Vec2CTCTokenizer(\"./vocab.json\", unk_token=\"[UNK]\", pad_token=\"[PAD]\", word_delimiter_token=\"|\")"
      ],
      "metadata": {
        "id": "zdMWcKG3APk5"
      },
      "execution_count": 60,
      "outputs": []
    },
    {
      "cell_type": "code",
      "source": [
        "!huggingface-cli login"
      ],
      "metadata": {
        "id": "gBWhP2PFD_jH",
        "outputId": "1426c3d4-6a81-4287-a09f-5b0a8834488c",
        "colab": {
          "base_uri": "https://localhost:8080/"
        }
      },
      "execution_count": 61,
      "outputs": [
        {
          "output_type": "stream",
          "name": "stdout",
          "text": [
            "\n",
            "    _|    _|  _|    _|    _|_|_|    _|_|_|  _|_|_|  _|      _|    _|_|_|      _|_|_|_|    _|_|      _|_|_|  _|_|_|_|\n",
            "    _|    _|  _|    _|  _|        _|          _|    _|_|    _|  _|            _|        _|    _|  _|        _|\n",
            "    _|_|_|_|  _|    _|  _|  _|_|  _|  _|_|    _|    _|  _|  _|  _|  _|_|      _|_|_|    _|_|_|_|  _|        _|_|_|\n",
            "    _|    _|  _|    _|  _|    _|  _|    _|    _|    _|    _|_|  _|    _|      _|        _|    _|  _|        _|\n",
            "    _|    _|    _|_|      _|_|_|    _|_|_|  _|_|_|  _|      _|    _|_|_|      _|        _|    _|    _|_|_|  _|_|_|_|\n",
            "\n",
            "    To login, `huggingface_hub` now requires a token generated from https://huggingface.co/settings/tokens .\n",
            "    \n",
            "Token: \n",
            "Add token as git credential? (Y/n) n\n",
            "Token is valid.\n",
            "Your token has been saved to /root/.huggingface/token\n",
            "Login successful\n"
          ]
        }
      ]
    },
    {
      "cell_type": "code",
      "source": [
        "from huggingface_hub import create_repo\n",
        "\n",
        "\n",
        "repo_name = \"wav2vec2-base-timit-demo-colab\"\n",
        "\n",
        "\n",
        "tokenizer.push_to_hub(repo_name)"
      ],
      "metadata": {
        "id": "lEA1F6VcAeb2",
        "outputId": "39249a2d-98ed-41e8-9015-33454f5e3afc",
        "colab": {
          "base_uri": "https://localhost:8080/"
        }
      },
      "execution_count": 62,
      "outputs": [
        {
          "output_type": "stream",
          "name": "stderr",
          "text": [
            "tokenizer config file saved in wav2vec2-base-timit-demo-colab/tokenizer_config.json\n",
            "Special tokens file saved in wav2vec2-base-timit-demo-colab/special_tokens_map.json\n",
            "Uploading the following files to thyungkim/wav2vec2-base-timit-demo-colab: tokenizer_config.json,vocab.json,special_tokens_map.json\n"
          ]
        },
        {
          "output_type": "execute_result",
          "data": {
            "text/plain": [
              "CommitInfo(commit_url='https://huggingface.co/thyungkim/wav2vec2-base-timit-demo-colab/commit/50c6eea8f8fb7fe95be2e87ed3679bc92c826bb7', commit_message='Upload tokenizer', commit_description='', oid='50c6eea8f8fb7fe95be2e87ed3679bc92c826bb7', pr_url=None, pr_revision=None, pr_num=None)"
            ]
          },
          "metadata": {},
          "execution_count": 62
        }
      ]
    },
    {
      "cell_type": "code",
      "source": [
        "from transformers import Wav2Vec2FeatureExtractor\n",
        "\n",
        "feature_extractor = Wav2Vec2FeatureExtractor(feature_size=1, sampling_rate=16000, padding_value=0.0, do_normalize=True, return_attention_mask=False)"
      ],
      "metadata": {
        "id": "gp4-dySEAjSX"
      },
      "execution_count": 63,
      "outputs": []
    },
    {
      "cell_type": "code",
      "source": [
        "from transformers import Wav2Vec2Processor\n",
        "\n",
        "processor = Wav2Vec2Processor(feature_extractor=feature_extractor, tokenizer=tokenizer)"
      ],
      "metadata": {
        "id": "cqA6t7xtCGdB"
      },
      "execution_count": 64,
      "outputs": []
    },
    {
      "cell_type": "code",
      "source": [],
      "metadata": {
        "id": "AJKC27wPCK6Q"
      },
      "execution_count": 64,
      "outputs": []
    },
    {
      "cell_type": "code",
      "source": [
        "import IPython.display as ipd\n",
        "import numpy as np\n",
        "import random\n",
        "\n",
        "rand_int = random.randint(0, len(timit[\"train\"]))\n",
        "\n",
        "print(timit[\"train\"][rand_int][\"text\"])\n",
        "ipd.Audio(data=np.asarray(timit[\"train\"][rand_int][\"audio\"][\"array\"]), autoplay=True, rate=16000)"
      ],
      "metadata": {
        "id": "rc92DZP2CK8d",
        "outputId": "a9d0339b-468d-413a-cc0c-fb317af7a8ed",
        "colab": {
          "base_uri": "https://localhost:8080/",
          "height": 92
        }
      },
      "execution_count": 65,
      "outputs": [
        {
          "output_type": "stream",
          "name": "stdout",
          "text": [
            "where're you takin' me\n"
          ]
        },
        {
          "output_type": "execute_result",
          "data": {
            "text/plain": [
              "<IPython.lib.display.Audio object>"
            ],
            "text/html": [
              "\n",
              "                <audio  controls=\"controls\" autoplay=\"autoplay\">\n",
              "                    <source src=\"data:audio/wav;base64,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\" type=\"audio/wav\" />\n",
              "                    Your browser does not support the audio element.\n",
              "                </audio>\n",
              "              "
            ]
          },
          "metadata": {},
          "execution_count": 65
        }
      ]
    },
    {
      "cell_type": "code",
      "source": [
        "rand_int = random.randint(0, len(timit[\"train\"]))\n",
        "\n",
        "print(\"Target text:\", timit[\"train\"][rand_int][\"text\"])\n",
        "print(\"Input array shape:\", np.asarray(timit[\"train\"][rand_int][\"audio\"][\"array\"]).shape)\n",
        "print(\"Sampling rate:\", timit[\"train\"][rand_int][\"audio\"][\"sampling_rate\"])"
      ],
      "metadata": {
        "id": "ug-r3B_jCiS3",
        "outputId": "a21a5caa-3328-4663-ad74-7359c2820bde",
        "colab": {
          "base_uri": "https://localhost:8080/"
        }
      },
      "execution_count": 66,
      "outputs": [
        {
          "output_type": "stream",
          "name": "stdout",
          "text": [
            "Target text: soak up local color\n",
            "Input array shape: (29492,)\n",
            "Sampling rate: 16000\n"
          ]
        }
      ]
    },
    {
      "cell_type": "code",
      "source": [
        "def prepare_dataset(batch):\n",
        "    audio = batch[\"audio\"]\n",
        "\n",
        "    # batched output is \"un-batched\" to ensure mapping is correct\n",
        "    batch[\"input_values\"] = processor(audio[\"array\"], sampling_rate=audio[\"sampling_rate\"]).input_values[0]\n",
        "    \n",
        "    with processor.as_target_processor():\n",
        "        batch[\"labels\"] = processor(batch[\"text\"]).input_ids\n",
        "    return batch"
      ],
      "metadata": {
        "id": "CEwjs3lRCiVI"
      },
      "execution_count": 67,
      "outputs": []
    },
    {
      "cell_type": "code",
      "source": [
        "timit = timit.map(prepare_dataset, remove_columns=timit.column_names[\"train\"], num_proc=4)\n",
        "\n"
      ],
      "metadata": {
        "id": "NE8ZHMeOCiXq",
        "outputId": "f6fde635-0f1f-4cc4-a1e5-a2af119edb59",
        "colab": {
          "base_uri": "https://localhost:8080/",
          "height": 327
        }
      },
      "execution_count": 68,
      "outputs": [
        {
          "output_type": "stream",
          "name": "stderr",
          "text": [
            "/usr/local/lib/python3.9/dist-packages/transformers/models/wav2vec2/processing_wav2vec2.py:154: UserWarning: `as_target_processor` is deprecated and will be removed in v5 of Transformers. You can process your labels by using the argument `text` of the regular `__call__` method (either in the same call as your audio inputs, or in a separate call.\n",
            "  warnings.warn(\n",
            "/usr/local/lib/python3.9/dist-packages/transformers/models/wav2vec2/processing_wav2vec2.py:154: UserWarning: `as_target_processor` is deprecated and will be removed in v5 of Transformers. You can process your labels by using the argument `text` of the regular `__call__` method (either in the same call as your audio inputs, or in a separate call.\n",
            "  warnings.warn(\n",
            "/usr/local/lib/python3.9/dist-packages/transformers/models/wav2vec2/processing_wav2vec2.py:154: UserWarning: `as_target_processor` is deprecated and will be removed in v5 of Transformers. You can process your labels by using the argument `text` of the regular `__call__` method (either in the same call as your audio inputs, or in a separate call.\n",
            "  warnings.warn(\n",
            "/usr/local/lib/python3.9/dist-packages/transformers/models/wav2vec2/processing_wav2vec2.py:154: UserWarning: `as_target_processor` is deprecated and will be removed in v5 of Transformers. You can process your labels by using the argument `text` of the regular `__call__` method (either in the same call as your audio inputs, or in a separate call.\n",
            "  warnings.warn(\n",
            "/usr/local/lib/python3.9/dist-packages/transformers/models/wav2vec2/processing_wav2vec2.py:154: UserWarning: `as_target_processor` is deprecated and will be removed in v5 of Transformers. You can process your labels by using the argument `text` of the regular `__call__` method (either in the same call as your audio inputs, or in a separate call.\n",
            "  warnings.warn(\n",
            "/usr/local/lib/python3.9/dist-packages/transformers/models/wav2vec2/processing_wav2vec2.py:154: UserWarning: `as_target_processor` is deprecated and will be removed in v5 of Transformers. You can process your labels by using the argument `text` of the regular `__call__` method (either in the same call as your audio inputs, or in a separate call.\n",
            "  warnings.warn(\n",
            "/usr/local/lib/python3.9/dist-packages/transformers/models/wav2vec2/processing_wav2vec2.py:154: UserWarning: `as_target_processor` is deprecated and will be removed in v5 of Transformers. You can process your labels by using the argument `text` of the regular `__call__` method (either in the same call as your audio inputs, or in a separate call.\n",
            "  warnings.warn(\n",
            "/usr/local/lib/python3.9/dist-packages/transformers/models/wav2vec2/processing_wav2vec2.py:154: UserWarning: `as_target_processor` is deprecated and will be removed in v5 of Transformers. You can process your labels by using the argument `text` of the regular `__call__` method (either in the same call as your audio inputs, or in a separate call.\n",
            "  warnings.warn(\n"
          ]
        }
      ]
    },
    {
      "cell_type": "code",
      "source": [
        "import torch\n",
        "\n",
        "from dataclasses import dataclass, field\n",
        "from typing import Any, Dict, List, Optional, Union\n",
        "\n",
        "\n",
        "class DataCollatorCTCWithPadding():\n",
        "    \"\"\"\n",
        "    Data collator that will dynamically pad the inputs received.\n",
        "    Args:\n",
        "        processor (:class:`~transformers.Wav2Vec2Processor`)\n",
        "            The processor used for proccessing the data.\n",
        "        padding (:obj:`bool`, :obj:`str` or :class:`~transformers.tokenization_utils_base.PaddingStrategy`, `optional`, defaults to :obj:`True`):\n",
        "            Select a strategy to pad the returned sequences (according to the model's padding side and padding index)\n",
        "            among:\n",
        "            * :obj:`True` or :obj:`'longest'`: Pad to the longest sequence in the batch (or no padding if only a single\n",
        "              sequence if provided).\n",
        "            * :obj:`'max_length'`: Pad to a maximum length specified with the argument :obj:`max_length` or to the\n",
        "              maximum acceptable input length for the model if that argument is not provided.\n",
        "            * :obj:`False` or :obj:`'do_not_pad'` (default): No padding (i.e., can output a batch with sequences of\n",
        "              different lengths).\n",
        "        max_length (:obj:`int`, `optional`):\n",
        "            Maximum length of the ``input_values`` of the returned list and optionally padding length (see above).\n",
        "        max_length_labels (:obj:`int`, `optional`):\n",
        "            Maximum length of the ``labels`` returned list and optionally padding length (see above).\n",
        "        pad_to_multiple_of (:obj:`int`, `optional`):\n",
        "            If set will pad the sequence to a multiple of the provided value.\n",
        "            This is especially useful to enable the use of Tensor Cores on NVIDIA hardware with compute capability >=\n",
        "            7.5 (Volta).\n",
        "    \"\"\"\n",
        "\n",
        "    processor: Wav2Vec2Processor\n",
        "    padding: Union[bool, str] = True\n",
        "    max_length: Optional[int] = None\n",
        "    max_length_labels: Optional[int] = None\n",
        "    pad_to_multiple_of: Optional[int] = None\n",
        "    pad_to_multiple_of_labels: Optional[int] = None\n",
        "\n",
        "    def __init__(self, processor, padding):\n",
        "        self.processor = processor\n",
        "        self.padding = padding\n",
        "\n",
        "    def __call__(self, features: List[Dict[str, Union[List[int], torch.Tensor]]]) -> Dict[str, torch.Tensor]:\n",
        "        # split inputs and labels since they have to be of different lengths and need\n",
        "        # different padding methods\n",
        "        input_features = [{\"input_values\": feature[\"input_values\"]} for feature in features]\n",
        "        label_features = [{\"input_ids\": feature[\"labels\"]} for feature in features]\n",
        "\n",
        "        batch = self.processor.pad(\n",
        "            input_features,\n",
        "            padding=self.padding,\n",
        "            max_length=self.max_length,\n",
        "            pad_to_multiple_of=self.pad_to_multiple_of,\n",
        "            return_tensors=\"pt\",\n",
        "        )\n",
        "        with self.processor.as_target_processor():\n",
        "            labels_batch = self.processor.pad(\n",
        "                label_features,\n",
        "                padding=self.padding,\n",
        "                max_length=self.max_length_labels,\n",
        "                pad_to_multiple_of=self.pad_to_multiple_of_labels,\n",
        "                return_tensors=\"pt\",\n",
        "            )\n",
        "\n",
        "        # replace padding with -100 to ignore loss correctly\n",
        "        labels = labels_batch[\"input_ids\"].masked_fill(labels_batch.attention_mask.ne(1), -100)\n",
        "\n",
        "        batch[\"labels\"] = labels\n",
        "\n",
        "        return batch"
      ],
      "metadata": {
        "id": "i_6TphQrCtiV"
      },
      "execution_count": 69,
      "outputs": []
    },
    {
      "cell_type": "code",
      "source": [
        "data_collator = DataCollatorCTCWithPadding(processor=processor, padding=True)\n",
        "\n"
      ],
      "metadata": {
        "id": "pB8DSDFiCtmR"
      },
      "execution_count": 70,
      "outputs": []
    },
    {
      "cell_type": "code",
      "source": [
        "wer_metric = load_metric(\"wer\")\n",
        "\n"
      ],
      "metadata": {
        "id": "hfxqpe40Ctor"
      },
      "execution_count": 71,
      "outputs": []
    },
    {
      "cell_type": "code",
      "source": [
        "def compute_metrics(pred):\n",
        "    pred_logits = pred.predictions\n",
        "    pred_ids = np.argmax(pred_logits, axis=-1)\n",
        "\n",
        "    pred.label_ids[pred.label_ids == -100] = processor.tokenizer.pad_token_id\n",
        "\n",
        "    pred_str = processor.batch_decode(pred_ids)\n",
        "    # we do not want to group tokens when computing the metrics\n",
        "    label_str = processor.batch_decode(pred.label_ids, group_tokens=False)\n",
        "\n",
        "    wer = wer_metric.compute(predictions=pred_str, references=label_str)\n",
        "\n",
        "    return {\"wer\": wer}"
      ],
      "metadata": {
        "id": "MeRzty9rAnmk"
      },
      "execution_count": 72,
      "outputs": []
    },
    {
      "cell_type": "code",
      "source": [
        "from transformers import Wav2Vec2ForCTC\n",
        "\n",
        "model = Wav2Vec2ForCTC.from_pretrained(\n",
        "    \"facebook/wav2vec2-base\", \n",
        "    ctc_loss_reduction=\"mean\", \n",
        "    pad_token_id=processor.tokenizer.pad_token_id,\n",
        ")"
      ],
      "metadata": {
        "colab": {
          "base_uri": "https://localhost:8080/"
        },
        "id": "Tlz6ZoFQBlac",
        "outputId": "0ff17e3a-74c5-46ae-e475-035112d1fe20"
      },
      "execution_count": 73,
      "outputs": [
        {
          "output_type": "stream",
          "name": "stderr",
          "text": [
            "loading configuration file config.json from cache at /root/.cache/huggingface/hub/models--facebook--wav2vec2-base/snapshots/0b5b8e868dd84f03fd87d01f9c4ff0f080fecfe8/config.json\n",
            "/usr/local/lib/python3.9/dist-packages/transformers/configuration_utils.py:369: UserWarning: Passing `gradient_checkpointing` to a config initialization is deprecated and will be removed in v5 Transformers. Using `model.gradient_checkpointing_enable()` instead, or if you are using the `Trainer` API, pass `gradient_checkpointing=True` in your `TrainingArguments`.\n",
            "  warnings.warn(\n",
            "Model config Wav2Vec2Config {\n",
            "  \"activation_dropout\": 0.0,\n",
            "  \"adapter_kernel_size\": 3,\n",
            "  \"adapter_stride\": 2,\n",
            "  \"add_adapter\": false,\n",
            "  \"apply_spec_augment\": true,\n",
            "  \"architectures\": [\n",
            "    \"Wav2Vec2ForPreTraining\"\n",
            "  ],\n",
            "  \"attention_dropout\": 0.1,\n",
            "  \"bos_token_id\": 1,\n",
            "  \"classifier_proj_size\": 256,\n",
            "  \"codevector_dim\": 256,\n",
            "  \"contrastive_logits_temperature\": 0.1,\n",
            "  \"conv_bias\": false,\n",
            "  \"conv_dim\": [\n",
            "    512,\n",
            "    512,\n",
            "    512,\n",
            "    512,\n",
            "    512,\n",
            "    512,\n",
            "    512\n",
            "  ],\n",
            "  \"conv_kernel\": [\n",
            "    10,\n",
            "    3,\n",
            "    3,\n",
            "    3,\n",
            "    3,\n",
            "    2,\n",
            "    2\n",
            "  ],\n",
            "  \"conv_stride\": [\n",
            "    5,\n",
            "    2,\n",
            "    2,\n",
            "    2,\n",
            "    2,\n",
            "    2,\n",
            "    2\n",
            "  ],\n",
            "  \"ctc_loss_reduction\": \"mean\",\n",
            "  \"ctc_zero_infinity\": false,\n",
            "  \"diversity_loss_weight\": 0.1,\n",
            "  \"do_stable_layer_norm\": false,\n",
            "  \"eos_token_id\": 2,\n",
            "  \"feat_extract_activation\": \"gelu\",\n",
            "  \"feat_extract_norm\": \"group\",\n",
            "  \"feat_proj_dropout\": 0.1,\n",
            "  \"feat_quantizer_dropout\": 0.0,\n",
            "  \"final_dropout\": 0.0,\n",
            "  \"freeze_feat_extract_train\": true,\n",
            "  \"gradient_checkpointing\": true,\n",
            "  \"hidden_act\": \"gelu\",\n",
            "  \"hidden_dropout\": 0.1,\n",
            "  \"hidden_size\": 768,\n",
            "  \"initializer_range\": 0.02,\n",
            "  \"intermediate_size\": 3072,\n",
            "  \"layer_norm_eps\": 1e-05,\n",
            "  \"layerdrop\": 0.0,\n",
            "  \"mask_channel_length\": 10,\n",
            "  \"mask_channel_min_space\": 1,\n",
            "  \"mask_channel_other\": 0.0,\n",
            "  \"mask_channel_prob\": 0.0,\n",
            "  \"mask_channel_selection\": \"static\",\n",
            "  \"mask_feature_length\": 10,\n",
            "  \"mask_feature_min_masks\": 0,\n",
            "  \"mask_feature_prob\": 0.0,\n",
            "  \"mask_time_length\": 10,\n",
            "  \"mask_time_min_masks\": 2,\n",
            "  \"mask_time_min_space\": 1,\n",
            "  \"mask_time_other\": 0.0,\n",
            "  \"mask_time_prob\": 0.05,\n",
            "  \"mask_time_selection\": \"static\",\n",
            "  \"model_type\": \"wav2vec2\",\n",
            "  \"no_mask_channel_overlap\": false,\n",
            "  \"no_mask_time_overlap\": false,\n",
            "  \"num_adapter_layers\": 3,\n",
            "  \"num_attention_heads\": 12,\n",
            "  \"num_codevector_groups\": 2,\n",
            "  \"num_codevectors_per_group\": 320,\n",
            "  \"num_conv_pos_embedding_groups\": 16,\n",
            "  \"num_conv_pos_embeddings\": 128,\n",
            "  \"num_feat_extract_layers\": 7,\n",
            "  \"num_hidden_layers\": 12,\n",
            "  \"num_negatives\": 100,\n",
            "  \"output_hidden_size\": 768,\n",
            "  \"pad_token_id\": 29,\n",
            "  \"proj_codevector_dim\": 256,\n",
            "  \"tdnn_dilation\": [\n",
            "    1,\n",
            "    2,\n",
            "    3,\n",
            "    1,\n",
            "    1\n",
            "  ],\n",
            "  \"tdnn_dim\": [\n",
            "    512,\n",
            "    512,\n",
            "    512,\n",
            "    512,\n",
            "    1500\n",
            "  ],\n",
            "  \"tdnn_kernel\": [\n",
            "    5,\n",
            "    3,\n",
            "    3,\n",
            "    1,\n",
            "    1\n",
            "  ],\n",
            "  \"transformers_version\": \"4.24.0\",\n",
            "  \"use_weighted_layer_sum\": false,\n",
            "  \"vocab_size\": 32,\n",
            "  \"xvector_output_dim\": 512\n",
            "}\n",
            "\n",
            "loading weights file pytorch_model.bin from cache at /root/.cache/huggingface/hub/models--facebook--wav2vec2-base/snapshots/0b5b8e868dd84f03fd87d01f9c4ff0f080fecfe8/pytorch_model.bin\n",
            "Some weights of the model checkpoint at facebook/wav2vec2-base were not used when initializing Wav2Vec2ForCTC: ['project_hid.bias', 'quantizer.weight_proj.weight', 'project_q.weight', 'quantizer.codevectors', 'quantizer.weight_proj.bias', 'project_q.bias', 'project_hid.weight']\n",
            "- This IS expected if you are initializing Wav2Vec2ForCTC from the checkpoint of a model trained on another task or with another architecture (e.g. initializing a BertForSequenceClassification model from a BertForPreTraining model).\n",
            "- This IS NOT expected if you are initializing Wav2Vec2ForCTC from the checkpoint of a model that you expect to be exactly identical (initializing a BertForSequenceClassification model from a BertForSequenceClassification model).\n",
            "Some weights of Wav2Vec2ForCTC were not initialized from the model checkpoint at facebook/wav2vec2-base and are newly initialized: ['lm_head.weight', 'lm_head.bias']\n",
            "You should probably TRAIN this model on a down-stream task to be able to use it for predictions and inference.\n"
          ]
        }
      ]
    },
    {
      "cell_type": "code",
      "source": [
        "model.freeze_feature_extractor()\n",
        "\n"
      ],
      "metadata": {
        "id": "Ts6q9TQjBq1_",
        "outputId": "243712be-6c3d-47c8-9d4f-a0e84d205ea9",
        "colab": {
          "base_uri": "https://localhost:8080/"
        }
      },
      "execution_count": 74,
      "outputs": [
        {
          "output_type": "stream",
          "name": "stderr",
          "text": [
            "/usr/local/lib/python3.9/dist-packages/transformers/models/wav2vec2/modeling_wav2vec2.py:1635: FutureWarning: The method `freeze_feature_extractor` is deprecated and will be removed in Transformers v5.Please use the equivalent `freeze_feature_encoder` method instead.\n",
            "  warnings.warn(\n"
          ]
        }
      ]
    },
    {
      "cell_type": "code",
      "source": [
        "from transformers import TrainingArguments\n",
        "\n",
        "training_args = TrainingArguments(\n",
        "  output_dir=repo_name,\n",
        "  group_by_length=True,\n",
        "  per_device_train_batch_size=32,\n",
        "  evaluation_strategy=\"steps\",\n",
        "  num_train_epochs=30,\n",
        "  fp16=False,\n",
        "  gradient_checkpointing=True, \n",
        "  save_steps=500,\n",
        "  eval_steps=500,\n",
        "  logging_steps=500,\n",
        "  learning_rate=1e-4,\n",
        "  weight_decay=0.005,\n",
        "  warmup_steps=1000,\n",
        "  save_total_limit=2,\n",
        ")"
      ],
      "metadata": {
        "id": "9esOXlb5Ga16",
        "outputId": "0bee661d-49e5-46a6-9ef6-ad60e3a5c2e1",
        "colab": {
          "base_uri": "https://localhost:8080/"
        }
      },
      "execution_count": 75,
      "outputs": [
        {
          "output_type": "stream",
          "name": "stderr",
          "text": [
            "PyTorch: setting up devices\n",
            "The default value for the training argument `--report_to` will change in v5 (from all installed integrations to none). In v5, you will need to use `--report_to all` to get the same behavior as now. You should start updating your code and make this info disappear :-).\n"
          ]
        }
      ]
    },
    {
      "cell_type": "code",
      "source": [
        "from transformers import Trainer\n",
        "\n",
        "trainer = Trainer(\n",
        "    model=model,\n",
        "    data_collator=data_collator,\n",
        "    args=training_args,\n",
        "    compute_metrics=compute_metrics,\n",
        "    train_dataset=timit[\"train\"],\n",
        "    eval_dataset=timit[\"test\"],\n",
        "    tokenizer=processor.feature_extractor,\n",
        ")"
      ],
      "metadata": {
        "id": "CBLzFHw9LGNF"
      },
      "execution_count": 76,
      "outputs": []
    },
    {
      "cell_type": "code",
      "source": [
        "function ConnectButton(){\n",
        "    console.log(\"Connect pushed\"); \n",
        "    document.querySelector(\"#top-toolbar > colab-connect-button\").shadowRoot.querySelector(\"#connect\").click() \n",
        "}\n",
        "setInterval(ConnectButton,60000);"
      ],
      "metadata": {
        "id": "Sz-vcgwsLGRo",
        "outputId": "d7a0258e-3b70-424a-a2b9-896339921469",
        "colab": {
          "base_uri": "https://localhost:8080/",
          "height": 136
        }
      },
      "execution_count": 77,
      "outputs": [
        {
          "output_type": "error",
          "ename": "SyntaxError",
          "evalue": "ignored",
          "traceback": [
            "\u001b[0;36m  File \u001b[0;32m\"<ipython-input-77-99b5b9a6ae1d>\"\u001b[0;36m, line \u001b[0;32m1\u001b[0m\n\u001b[0;31m    function ConnectButton(){\u001b[0m\n\u001b[0m             ^\u001b[0m\n\u001b[0;31mSyntaxError\u001b[0m\u001b[0;31m:\u001b[0m invalid syntax\n"
          ]
        }
      ]
    },
    {
      "cell_type": "code",
      "source": [
        "trainer.train()\n",
        "\n"
      ],
      "metadata": {
        "id": "QJ6uKGjTLKsY",
        "outputId": "39c63593-93f3-4ad1-851e-19f2cf87d943",
        "colab": {
          "base_uri": "https://localhost:8080/",
          "height": 373
        }
      },
      "execution_count": null,
      "outputs": [
        {
          "metadata": {
            "tags": null
          },
          "name": "stderr",
          "output_type": "stream",
          "text": [
            "/usr/local/lib/python3.9/dist-packages/transformers/optimization.py:306: FutureWarning: This implementation of AdamW is deprecated and will be removed in a future version. Use the PyTorch implementation torch.optim.AdamW instead, or set `no_deprecation_warning=True` to disable this warning\n",
            "  warnings.warn(\n",
            "***** Running training *****\n",
            "  Num examples = 4620\n",
            "  Num Epochs = 30\n",
            "  Instantaneous batch size per device = 32\n",
            "  Total train batch size (w. parallel, distributed & accumulation) = 32\n",
            "  Gradient Accumulation steps = 1\n",
            "  Total optimization steps = 4350\n",
            "  Number of trainable parameters = 90195872\n",
            "/usr/local/lib/python3.9/dist-packages/transformers/models/wav2vec2/processing_wav2vec2.py:154: UserWarning: `as_target_processor` is deprecated and will be removed in v5 of Transformers. You can process your labels by using the argument `text` of the regular `__call__` method (either in the same call as your audio inputs, or in a separate call.\n",
            "  warnings.warn(\n"
          ]
        },
        {
          "data": {
            "text/html": [
              "\n",
              "    <div>\n",
              "      \n",
              "      <progress value='149' max='4350' style='width:300px; height:20px; vertical-align: middle;'></progress>\n",
              "      [ 149/4350 3:17:07 < 93:53:28, 0.01 it/s, Epoch 1.02/30]\n",
              "    </div>\n",
              "    <table border=\"1\" class=\"dataframe\">\n",
              "  <thead>\n",
              " <tr style=\"text-align: left;\">\n",
              "      <th>Step</th>\n",
              "      <th>Training Loss</th>\n",
              "      <th>Validation Loss</th>\n",
              "    </tr>\n",
              "  </thead>\n",
              "  <tbody>\n",
              "  </tbody>\n",
              "</table><p>"
            ],
            "text/plain": [
              "<IPython.core.display.HTML object>"
            ]
          },
          "metadata": {},
          "output_type": "display_data"
        },
        {
          "output_type": "display_data",
          "data": {
            "text/plain": [
              "<IPython.core.display.HTML object>"
            ],
            "text/html": [
              "\n",
              "    <div>\n",
              "      \n",
              "      <progress value='198' max='4350' style='width:300px; height:20px; vertical-align: middle;'></progress>\n",
              "      [ 198/4350 4:22:04 < 92:31:52, 0.01 it/s, Epoch 1.36/30]\n",
              "    </div>\n",
              "    <table border=\"1\" class=\"dataframe\">\n",
              "  <thead>\n",
              " <tr style=\"text-align: left;\">\n",
              "      <th>Step</th>\n",
              "      <th>Training Loss</th>\n",
              "      <th>Validation Loss</th>\n",
              "    </tr>\n",
              "  </thead>\n",
              "  <tbody>\n",
              "  </tbody>\n",
              "</table><p>"
            ]
          },
          "metadata": {}
        }
      ]
    },
    {
      "cell_type": "code",
      "source": [
        "trainer.push_to_hub()\n",
        "\n"
      ],
      "metadata": {
        "id": "53-XbwADLMbB"
      },
      "execution_count": null,
      "outputs": []
    },
    {
      "cell_type": "code",
      "source": [
        "from transformers import AutoModelForCTC, Wav2Vec2Processor\n",
        "\n",
        "model = AutoModelForCTC.from_pretrained(\"patrickvonplaten/wav2vec2-base-timit-demo-colab\")\n",
        "processor = Wav2Vec2Processor.from_pretrained(\"patrickvonplaten/wav2vec2-base-timit-demo-colab\")"
      ],
      "metadata": {
        "id": "UlCsxo7xLOCb"
      },
      "execution_count": null,
      "outputs": []
    },
    {
      "cell_type": "code",
      "source": [
        "processor = Wav2Vec2Processor.from_pretrained(repo_name)\n",
        "model = Wav2Vec2ForCTC.from_pretrained(repo_name)"
      ],
      "metadata": {
        "id": "g8m4AtK_LUKG"
      },
      "execution_count": null,
      "outputs": []
    },
    {
      "cell_type": "code",
      "source": [
        "def map_to_result(batch):\n",
        "  with torch.no_grad():\n",
        "    input_values = torch.tensor(batch[\"input_values\"], device=\"cuda\").unsqueeze(0)\n",
        "    logits = model(input_values).logits\n",
        "\n",
        "  pred_ids = torch.argmax(logits, dim=-1)\n",
        "  batch[\"pred_str\"] = processor.batch_decode(pred_ids)[0]\n",
        "  batch[\"text\"] = processor.decode(batch[\"labels\"], group_tokens=False)\n",
        "  \n",
        "  return batch\n",
        "\n",
        "results = timit[\"test\"].map(map_to_result, remove_columns=timit[\"test\"].column_names)"
      ],
      "metadata": {
        "id": "OXoT_Gv8Li0f"
      },
      "execution_count": null,
      "outputs": []
    },
    {
      "cell_type": "code",
      "source": [
        "model.to(\"cuda\")\n",
        "\n",
        "with torch.no_grad():\n",
        "  logits = model(torch.tensor(timit[\"test\"][:1][\"input_values\"], device=\"cuda\")).logits\n",
        "\n",
        "pred_ids = torch.argmax(logits, dim=-1)\n",
        "\n",
        "# convert ids to tokens\n",
        "\" \".join(processor.tokenizer.convert_ids_to_tokens(pred_ids[0].tolist()))"
      ],
      "metadata": {
        "id": "g4Pb6MEDL6gt"
      },
      "execution_count": null,
      "outputs": []
    }
  ]
}