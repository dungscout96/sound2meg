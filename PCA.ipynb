{
  "nbformat": 4,
  "nbformat_minor": 0,
  "metadata": {
    "colab": {
      "provenance": [],
      "mount_file_id": "1jDL-Lhq8rziHI6Bjj4nUvhNzzGZ0uF_K",
      "authorship_tag": "ABX9TyMeUGWTT+RlFBns6WBm950z",
      "include_colab_link": true
    },
    "kernelspec": {
      "name": "python3",
      "display_name": "Python 3"
    },
    "language_info": {
      "name": "python"
    }
  },
  "cells": [
    {
      "cell_type": "markdown",
      "metadata": {
        "id": "view-in-github",
        "colab_type": "text"
      },
      "source": [
        "<a href=\"https://colab.research.google.com/github/sccn/sound2meg/blob/main/PCA.ipynb\" target=\"_parent\"><img src=\"https://colab.research.google.com/assets/colab-badge.svg\" alt=\"Open In Colab\"/></a>"
      ]
    },
    {
      "cell_type": "code",
      "execution_count": 1,
      "metadata": {
        "id": "sQ1q3Jbwenp5"
      },
      "outputs": [],
      "source": [
        "import numpy as np"
      ]
    },
    {
      "cell_type": "code",
      "source": [
        "import os\n",
        "files = os.listdir('/content/drive/MyDrive/Embedding/')[1:]\n",
        "total_wav = np.load('/content/drive/MyDrive/Embedding/001.npy')[0]\n",
        "for file in files[1:]:\n",
        "  wav = np.load('/content/drive/MyDrive/Embedding/' + file)[0]\n",
        "  total_wav = np.append(total_wav, wav, axis = 0)\n",
        "print(total_wav.shape)"
      ],
      "metadata": {
        "colab": {
          "base_uri": "https://localhost:8080/"
        },
        "id": "0gYSeeSehrsN",
        "outputId": "64ccb77f-f253-4b5d-d7c8-5649d6dbfb94"
      },
      "execution_count": 31,
      "outputs": [
        {
          "output_type": "stream",
          "name": "stdout",
          "text": [
            "(290880, 1024)\n"
          ]
        }
      ]
    },
    {
      "cell_type": "code",
      "source": [
        "from sklearn.decomposition import PCA\n",
        "pca = PCA(n_components = 120)\n",
        "dim_reducer = pca.fit(total_wav)"
      ],
      "metadata": {
        "id": "c-awYCbOjY2L"
      },
      "execution_count": 32,
      "outputs": []
    },
    {
      "cell_type": "code",
      "source": [
        "for file in files:\n",
        "  wav = np.load('/content/drive/MyDrive/Embedding/' + file)[0]\n",
        "  new_wav = dim_reducer.transform(wav)\n",
        "  np.save('/content/drive/MyDrive/Wav2Vec_Embeddings/' + file, new_wav)"
      ],
      "metadata": {
        "id": "ogz7JwcQjwUZ"
      },
      "execution_count": 36,
      "outputs": []
    }
  ]
}